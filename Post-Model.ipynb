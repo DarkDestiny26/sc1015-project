{
 "cells": [
  {
   "cell_type": "markdown",
   "metadata": {},
   "source": [
    "# Statistical Inference"
   ]
  },
  {
   "cell_type": "markdown",
   "metadata": {},
   "source": [
    "## Import libraries"
   ]
  },
  {
   "cell_type": "code",
   "execution_count": 1,
   "metadata": {},
   "outputs": [],
   "source": [
    "import pandas as pd\n",
    "import seaborn as sns\n",
    "import numpy as np\n",
    "import plotly.graph_objects as go\n",
    "from IPython.display import display\n",
    "from sklearn.metrics import mean_squared_error as mse\n",
    "from sklearn.linear_model import LinearRegression\n",
    "from sklearn.preprocessing import PolynomialFeatures\n",
    "from sklearn.model_selection import train_test_split\n",
    "sns.set()"
   ]
  },
  {
   "cell_type": "code",
   "execution_count": 19,
   "metadata": {},
   "outputs": [
    {
     "data": {
      "text/html": [
       "<div>\n",
       "<style scoped>\n",
       "    .dataframe tbody tr th:only-of-type {\n",
       "        vertical-align: middle;\n",
       "    }\n",
       "\n",
       "    .dataframe tbody tr th {\n",
       "        vertical-align: top;\n",
       "    }\n",
       "\n",
       "    .dataframe thead th {\n",
       "        text-align: right;\n",
       "    }\n",
       "</style>\n",
       "<table border=\"1\" class=\"dataframe\">\n",
       "  <thead>\n",
       "    <tr style=\"text-align: right;\">\n",
       "      <th></th>\n",
       "      <th>gdp</th>\n",
       "      <th>gnp</th>\n",
       "      <th>real_gdp</th>\n",
       "      <th>real_gdp_per_capita</th>\n",
       "      <th>net_exports</th>\n",
       "      <th>gni</th>\n",
       "      <th>govt_spending</th>\n",
       "      <th>consumer_spending</th>\n",
       "      <th>private_domestic_investment</th>\n",
       "      <th>cpi</th>\n",
       "      <th>consumer_oil_price</th>\n",
       "      <th>ir</th>\n",
       "      <th>unemployment_rate</th>\n",
       "      <th>Close</th>\n",
       "      <th>Volume</th>\n",
       "      <th>ClosePrev</th>\n",
       "      <th>CloseNext</th>\n",
       "    </tr>\n",
       "  </thead>\n",
       "  <tbody>\n",
       "    <tr>\n",
       "      <th>0</th>\n",
       "      <td>308.153</td>\n",
       "      <td>309.760</td>\n",
       "      <td>2340.112</td>\n",
       "      <td>15398.0</td>\n",
       "      <td>-0.740</td>\n",
       "      <td>307.413</td>\n",
       "      <td>600.663</td>\n",
       "      <td>200.505</td>\n",
       "      <td>1.247</td>\n",
       "      <td>24.203</td>\n",
       "      <td>11.267</td>\n",
       "      <td>1.61</td>\n",
       "      <td>4.6</td>\n",
       "      <td>18.180000</td>\n",
       "      <td>2.760741e+07</td>\n",
       "      <td>17.186667</td>\n",
       "      <td>18.570000</td>\n",
       "    </tr>\n",
       "    <tr>\n",
       "      <th>1</th>\n",
       "      <td>319.945</td>\n",
       "      <td>321.554</td>\n",
       "      <td>2384.920</td>\n",
       "      <td>15623.0</td>\n",
       "      <td>-0.154</td>\n",
       "      <td>319.791</td>\n",
       "      <td>643.100</td>\n",
       "      <td>197.946</td>\n",
       "      <td>1.289</td>\n",
       "      <td>24.693</td>\n",
       "      <td>11.500</td>\n",
       "      <td>1.75</td>\n",
       "      <td>4.2</td>\n",
       "      <td>18.570000</td>\n",
       "      <td>2.260370e+07</td>\n",
       "      <td>18.180000</td>\n",
       "      <td>19.816667</td>\n",
       "    </tr>\n",
       "    <tr>\n",
       "      <th>2</th>\n",
       "      <td>336.000</td>\n",
       "      <td>337.537</td>\n",
       "      <td>2417.311</td>\n",
       "      <td>15769.0</td>\n",
       "      <td>0.177</td>\n",
       "      <td>336.177</td>\n",
       "      <td>711.537</td>\n",
       "      <td>209.207</td>\n",
       "      <td>1.296</td>\n",
       "      <td>25.697</td>\n",
       "      <td>11.700</td>\n",
       "      <td>1.75</td>\n",
       "      <td>3.5</td>\n",
       "      <td>19.816667</td>\n",
       "      <td>3.068148e+07</td>\n",
       "      <td>18.570000</td>\n",
       "      <td>21.620000</td>\n",
       "    </tr>\n",
       "    <tr>\n",
       "      <th>3</th>\n",
       "      <td>344.090</td>\n",
       "      <td>345.973</td>\n",
       "      <td>2459.196</td>\n",
       "      <td>15979.0</td>\n",
       "      <td>1.943</td>\n",
       "      <td>346.033</td>\n",
       "      <td>806.376</td>\n",
       "      <td>204.942</td>\n",
       "      <td>1.332</td>\n",
       "      <td>25.947</td>\n",
       "      <td>11.933</td>\n",
       "      <td>1.75</td>\n",
       "      <td>3.1</td>\n",
       "      <td>21.620000</td>\n",
       "      <td>3.020555e+07</td>\n",
       "      <td>19.816667</td>\n",
       "      <td>21.636667</td>\n",
       "    </tr>\n",
       "    <tr>\n",
       "      <th>4</th>\n",
       "      <td>351.385</td>\n",
       "      <td>353.381</td>\n",
       "      <td>2509.880</td>\n",
       "      <td>16234.0</td>\n",
       "      <td>3.742</td>\n",
       "      <td>355.127</td>\n",
       "      <td>895.015</td>\n",
       "      <td>207.616</td>\n",
       "      <td>1.385</td>\n",
       "      <td>25.933</td>\n",
       "      <td>11.933</td>\n",
       "      <td>1.75</td>\n",
       "      <td>3.2</td>\n",
       "      <td>21.636667</td>\n",
       "      <td>2.172778e+07</td>\n",
       "      <td>21.620000</td>\n",
       "      <td>22.980000</td>\n",
       "    </tr>\n",
       "    <tr>\n",
       "      <th>...</th>\n",
       "      <td>...</td>\n",
       "      <td>...</td>\n",
       "      <td>...</td>\n",
       "      <td>...</td>\n",
       "      <td>...</td>\n",
       "      <td>...</td>\n",
       "      <td>...</td>\n",
       "      <td>...</td>\n",
       "      <td>...</td>\n",
       "      <td>...</td>\n",
       "      <td>...</td>\n",
       "      <td>...</td>\n",
       "      <td>...</td>\n",
       "      <td>...</td>\n",
       "      <td>...</td>\n",
       "      <td>...</td>\n",
       "      <td>...</td>\n",
       "    </tr>\n",
       "    <tr>\n",
       "      <th>279</th>\n",
       "      <td>19477.444</td>\n",
       "      <td>19649.442</td>\n",
       "      <td>17258.205</td>\n",
       "      <td>52031.0</td>\n",
       "      <td>-538.876</td>\n",
       "      <td>18938.568</td>\n",
       "      <td>3378.132</td>\n",
       "      <td>12989.729</td>\n",
       "      <td>519.850</td>\n",
       "      <td>256.418</td>\n",
       "      <td>219.570</td>\n",
       "      <td>0.25</td>\n",
       "      <td>13.0</td>\n",
       "      <td>2921.443333</td>\n",
       "      <td>5.985144e+10</td>\n",
       "      <td>3136.440000</td>\n",
       "      <td>3019.010000</td>\n",
       "    </tr>\n",
       "    <tr>\n",
       "      <th>280</th>\n",
       "      <td>21138.574</td>\n",
       "      <td>21365.412</td>\n",
       "      <td>18560.774</td>\n",
       "      <td>55933.0</td>\n",
       "      <td>-725.723</td>\n",
       "      <td>20412.851</td>\n",
       "      <td>3360.238</td>\n",
       "      <td>14293.832</td>\n",
       "      <td>539.864</td>\n",
       "      <td>259.438</td>\n",
       "      <td>232.403</td>\n",
       "      <td>0.25</td>\n",
       "      <td>8.8</td>\n",
       "      <td>3019.010000</td>\n",
       "      <td>6.714349e+10</td>\n",
       "      <td>2921.443333</td>\n",
       "      <td>3378.143333</td>\n",
       "    </tr>\n",
       "    <tr>\n",
       "      <th>281</th>\n",
       "      <td>21477.597</td>\n",
       "      <td>21728.223</td>\n",
       "      <td>18767.778</td>\n",
       "      <td>56533.0</td>\n",
       "      <td>-798.431</td>\n",
       "      <td>20679.166</td>\n",
       "      <td>3356.030</td>\n",
       "      <td>14467.611</td>\n",
       "      <td>561.269</td>\n",
       "      <td>260.879</td>\n",
       "      <td>234.862</td>\n",
       "      <td>0.25</td>\n",
       "      <td>6.8</td>\n",
       "      <td>3378.143333</td>\n",
       "      <td>5.204018e+10</td>\n",
       "      <td>3019.010000</td>\n",
       "      <td>3549.220000</td>\n",
       "    </tr>\n",
       "    <tr>\n",
       "      <th>282</th>\n",
       "      <td>22038.226</td>\n",
       "      <td>22273.060</td>\n",
       "      <td>19055.655</td>\n",
       "      <td>57405.0</td>\n",
       "      <td>-872.540</td>\n",
       "      <td>21165.686</td>\n",
       "      <td>3390.921</td>\n",
       "      <td>15005.444</td>\n",
       "      <td>576.340</td>\n",
       "      <td>263.525</td>\n",
       "      <td>274.983</td>\n",
       "      <td>0.25</td>\n",
       "      <td>6.2</td>\n",
       "      <td>3549.220000</td>\n",
       "      <td>5.152288e+10</td>\n",
       "      <td>3378.143333</td>\n",
       "      <td>3832.760000</td>\n",
       "    </tr>\n",
       "    <tr>\n",
       "      <th>283</th>\n",
       "      <td>22740.959</td>\n",
       "      <td>22971.357</td>\n",
       "      <td>19368.310</td>\n",
       "      <td>58335.0</td>\n",
       "      <td>-881.689</td>\n",
       "      <td>21859.270</td>\n",
       "      <td>3373.765</td>\n",
       "      <td>15681.699</td>\n",
       "      <td>594.504</td>\n",
       "      <td>268.760</td>\n",
       "      <td>289.754</td>\n",
       "      <td>0.25</td>\n",
       "      <td>5.9</td>\n",
       "      <td>3832.760000</td>\n",
       "      <td>5.277860e+10</td>\n",
       "      <td>3549.220000</td>\n",
       "      <td>4227.593333</td>\n",
       "    </tr>\n",
       "  </tbody>\n",
       "</table>\n",
       "<p>284 rows × 17 columns</p>\n",
       "</div>"
      ],
      "text/plain": [
       "           gdp        gnp   real_gdp  real_gdp_per_capita  net_exports  \\\n",
       "0      308.153    309.760   2340.112              15398.0       -0.740   \n",
       "1      319.945    321.554   2384.920              15623.0       -0.154   \n",
       "2      336.000    337.537   2417.311              15769.0        0.177   \n",
       "3      344.090    345.973   2459.196              15979.0        1.943   \n",
       "4      351.385    353.381   2509.880              16234.0        3.742   \n",
       "..         ...        ...        ...                  ...          ...   \n",
       "279  19477.444  19649.442  17258.205              52031.0     -538.876   \n",
       "280  21138.574  21365.412  18560.774              55933.0     -725.723   \n",
       "281  21477.597  21728.223  18767.778              56533.0     -798.431   \n",
       "282  22038.226  22273.060  19055.655              57405.0     -872.540   \n",
       "283  22740.959  22971.357  19368.310              58335.0     -881.689   \n",
       "\n",
       "           gni  govt_spending  consumer_spending  private_domestic_investment  \\\n",
       "0      307.413        600.663            200.505                        1.247   \n",
       "1      319.791        643.100            197.946                        1.289   \n",
       "2      336.177        711.537            209.207                        1.296   \n",
       "3      346.033        806.376            204.942                        1.332   \n",
       "4      355.127        895.015            207.616                        1.385   \n",
       "..         ...            ...                ...                          ...   \n",
       "279  18938.568       3378.132          12989.729                      519.850   \n",
       "280  20412.851       3360.238          14293.832                      539.864   \n",
       "281  20679.166       3356.030          14467.611                      561.269   \n",
       "282  21165.686       3390.921          15005.444                      576.340   \n",
       "283  21859.270       3373.765          15681.699                      594.504   \n",
       "\n",
       "         cpi  consumer_oil_price    ir  unemployment_rate        Close  \\\n",
       "0     24.203              11.267  1.61                4.6    18.180000   \n",
       "1     24.693              11.500  1.75                4.2    18.570000   \n",
       "2     25.697              11.700  1.75                3.5    19.816667   \n",
       "3     25.947              11.933  1.75                3.1    21.620000   \n",
       "4     25.933              11.933  1.75                3.2    21.636667   \n",
       "..       ...                 ...   ...                ...          ...   \n",
       "279  256.418             219.570  0.25               13.0  2921.443333   \n",
       "280  259.438             232.403  0.25                8.8  3019.010000   \n",
       "281  260.879             234.862  0.25                6.8  3378.143333   \n",
       "282  263.525             274.983  0.25                6.2  3549.220000   \n",
       "283  268.760             289.754  0.25                5.9  3832.760000   \n",
       "\n",
       "           Volume    ClosePrev    CloseNext  \n",
       "0    2.760741e+07    17.186667    18.570000  \n",
       "1    2.260370e+07    18.180000    19.816667  \n",
       "2    3.068148e+07    18.570000    21.620000  \n",
       "3    3.020555e+07    19.816667    21.636667  \n",
       "4    2.172778e+07    21.620000    22.980000  \n",
       "..            ...          ...          ...  \n",
       "279  5.985144e+10  3136.440000  3019.010000  \n",
       "280  6.714349e+10  2921.443333  3378.143333  \n",
       "281  5.204018e+10  3019.010000  3549.220000  \n",
       "282  5.152288e+10  3378.143333  3832.760000  \n",
       "283  5.277860e+10  3549.220000  4227.593333  \n",
       "\n",
       "[284 rows x 17 columns]"
      ]
     },
     "execution_count": 19,
     "metadata": {},
     "output_type": "execute_result"
    }
   ],
   "source": [
    "df_full = pd.read_csv(\"outputs/df_full.csv\")\n",
    "df_full.drop('Unnamed: 0', inplace=True, axis=1)\n",
    "df_full"
   ]
  },
  {
   "cell_type": "markdown",
   "metadata": {},
   "source": [
    "## Import Results from LSTM Model"
   ]
  },
  {
   "cell_type": "code",
   "execution_count": 20,
   "metadata": {},
   "outputs": [
    {
     "data": {
      "text/html": [
       "<div>\n",
       "<style scoped>\n",
       "    .dataframe tbody tr th:only-of-type {\n",
       "        vertical-align: middle;\n",
       "    }\n",
       "\n",
       "    .dataframe tbody tr th {\n",
       "        vertical-align: top;\n",
       "    }\n",
       "\n",
       "    .dataframe thead th {\n",
       "        text-align: right;\n",
       "    }\n",
       "</style>\n",
       "<table border=\"1\" class=\"dataframe\">\n",
       "  <thead>\n",
       "    <tr style=\"text-align: right;\">\n",
       "      <th></th>\n",
       "      <th>MSE</th>\n",
       "    </tr>\n",
       "  </thead>\n",
       "  <tbody>\n",
       "    <tr>\n",
       "      <th>count</th>\n",
       "      <td>20.000000</td>\n",
       "    </tr>\n",
       "    <tr>\n",
       "      <th>mean</th>\n",
       "      <td>78305.750298</td>\n",
       "    </tr>\n",
       "    <tr>\n",
       "      <th>std</th>\n",
       "      <td>200200.272392</td>\n",
       "    </tr>\n",
       "    <tr>\n",
       "      <th>min</th>\n",
       "      <td>7912.070815</td>\n",
       "    </tr>\n",
       "    <tr>\n",
       "      <th>25%</th>\n",
       "      <td>11466.811390</td>\n",
       "    </tr>\n",
       "    <tr>\n",
       "      <th>50%</th>\n",
       "      <td>13556.713018</td>\n",
       "    </tr>\n",
       "    <tr>\n",
       "      <th>75%</th>\n",
       "      <td>15937.655031</td>\n",
       "    </tr>\n",
       "    <tr>\n",
       "      <th>max</th>\n",
       "      <td>663816.384904</td>\n",
       "    </tr>\n",
       "  </tbody>\n",
       "</table>\n",
       "</div>"
      ],
      "text/plain": [
       "                 MSE\n",
       "count      20.000000\n",
       "mean    78305.750298\n",
       "std    200200.272392\n",
       "min      7912.070815\n",
       "25%     11466.811390\n",
       "50%     13556.713018\n",
       "75%     15937.655031\n",
       "max    663816.384904"
      ]
     },
     "metadata": {},
     "output_type": "display_data"
    }
   ],
   "source": [
    "res_df = pd.read_csv(\"outputs/res_df.csv\")\n",
    "res_df.drop('Unnamed: 0', inplace=True, axis=1)\n",
    "display(res_df.describe())"
   ]
  },
  {
   "cell_type": "markdown",
   "metadata": {},
   "source": [
    "## Remove Outliers"
   ]
  },
  {
   "cell_type": "code",
   "execution_count": 21,
   "metadata": {},
   "outputs": [
    {
     "name": "stdout",
     "output_type": "stream",
     "text": [
      "Remaining values after removing outliers:\n"
     ]
    },
    {
     "data": {
      "text/html": [
       "<div>\n",
       "<style scoped>\n",
       "    .dataframe tbody tr th:only-of-type {\n",
       "        vertical-align: middle;\n",
       "    }\n",
       "\n",
       "    .dataframe tbody tr th {\n",
       "        vertical-align: top;\n",
       "    }\n",
       "\n",
       "    .dataframe thead th {\n",
       "        text-align: right;\n",
       "    }\n",
       "</style>\n",
       "<table border=\"1\" class=\"dataframe\">\n",
       "  <thead>\n",
       "    <tr style=\"text-align: right;\">\n",
       "      <th></th>\n",
       "      <th>MSE</th>\n",
       "    </tr>\n",
       "  </thead>\n",
       "  <tbody>\n",
       "    <tr>\n",
       "      <th>0</th>\n",
       "      <td>13784.256021</td>\n",
       "    </tr>\n",
       "    <tr>\n",
       "      <th>2</th>\n",
       "      <td>15787.038724</td>\n",
       "    </tr>\n",
       "    <tr>\n",
       "      <th>3</th>\n",
       "      <td>10290.518741</td>\n",
       "    </tr>\n",
       "    <tr>\n",
       "      <th>4</th>\n",
       "      <td>13896.817178</td>\n",
       "    </tr>\n",
       "    <tr>\n",
       "      <th>6</th>\n",
       "      <td>9242.089766</td>\n",
       "    </tr>\n",
       "    <tr>\n",
       "      <th>7</th>\n",
       "      <td>11858.908939</td>\n",
       "    </tr>\n",
       "    <tr>\n",
       "      <th>8</th>\n",
       "      <td>12752.546323</td>\n",
       "    </tr>\n",
       "    <tr>\n",
       "      <th>9</th>\n",
       "      <td>13776.037066</td>\n",
       "    </tr>\n",
       "    <tr>\n",
       "      <th>10</th>\n",
       "      <td>13333.109139</td>\n",
       "    </tr>\n",
       "    <tr>\n",
       "      <th>12</th>\n",
       "      <td>16389.503952</td>\n",
       "    </tr>\n",
       "    <tr>\n",
       "      <th>13</th>\n",
       "      <td>17438.499120</td>\n",
       "    </tr>\n",
       "    <tr>\n",
       "      <th>14</th>\n",
       "      <td>13337.388969</td>\n",
       "    </tr>\n",
       "    <tr>\n",
       "      <th>15</th>\n",
       "      <td>7912.070815</td>\n",
       "    </tr>\n",
       "    <tr>\n",
       "      <th>16</th>\n",
       "      <td>9423.751059</td>\n",
       "    </tr>\n",
       "    <tr>\n",
       "      <th>17</th>\n",
       "      <td>14081.548217</td>\n",
       "    </tr>\n",
       "    <tr>\n",
       "      <th>18</th>\n",
       "      <td>13000.003537</td>\n",
       "    </tr>\n",
       "    <tr>\n",
       "      <th>19</th>\n",
       "      <td>9315.675885</td>\n",
       "    </tr>\n",
       "  </tbody>\n",
       "</table>\n",
       "</div>"
      ],
      "text/plain": [
       "             MSE\n",
       "0   13784.256021\n",
       "2   15787.038724\n",
       "3   10290.518741\n",
       "4   13896.817178\n",
       "6    9242.089766\n",
       "7   11858.908939\n",
       "8   12752.546323\n",
       "9   13776.037066\n",
       "10  13333.109139\n",
       "12  16389.503952\n",
       "13  17438.499120\n",
       "14  13337.388969\n",
       "15   7912.070815\n",
       "16   9423.751059\n",
       "17  14081.548217\n",
       "18  13000.003537\n",
       "19   9315.675885"
      ]
     },
     "metadata": {},
     "output_type": "display_data"
    },
    {
     "data": {
      "text/html": [
       "<div>\n",
       "<style scoped>\n",
       "    .dataframe tbody tr th:only-of-type {\n",
       "        vertical-align: middle;\n",
       "    }\n",
       "\n",
       "    .dataframe tbody tr th {\n",
       "        vertical-align: top;\n",
       "    }\n",
       "\n",
       "    .dataframe thead th {\n",
       "        text-align: right;\n",
       "    }\n",
       "</style>\n",
       "<table border=\"1\" class=\"dataframe\">\n",
       "  <thead>\n",
       "    <tr style=\"text-align: right;\">\n",
       "      <th></th>\n",
       "      <th>MSE</th>\n",
       "    </tr>\n",
       "  </thead>\n",
       "  <tbody>\n",
       "    <tr>\n",
       "      <th>count</th>\n",
       "      <td>17.000000</td>\n",
       "    </tr>\n",
       "    <tr>\n",
       "      <th>mean</th>\n",
       "      <td>12683.515497</td>\n",
       "    </tr>\n",
       "    <tr>\n",
       "      <th>std</th>\n",
       "      <td>2689.647638</td>\n",
       "    </tr>\n",
       "    <tr>\n",
       "      <th>min</th>\n",
       "      <td>7912.070815</td>\n",
       "    </tr>\n",
       "    <tr>\n",
       "      <th>25%</th>\n",
       "      <td>10290.518741</td>\n",
       "    </tr>\n",
       "    <tr>\n",
       "      <th>50%</th>\n",
       "      <td>13333.109139</td>\n",
       "    </tr>\n",
       "    <tr>\n",
       "      <th>75%</th>\n",
       "      <td>13896.817178</td>\n",
       "    </tr>\n",
       "    <tr>\n",
       "      <th>max</th>\n",
       "      <td>17438.499120</td>\n",
       "    </tr>\n",
       "  </tbody>\n",
       "</table>\n",
       "</div>"
      ],
      "text/plain": [
       "                MSE\n",
       "count     17.000000\n",
       "mean   12683.515497\n",
       "std     2689.647638\n",
       "min     7912.070815\n",
       "25%    10290.518741\n",
       "50%    13333.109139\n",
       "75%    13896.817178\n",
       "max    17438.499120"
      ]
     },
     "metadata": {},
     "output_type": "display_data"
    }
   ],
   "source": [
    "# Remove outliers\n",
    "Q3 = res_df.describe().loc['75%'].at['MSE']\n",
    "Q1 = res_df.describe().loc['25%'].at['MSE']\n",
    "IQR = Q3-Q1\n",
    "res_df = res_df[(res_df['MSE']>=Q1-1.5*IQR) & (res_df['MSE']<=Q3+1.5*IQR)]\n",
    "print(\"Remaining values after removing outliers:\")\n",
    "display(res_df)\n",
    "display(res_df.describe())\n",
    "\n",
    "# res_df.to_csv('results/lstm_results.csv')"
   ]
  },
  {
   "cell_type": "markdown",
   "metadata": {},
   "source": [
    "## Import Results from Regression Model"
   ]
  },
  {
   "cell_type": "code",
   "execution_count": 22,
   "metadata": {},
   "outputs": [
    {
     "name": "stdout",
     "output_type": "stream",
     "text": [
      "Values before removing outliers:\n"
     ]
    },
    {
     "data": {
      "text/html": [
       "<div>\n",
       "<style scoped>\n",
       "    .dataframe tbody tr th:only-of-type {\n",
       "        vertical-align: middle;\n",
       "    }\n",
       "\n",
       "    .dataframe tbody tr th {\n",
       "        vertical-align: top;\n",
       "    }\n",
       "\n",
       "    .dataframe thead th {\n",
       "        text-align: right;\n",
       "    }\n",
       "</style>\n",
       "<table border=\"1\" class=\"dataframe\">\n",
       "  <thead>\n",
       "    <tr style=\"text-align: right;\">\n",
       "      <th></th>\n",
       "      <th>R^2</th>\n",
       "      <th>MSE train</th>\n",
       "      <th>MSE test</th>\n",
       "    </tr>\n",
       "    <tr>\n",
       "      <th>random_state</th>\n",
       "      <th></th>\n",
       "      <th></th>\n",
       "      <th></th>\n",
       "    </tr>\n",
       "  </thead>\n",
       "  <tbody>\n",
       "    <tr>\n",
       "      <th>0</th>\n",
       "      <td>0.996022</td>\n",
       "      <td>2769.926266</td>\n",
       "      <td>5601.987580</td>\n",
       "    </tr>\n",
       "    <tr>\n",
       "      <th>1</th>\n",
       "      <td>0.995072</td>\n",
       "      <td>3294.501151</td>\n",
       "      <td>4527.341277</td>\n",
       "    </tr>\n",
       "    <tr>\n",
       "      <th>2</th>\n",
       "      <td>0.995329</td>\n",
       "      <td>3260.694419</td>\n",
       "      <td>3478.071381</td>\n",
       "    </tr>\n",
       "    <tr>\n",
       "      <th>3</th>\n",
       "      <td>0.995441</td>\n",
       "      <td>3377.506674</td>\n",
       "      <td>3109.400642</td>\n",
       "    </tr>\n",
       "    <tr>\n",
       "      <th>4</th>\n",
       "      <td>0.994611</td>\n",
       "      <td>3526.101231</td>\n",
       "      <td>5141.723797</td>\n",
       "    </tr>\n",
       "    <tr>\n",
       "      <th>...</th>\n",
       "      <td>...</td>\n",
       "      <td>...</td>\n",
       "      <td>...</td>\n",
       "    </tr>\n",
       "    <tr>\n",
       "      <th>996</th>\n",
       "      <td>0.995473</td>\n",
       "      <td>3218.404259</td>\n",
       "      <td>3812.822810</td>\n",
       "    </tr>\n",
       "    <tr>\n",
       "      <th>997</th>\n",
       "      <td>0.996039</td>\n",
       "      <td>2908.112518</td>\n",
       "      <td>8199.956137</td>\n",
       "    </tr>\n",
       "    <tr>\n",
       "      <th>998</th>\n",
       "      <td>0.995831</td>\n",
       "      <td>3152.769411</td>\n",
       "      <td>4209.897918</td>\n",
       "    </tr>\n",
       "    <tr>\n",
       "      <th>999</th>\n",
       "      <td>0.995834</td>\n",
       "      <td>3259.715763</td>\n",
       "      <td>3636.316085</td>\n",
       "    </tr>\n",
       "    <tr>\n",
       "      <th>1000</th>\n",
       "      <td>0.995202</td>\n",
       "      <td>3025.418981</td>\n",
       "      <td>7534.335239</td>\n",
       "    </tr>\n",
       "  </tbody>\n",
       "</table>\n",
       "<p>1001 rows × 3 columns</p>\n",
       "</div>"
      ],
      "text/plain": [
       "                   R^2    MSE train     MSE test\n",
       "random_state                                    \n",
       "0             0.996022  2769.926266  5601.987580\n",
       "1             0.995072  3294.501151  4527.341277\n",
       "2             0.995329  3260.694419  3478.071381\n",
       "3             0.995441  3377.506674  3109.400642\n",
       "4             0.994611  3526.101231  5141.723797\n",
       "...                ...          ...          ...\n",
       "996           0.995473  3218.404259  3812.822810\n",
       "997           0.996039  2908.112518  8199.956137\n",
       "998           0.995831  3152.769411  4209.897918\n",
       "999           0.995834  3259.715763  3636.316085\n",
       "1000          0.995202  3025.418981  7534.335239\n",
       "\n",
       "[1001 rows x 3 columns]"
      ]
     },
     "metadata": {},
     "output_type": "display_data"
    },
    {
     "data": {
      "text/html": [
       "<div>\n",
       "<style scoped>\n",
       "    .dataframe tbody tr th:only-of-type {\n",
       "        vertical-align: middle;\n",
       "    }\n",
       "\n",
       "    .dataframe tbody tr th {\n",
       "        vertical-align: top;\n",
       "    }\n",
       "\n",
       "    .dataframe thead th {\n",
       "        text-align: right;\n",
       "    }\n",
       "</style>\n",
       "<table border=\"1\" class=\"dataframe\">\n",
       "  <thead>\n",
       "    <tr style=\"text-align: right;\">\n",
       "      <th></th>\n",
       "      <th>R^2</th>\n",
       "      <th>MSE train</th>\n",
       "      <th>MSE test</th>\n",
       "    </tr>\n",
       "  </thead>\n",
       "  <tbody>\n",
       "    <tr>\n",
       "      <th>count</th>\n",
       "      <td>1001.000000</td>\n",
       "      <td>1001.000000</td>\n",
       "      <td>1001.000000</td>\n",
       "    </tr>\n",
       "    <tr>\n",
       "      <th>mean</th>\n",
       "      <td>0.995617</td>\n",
       "      <td>3027.751487</td>\n",
       "      <td>6866.822803</td>\n",
       "    </tr>\n",
       "    <tr>\n",
       "      <th>std</th>\n",
       "      <td>0.000390</td>\n",
       "      <td>266.979482</td>\n",
       "      <td>9527.849522</td>\n",
       "    </tr>\n",
       "    <tr>\n",
       "      <th>min</th>\n",
       "      <td>0.994224</td>\n",
       "      <td>2216.784908</td>\n",
       "      <td>1856.656870</td>\n",
       "    </tr>\n",
       "    <tr>\n",
       "      <th>25%</th>\n",
       "      <td>0.995369</td>\n",
       "      <td>2849.322603</td>\n",
       "      <td>4308.950830</td>\n",
       "    </tr>\n",
       "    <tr>\n",
       "      <th>50%</th>\n",
       "      <td>0.995619</td>\n",
       "      <td>3036.449672</td>\n",
       "      <td>5293.613809</td>\n",
       "    </tr>\n",
       "    <tr>\n",
       "      <th>75%</th>\n",
       "      <td>0.995894</td>\n",
       "      <td>3224.041344</td>\n",
       "      <td>6880.869654</td>\n",
       "    </tr>\n",
       "    <tr>\n",
       "      <th>max</th>\n",
       "      <td>0.996724</td>\n",
       "      <td>3816.484236</td>\n",
       "      <td>210460.027045</td>\n",
       "    </tr>\n",
       "  </tbody>\n",
       "</table>\n",
       "</div>"
      ],
      "text/plain": [
       "               R^2    MSE train       MSE test\n",
       "count  1001.000000  1001.000000    1001.000000\n",
       "mean      0.995617  3027.751487    6866.822803\n",
       "std       0.000390   266.979482    9527.849522\n",
       "min       0.994224  2216.784908    1856.656870\n",
       "25%       0.995369  2849.322603    4308.950830\n",
       "50%       0.995619  3036.449672    5293.613809\n",
       "75%       0.995894  3224.041344    6880.869654\n",
       "max       0.996724  3816.484236  210460.027045"
      ]
     },
     "metadata": {},
     "output_type": "display_data"
    },
    {
     "name": "stdout",
     "output_type": "stream",
     "text": [
      "Remaining values after removing outliers:\n"
     ]
    },
    {
     "data": {
      "text/html": [
       "<div>\n",
       "<style scoped>\n",
       "    .dataframe tbody tr th:only-of-type {\n",
       "        vertical-align: middle;\n",
       "    }\n",
       "\n",
       "    .dataframe tbody tr th {\n",
       "        vertical-align: top;\n",
       "    }\n",
       "\n",
       "    .dataframe thead th {\n",
       "        text-align: right;\n",
       "    }\n",
       "</style>\n",
       "<table border=\"1\" class=\"dataframe\">\n",
       "  <thead>\n",
       "    <tr style=\"text-align: right;\">\n",
       "      <th></th>\n",
       "      <th>R^2</th>\n",
       "      <th>MSE train</th>\n",
       "      <th>MSE test</th>\n",
       "    </tr>\n",
       "    <tr>\n",
       "      <th>random_state</th>\n",
       "      <th></th>\n",
       "      <th></th>\n",
       "      <th></th>\n",
       "    </tr>\n",
       "  </thead>\n",
       "  <tbody>\n",
       "    <tr>\n",
       "      <th>0</th>\n",
       "      <td>0.996022</td>\n",
       "      <td>2769.926266</td>\n",
       "      <td>5601.987580</td>\n",
       "    </tr>\n",
       "    <tr>\n",
       "      <th>1</th>\n",
       "      <td>0.995072</td>\n",
       "      <td>3294.501151</td>\n",
       "      <td>4527.341277</td>\n",
       "    </tr>\n",
       "    <tr>\n",
       "      <th>2</th>\n",
       "      <td>0.995329</td>\n",
       "      <td>3260.694419</td>\n",
       "      <td>3478.071381</td>\n",
       "    </tr>\n",
       "    <tr>\n",
       "      <th>3</th>\n",
       "      <td>0.995441</td>\n",
       "      <td>3377.506674</td>\n",
       "      <td>3109.400642</td>\n",
       "    </tr>\n",
       "    <tr>\n",
       "      <th>4</th>\n",
       "      <td>0.994611</td>\n",
       "      <td>3526.101231</td>\n",
       "      <td>5141.723797</td>\n",
       "    </tr>\n",
       "    <tr>\n",
       "      <th>...</th>\n",
       "      <td>...</td>\n",
       "      <td>...</td>\n",
       "      <td>...</td>\n",
       "    </tr>\n",
       "    <tr>\n",
       "      <th>996</th>\n",
       "      <td>0.995473</td>\n",
       "      <td>3218.404259</td>\n",
       "      <td>3812.822810</td>\n",
       "    </tr>\n",
       "    <tr>\n",
       "      <th>997</th>\n",
       "      <td>0.996039</td>\n",
       "      <td>2908.112518</td>\n",
       "      <td>8199.956137</td>\n",
       "    </tr>\n",
       "    <tr>\n",
       "      <th>998</th>\n",
       "      <td>0.995831</td>\n",
       "      <td>3152.769411</td>\n",
       "      <td>4209.897918</td>\n",
       "    </tr>\n",
       "    <tr>\n",
       "      <th>999</th>\n",
       "      <td>0.995834</td>\n",
       "      <td>3259.715763</td>\n",
       "      <td>3636.316085</td>\n",
       "    </tr>\n",
       "    <tr>\n",
       "      <th>1000</th>\n",
       "      <td>0.995202</td>\n",
       "      <td>3025.418981</td>\n",
       "      <td>7534.335239</td>\n",
       "    </tr>\n",
       "  </tbody>\n",
       "</table>\n",
       "<p>925 rows × 3 columns</p>\n",
       "</div>"
      ],
      "text/plain": [
       "                   R^2    MSE train     MSE test\n",
       "random_state                                    \n",
       "0             0.996022  2769.926266  5601.987580\n",
       "1             0.995072  3294.501151  4527.341277\n",
       "2             0.995329  3260.694419  3478.071381\n",
       "3             0.995441  3377.506674  3109.400642\n",
       "4             0.994611  3526.101231  5141.723797\n",
       "...                ...          ...          ...\n",
       "996           0.995473  3218.404259  3812.822810\n",
       "997           0.996039  2908.112518  8199.956137\n",
       "998           0.995831  3152.769411  4209.897918\n",
       "999           0.995834  3259.715763  3636.316085\n",
       "1000          0.995202  3025.418981  7534.335239\n",
       "\n",
       "[925 rows x 3 columns]"
      ]
     },
     "metadata": {},
     "output_type": "display_data"
    },
    {
     "data": {
      "text/html": [
       "<div>\n",
       "<style scoped>\n",
       "    .dataframe tbody tr th:only-of-type {\n",
       "        vertical-align: middle;\n",
       "    }\n",
       "\n",
       "    .dataframe tbody tr th {\n",
       "        vertical-align: top;\n",
       "    }\n",
       "\n",
       "    .dataframe thead th {\n",
       "        text-align: right;\n",
       "    }\n",
       "</style>\n",
       "<table border=\"1\" class=\"dataframe\">\n",
       "  <thead>\n",
       "    <tr style=\"text-align: right;\">\n",
       "      <th></th>\n",
       "      <th>R^2</th>\n",
       "      <th>MSE train</th>\n",
       "      <th>MSE test</th>\n",
       "    </tr>\n",
       "  </thead>\n",
       "  <tbody>\n",
       "    <tr>\n",
       "      <th>count</th>\n",
       "      <td>925.000000</td>\n",
       "      <td>925.000000</td>\n",
       "      <td>925.000000</td>\n",
       "    </tr>\n",
       "    <tr>\n",
       "      <th>mean</th>\n",
       "      <td>0.995626</td>\n",
       "      <td>3049.707013</td>\n",
       "      <td>5449.483991</td>\n",
       "    </tr>\n",
       "    <tr>\n",
       "      <th>std</th>\n",
       "      <td>0.000370</td>\n",
       "      <td>249.369933</td>\n",
       "      <td>1718.635184</td>\n",
       "    </tr>\n",
       "    <tr>\n",
       "      <th>min</th>\n",
       "      <td>0.994609</td>\n",
       "      <td>2372.924735</td>\n",
       "      <td>1950.452411</td>\n",
       "    </tr>\n",
       "    <tr>\n",
       "      <th>25%</th>\n",
       "      <td>0.995384</td>\n",
       "      <td>2871.914814</td>\n",
       "      <td>4225.930251</td>\n",
       "    </tr>\n",
       "    <tr>\n",
       "      <th>50%</th>\n",
       "      <td>0.995627</td>\n",
       "      <td>3052.072597</td>\n",
       "      <td>5141.795051</td>\n",
       "    </tr>\n",
       "    <tr>\n",
       "      <th>75%</th>\n",
       "      <td>0.995898</td>\n",
       "      <td>3235.809881</td>\n",
       "      <td>6346.456432</td>\n",
       "    </tr>\n",
       "    <tr>\n",
       "      <th>max</th>\n",
       "      <td>0.996612</td>\n",
       "      <td>3775.167902</td>\n",
       "      <td>10517.531853</td>\n",
       "    </tr>\n",
       "  </tbody>\n",
       "</table>\n",
       "</div>"
      ],
      "text/plain": [
       "              R^2    MSE train      MSE test\n",
       "count  925.000000   925.000000    925.000000\n",
       "mean     0.995626  3049.707013   5449.483991\n",
       "std      0.000370   249.369933   1718.635184\n",
       "min      0.994609  2372.924735   1950.452411\n",
       "25%      0.995384  2871.914814   4225.930251\n",
       "50%      0.995627  3052.072597   5141.795051\n",
       "75%      0.995898  3235.809881   6346.456432\n",
       "max      0.996612  3775.167902  10517.531853"
      ]
     },
     "metadata": {},
     "output_type": "display_data"
    }
   ],
   "source": [
    "res_df2 = pd.read_csv(\"outputs/res_df2.csv\")\n",
    "res_df2.drop('Unnamed: 0', inplace=True, axis=1)\n",
    "\n",
    "res_df2.index.name = 'random_state'\n",
    "print(\"Values before removing outliers:\")\n",
    "display(res_df2)\n",
    "display(res_df2.describe())\n",
    "\n",
    "q1_var = res_df2.describe().loc['25%'].at['R^2']\n",
    "q3_var = res_df2.describe().loc['75%'].at['R^2']\n",
    "iqr_var = q3_var - q1_var\n",
    "\n",
    "q1_MSE = res_df2.describe().loc['25%'].at['MSE train']\n",
    "q3_MSE = res_df2.describe().loc['75%'].at['MSE train']\n",
    "iqr_MSE = q3_MSE - q1_MSE\n",
    "\n",
    "q1_test = res_df2.describe().loc['25%'].at['MSE test']\n",
    "q3_test = res_df2.describe().loc['75%'].at['MSE test']\n",
    "iqr_test = q3_test - q1_test\n",
    "\n",
    "state = res_df2[(res_df2['R^2'] >= q1_var-1.5*iqr_var) & (res_df2['R^2'] <= q3_var+1.5*iqr_var)\n",
    "               & (res_df2['MSE train'] >= q1_MSE-1.5*iqr_MSE) & (res_df2['MSE train'] <= q3_MSE+1.5*iqr_MSE)\n",
    "              & (res_df2['MSE test'] >= q1_test-1.5*iqr_test) & (res_df2['MSE test'] <= q3_test+1.5*iqr_test)].index.tolist()\n",
    "res_df2 = res_df2.iloc[state]\n",
    "print(\"Remaining values after removing outliers:\")\n",
    "display(res_df2)\n",
    "display(res_df2.describe())\n",
    "\n",
    "# res_df2.to_csv('results/regression_results.csv')"
   ]
  },
  {
   "cell_type": "markdown",
   "metadata": {},
   "source": [
    "## Visualize Regressian Median Test Results (with error bars) "
   ]
  },
  {
   "cell_type": "code",
   "execution_count": 23,
   "metadata": {},
   "outputs": [
    {
     "name": "stdout",
     "output_type": "stream",
     "text": [
      "random_state = 470\n",
      "Explained Variance: 0.9955722341906255\n",
      "Train Set MSE: 3052.072597061365\n",
      "Test Set MSE: 4725.39673011144\n"
     ]
    },
    {
     "data": {
      "application/vnd.plotly.v1+json": {
       "config": {
        "plotlyServerURL": "https://plot.ly"
       },
       "data": [
        {
         "name": "Actual Price",
         "type": "scatter",
         "x": [
          0,
          1,
          2,
          3,
          4,
          5,
          6,
          7,
          8,
          9,
          10,
          11,
          12,
          13,
          14,
          15,
          16,
          17,
          18,
          19,
          20,
          21,
          22,
          23,
          24,
          25,
          26,
          27,
          28,
          29,
          30,
          31,
          32,
          33,
          34,
          35,
          36,
          37,
          38,
          39,
          40,
          41,
          42,
          43,
          44,
          45,
          46,
          47,
          48,
          49,
          50,
          51,
          52,
          53,
          54,
          55,
          56,
          57,
          58,
          59,
          60,
          61,
          62,
          63,
          64,
          65,
          66,
          67,
          68,
          69,
          70,
          71,
          72,
          73,
          74,
          75,
          76,
          77,
          78,
          79,
          80,
          81,
          82,
          83,
          84,
          85,
          86,
          87,
          88,
          89,
          90,
          91,
          92,
          93,
          94,
          95,
          96,
          97,
          98,
          99,
          100,
          101,
          102,
          103,
          104,
          105,
          106,
          107,
          108,
          109,
          110,
          111,
          112,
          113,
          114,
          115,
          116,
          117,
          118,
          119,
          120,
          121,
          122,
          123,
          124,
          125,
          126,
          127,
          128,
          129,
          130,
          131,
          132,
          133,
          134,
          135,
          136,
          137,
          138,
          139,
          140,
          141,
          142,
          143,
          144,
          145,
          146,
          147,
          148,
          149,
          150,
          151,
          152,
          153,
          154,
          155,
          156,
          157,
          158,
          159,
          160,
          161,
          162,
          163,
          164,
          165,
          166,
          167,
          168,
          169,
          170,
          171,
          172,
          173,
          174,
          175,
          176,
          177,
          178,
          179,
          180,
          181,
          182,
          183,
          184,
          185,
          186,
          187,
          188,
          189,
          190,
          191,
          192,
          193,
          194,
          195,
          196,
          197,
          198,
          199,
          200,
          201,
          202,
          203,
          204,
          205,
          206,
          207,
          208,
          209,
          210,
          211,
          212,
          213,
          214,
          215,
          216,
          217,
          218,
          219,
          220,
          221,
          222,
          223,
          224,
          225,
          226,
          227,
          228,
          229,
          230,
          231,
          232,
          233,
          234,
          235,
          236,
          237,
          238,
          239,
          240,
          241,
          242,
          243,
          244,
          245,
          246,
          247,
          248,
          249,
          250,
          251,
          252,
          253,
          254,
          255,
          256,
          257,
          258,
          259,
          260,
          261,
          262,
          263,
          264,
          265,
          266,
          267,
          268,
          269,
          270,
          271,
          272,
          273,
          274,
          275,
          276,
          277,
          278,
          279,
          280,
          281,
          282,
          283
         ],
         "y": [
          18.570000000000004,
          19.816666666666663,
          21.62,
          21.636666666666667,
          22.98,
          23.19666666666667,
          23.923333333333336,
          24.046666666666667,
          24.99,
          25.58333333333333,
          25.856666666666666,
          24.433333333333334,
          23.80666666666667,
          24.703333333333333,
          26.39,
          28.886666666666667,
          31.006666666666664,
          33.96666666666667,
          36.656666666666666,
          38.96666666666667,
          43.45666666666667,
          44.44333333333333,
          45.88,
          46.85,
          47.41666666666666,
          45.77666666666666,
          44.03,
          46.84666666666666,
          45.18333333333334,
          40.92333333333334,
          41.546666666666674,
          44.25666666666667,
          48.333333333333336,
          53.00666666666667,
          55.43333333333334,
          58.24666666666667,
          58.99666666666667,
          58.56333333333333,
          55.69,
          55.70666666666667,
          55.330000000000005,
          55.68000000000001,
          63.42666666666667,
          65.50333333333333,
          67.18666666666667,
          70.49666666666667,
          69.45,
          59.873333333333335,
          57.873333333333335,
          60.626666666666665,
          65.68666666666667,
          69.99,
          71.11,
          74.08666666666666,
          77.94,
          80.50666666666666,
          83.06333333333333,
          84.67666666666666,
          87.05,
          87.21666666666665,
          87.46,
          92.15333333333336,
          91.11,
          87.31,
          79.08666666666666,
          80.32666666666667,
          87.86333333333333,
          91.24333333333334,
          95.03333333333332,
          94.59,
          90.6,
          98.57333333333332,
          99.75666666666666,
          105.21333333333332,
          100.88333333333333,
          101.62,
          93.48666666666668,
          94.33,
          88.05,
          76.92999999999999,
          81.29,
          87.53333333333335,
          97.64666666666666,
          100.76,
          97.65000000000002,
          96.77,
          105.90333333333332,
          108.11333333333332,
          109.67666666666668,
          115.43333333333334,
          113.07666666666668,
          105.39333333333332,
          106.96666666666664,
          100.6,
          95.59,
          87.86333333333334,
          71.66666666666667,
          70.81,
          80.64333333333333,
          91.21333333333332,
          86.5,
          90.15666666666668,
          101.11333333333332,
          102.03333333333336,
          103.86333333333332,
          104.15333333333332,
          100.09,
          98.34666666666668,
          97.38333333333333,
          94.09,
          88.5,
          96.53333333333336,
          102.17000000000002,
          94.65333333333336,
          99.26666666666668,
          101.25,
          107.48333333333332,
          105.30666666666666,
          109.96999999999998,
          110.59,
          123.17,
          134.58333333333334,
          132.27333333333334,
          132.20333333333335,
          123.29666666666668,
          123.59666666666668,
          115.15666666666664,
          112.64333333333332,
          115.67333333333336,
          137.63,
          148.77333333333334,
          164.82,
          164.34333333333333,
          164.96,
          159.88333333333335,
          154.59333333333333,
          161.14666666666668,
          165.63666666666668,
          180.49,
          187.07666666666668,
          187.21,
          201.09,
          225.86666666666667,
          244.57,
          240.1233333333333,
          245.1233333333333,
          283.32666666666665,
          294.15333333333336,
          323.43,
          243.0566666666667,
          261.26,
          265.66333333333336,
          268.4833333333333,
          276.7966666666667,
          293.7333333333333,
          316.0466666666667,
          348.89333333333326,
          346.5833333333333,
          333.6366666666667,
          350.01666666666665,
          328.25333333333333,
          318.81333333333333,
          362.0733333333333,
          378.7766666666666,
          390.3666666666666,
          394.92,
          408.39,
          412.8133333333333,
          418.68,
          428.58,
          444.61,
          446.97,
          456.8733333333334,
          465.3566666666666,
          464.84,
          450.56,
          465.4866666666667,
          461.77,
          486.17333333333335,
          530.9533333333334,
          569.4499999999999,
          600.9333333333333,
          640.65,
          664.64,
          659.7566666666667,
          734.3433333333332,
          778.0333333333333,
          844.92,
          933.6866666666666,
          946.8166666666666,
          1043.79,
          1112.1366666666663,
          1031.6533333333334,
          1163.8433333333337,
          1268.1133333333337,
          1336.5766666666666,
          1310.6133333333337,
          1407.0833333333333,
          1419.82,
          1442.5566666666666,
          1461.6733333333334,
          1354.8733333333332,
          1254.75,
          1243.3566666666666,
          1128.3266666666666,
          1114.99,
          1128.11,
          1044.6266666666668,
          880.9900000000001,
          900.63,
          848.3433333333332,
          951.67,
          998.0966666666668,
          1073.61,
          1134.0933333333337,
          1122.9399999999998,
          1106.8466666666666,
          1171.98,
          1188.486666666667,
          1179.8933333333332,
          1227.7733333333333,
          1234.9266666666665,
          1285.1833333333332,
          1283.6333333333332,
          1305.44,
          1398.9533333333336,
          1421.97,
          1505.4466666666667,
          1485.3366666666668,
          1499.6266666666668,
          1343.96,
          1355.3233333333335,
          1238.8566666666666,
          922.7466666666666,
          786.2800000000001,
          903.7566666666668,
          1021.7266666666666,
          1082.3066666666666,
          1115.93,
          1102.2700000000002,
          1097.3766666666668,
          1207.15,
          1313.0566666666666,
          1343.15,
          1214.1966666666667,
          1252.62,
          1362.1866666666667,
          1356.8,
          1408.8566666666666,
          1418.176666666667,
          1527.3266666666666,
          1611.53,
          1666.75,
          1803.57,
          1838.1266666666668,
          1922.5833333333333,
          1968.7766666666664,
          2048.17,
          2055.793333333333,
          2085.3366666666666,
          1998.6833333333332,
          2067.9033333333336,
          1977.4033333333332,
          2087.0400000000004,
          2170.94,
          2187.93,
          2335.0766666666664,
          2406.47,
          2487.103333333334,
          2632.15,
          2726.17,
          2690.563333333333,
          2877.263333333333,
          2659.5866666666666,
          2774.33,
          2879.883333333333,
          2961.193333333333,
          3136.44,
          2921.443333333333,
          3019.01,
          3378.143333333333,
          3549.22,
          3832.76,
          4227.593333333333
         ]
        },
        {
         "error_y": {
          "array": [
           [
            34.78509997078102
           ],
           [
            11.859879694002807
           ],
           [
            -40.30136381265743
           ],
           [
            31.87698562423651
           ],
           [
            0.5297453081117318
           ],
           [
            -135.50356120669312
           ],
           [
            5.814847617652241
           ],
           [
            63.436794771819166
           ],
           [
            56.36107689074538
           ],
           [
            -75.25667294205186
           ],
           [
            -10.08975096387745
           ],
           [
            0.7862867411269008
           ],
           [
            -257.5726261230625
           ],
           [
            6.306145127740422
           ],
           [
            -67.01173650978467
           ],
           [
            -99.87900158586604
           ],
           [
            -52.128795048996494
           ],
           [
            2.2628379301231973
           ],
           [
            3.6187386759427227
           ],
           [
            149.6935216003901
           ],
           [
            182.88493227116714
           ],
           [
            -21.789374317632948
           ],
           [
            -15.636043050921472
           ],
           [
            3.6373718909029122
           ],
           [
            -3.8971790845015732
           ],
           [
            7.001559027218249
           ],
           [
            17.97475961248682
           ],
           [
            -16.24985113860771
           ],
           [
            -5.657034897819557
           ],
           [
            -1.2772992952101418
           ],
           [
            10.711547453084563
           ],
           [
            -70.47044154237369
           ],
           [
            -2.1053972857863528
           ],
           [
            -12.961309585568642
           ],
           [
            34.79890222329092
           ],
           [
            114.01680302539512
           ],
           [
            -8.78259335241978
           ],
           [
            -9.620303398503367
           ],
           [
            -8.468482367591193
           ],
           [
            -14.99139167165012
           ],
           [
            159.98270201474406
           ],
           [
            15.44149755996392
           ],
           [
            15.374570589343207
           ],
           [
            -52.20358203840652
           ],
           [
            108.38839224060627
           ],
           [
            7.3342730774814555
           ],
           [
            -14.362829629234795
           ],
           [
            2.7202839110267405
           ],
           [
            -29.845117282980993
           ],
           [
            96.12393836794399
           ],
           [
            142.00088379132217
           ],
           [
            -54.19033048118439
           ],
           [
            -81.95057655986261
           ],
           [
            39.59595042344108
           ],
           [
            -30.46749101826572
           ],
           [
            -169.3802828326825
           ],
           [
            4.798335427676278
           ],
           [
            4.417618393882378
           ],
           [
            0.5370306917836842
           ],
           [
            -44.70063437087495
           ],
           [
            10.365574052014964
           ],
           [
            32.020141394488746
           ],
           [
            43.97274981197958
           ],
           [
            -35.225945230350135
           ],
           [
            -54.382800099440374
           ],
           [
            -0.39291131231476584
           ],
           [
            -103.10809199360233
           ],
           [
            5.237543290625823
           ],
           [
            -84.16709269600324
           ],
           [
            19.19612703634631
           ],
           [
            -1.3023081720061676
           ]
          ],
          "symmetric": false,
          "type": "data",
          "visible": true
         },
         "mode": "markers",
         "name": "Predicted Price (TEST)",
         "type": "scatter",
         "x": [
          99,
          42,
          253,
          143,
          16,
          252,
          40,
          146,
          231,
          241,
          68,
          176,
          278,
          38,
          246,
          225,
          159,
          18,
          256,
          195,
          267,
          118,
          70,
          128,
          140,
          107,
          162,
          219,
          24,
          51,
          45,
          237,
          150,
          260,
          144,
          254,
          74,
          13,
          9,
          114,
          270,
          89,
          86,
          155,
          172,
          46,
          97,
          167,
          156,
          257,
          242,
          158,
          207,
          170,
          127,
          274,
          19,
          21,
          183,
          149,
          85,
          232,
          145,
          277,
          265,
          1,
          247,
          82,
          244,
          98,
          15
         ],
         "y": [
          56.428233362552305,
          51.56678697266386,
          1843.8713638126574,
          212.69301437576348,
          30.476921358554932,
          1802.2535612066931,
          49.515152382347765,
          219.8898718948475,
          1298.9622564425881,
          1282.406672942052,
          105.12308429721077,
          464.7003799255398,
          3179.0159594563956,
          49.383854872259576,
          1429.1984031764514,
          1498.8323349191996,
          402.14546171566315,
          34.39382873654347,
          1965.1579279907237,
          1186.8831450662765,
          2223.5850677288327,
          131.75937431763293,
          106.23604305092147,
          112.03596144243045,
          191.10717908450158,
          91.34510763944843,
          344.0985737208465,
          1196.143184471941,
          53.073701564486214,
          71.26729929521014,
          59.78511921358211,
          1152.7771082090403,
          263.36539728578634,
          2011.6446429189018,
          205.32443111004238,
          1724.1098636412717,
          109.6659266857531,
          34.3236367318367,
          34.05181570092452,
          114.2580583383168,
          2566.187297985256,
          99.99183577336942,
          90.52876274399011,
          368.2502487050732,
          348.4849410927271,
          62.11572692251855,
          85.1728296292348,
          410.09304942230654,
          378.73845061631425,
          1952.046061632056,
          1171.0557828753444,
          387.8269971478511,
          1126.5772432265294,
          405.01404957655893,
          143.11082435159904,
          2943.7102828326824,
          34.16833123899039,
          40.02571493945095,
          664.1029693082163,
          287.75730103754165,
          86.40442594798503,
          1206.8365252721778,
          201.15058352135372,
          3171.66594523035,
          2242.31280009944,
          20.20957797898143,
          1459.9080919936023,
          92.40912337604084,
          1298.36375936267,
          61.44720629698702,
          30.188974838672834
         ]
        }
       ],
       "layout": {
        "template": {
         "data": {
          "bar": [
           {
            "error_x": {
             "color": "#2a3f5f"
            },
            "error_y": {
             "color": "#2a3f5f"
            },
            "marker": {
             "line": {
              "color": "#E5ECF6",
              "width": 0.5
             },
             "pattern": {
              "fillmode": "overlay",
              "size": 10,
              "solidity": 0.2
             }
            },
            "type": "bar"
           }
          ],
          "barpolar": [
           {
            "marker": {
             "line": {
              "color": "#E5ECF6",
              "width": 0.5
             },
             "pattern": {
              "fillmode": "overlay",
              "size": 10,
              "solidity": 0.2
             }
            },
            "type": "barpolar"
           }
          ],
          "carpet": [
           {
            "aaxis": {
             "endlinecolor": "#2a3f5f",
             "gridcolor": "white",
             "linecolor": "white",
             "minorgridcolor": "white",
             "startlinecolor": "#2a3f5f"
            },
            "baxis": {
             "endlinecolor": "#2a3f5f",
             "gridcolor": "white",
             "linecolor": "white",
             "minorgridcolor": "white",
             "startlinecolor": "#2a3f5f"
            },
            "type": "carpet"
           }
          ],
          "choropleth": [
           {
            "colorbar": {
             "outlinewidth": 0,
             "ticks": ""
            },
            "type": "choropleth"
           }
          ],
          "contour": [
           {
            "colorbar": {
             "outlinewidth": 0,
             "ticks": ""
            },
            "colorscale": [
             [
              0,
              "#0d0887"
             ],
             [
              0.1111111111111111,
              "#46039f"
             ],
             [
              0.2222222222222222,
              "#7201a8"
             ],
             [
              0.3333333333333333,
              "#9c179e"
             ],
             [
              0.4444444444444444,
              "#bd3786"
             ],
             [
              0.5555555555555556,
              "#d8576b"
             ],
             [
              0.6666666666666666,
              "#ed7953"
             ],
             [
              0.7777777777777778,
              "#fb9f3a"
             ],
             [
              0.8888888888888888,
              "#fdca26"
             ],
             [
              1,
              "#f0f921"
             ]
            ],
            "type": "contour"
           }
          ],
          "contourcarpet": [
           {
            "colorbar": {
             "outlinewidth": 0,
             "ticks": ""
            },
            "type": "contourcarpet"
           }
          ],
          "heatmap": [
           {
            "colorbar": {
             "outlinewidth": 0,
             "ticks": ""
            },
            "colorscale": [
             [
              0,
              "#0d0887"
             ],
             [
              0.1111111111111111,
              "#46039f"
             ],
             [
              0.2222222222222222,
              "#7201a8"
             ],
             [
              0.3333333333333333,
              "#9c179e"
             ],
             [
              0.4444444444444444,
              "#bd3786"
             ],
             [
              0.5555555555555556,
              "#d8576b"
             ],
             [
              0.6666666666666666,
              "#ed7953"
             ],
             [
              0.7777777777777778,
              "#fb9f3a"
             ],
             [
              0.8888888888888888,
              "#fdca26"
             ],
             [
              1,
              "#f0f921"
             ]
            ],
            "type": "heatmap"
           }
          ],
          "heatmapgl": [
           {
            "colorbar": {
             "outlinewidth": 0,
             "ticks": ""
            },
            "colorscale": [
             [
              0,
              "#0d0887"
             ],
             [
              0.1111111111111111,
              "#46039f"
             ],
             [
              0.2222222222222222,
              "#7201a8"
             ],
             [
              0.3333333333333333,
              "#9c179e"
             ],
             [
              0.4444444444444444,
              "#bd3786"
             ],
             [
              0.5555555555555556,
              "#d8576b"
             ],
             [
              0.6666666666666666,
              "#ed7953"
             ],
             [
              0.7777777777777778,
              "#fb9f3a"
             ],
             [
              0.8888888888888888,
              "#fdca26"
             ],
             [
              1,
              "#f0f921"
             ]
            ],
            "type": "heatmapgl"
           }
          ],
          "histogram": [
           {
            "marker": {
             "pattern": {
              "fillmode": "overlay",
              "size": 10,
              "solidity": 0.2
             }
            },
            "type": "histogram"
           }
          ],
          "histogram2d": [
           {
            "colorbar": {
             "outlinewidth": 0,
             "ticks": ""
            },
            "colorscale": [
             [
              0,
              "#0d0887"
             ],
             [
              0.1111111111111111,
              "#46039f"
             ],
             [
              0.2222222222222222,
              "#7201a8"
             ],
             [
              0.3333333333333333,
              "#9c179e"
             ],
             [
              0.4444444444444444,
              "#bd3786"
             ],
             [
              0.5555555555555556,
              "#d8576b"
             ],
             [
              0.6666666666666666,
              "#ed7953"
             ],
             [
              0.7777777777777778,
              "#fb9f3a"
             ],
             [
              0.8888888888888888,
              "#fdca26"
             ],
             [
              1,
              "#f0f921"
             ]
            ],
            "type": "histogram2d"
           }
          ],
          "histogram2dcontour": [
           {
            "colorbar": {
             "outlinewidth": 0,
             "ticks": ""
            },
            "colorscale": [
             [
              0,
              "#0d0887"
             ],
             [
              0.1111111111111111,
              "#46039f"
             ],
             [
              0.2222222222222222,
              "#7201a8"
             ],
             [
              0.3333333333333333,
              "#9c179e"
             ],
             [
              0.4444444444444444,
              "#bd3786"
             ],
             [
              0.5555555555555556,
              "#d8576b"
             ],
             [
              0.6666666666666666,
              "#ed7953"
             ],
             [
              0.7777777777777778,
              "#fb9f3a"
             ],
             [
              0.8888888888888888,
              "#fdca26"
             ],
             [
              1,
              "#f0f921"
             ]
            ],
            "type": "histogram2dcontour"
           }
          ],
          "mesh3d": [
           {
            "colorbar": {
             "outlinewidth": 0,
             "ticks": ""
            },
            "type": "mesh3d"
           }
          ],
          "parcoords": [
           {
            "line": {
             "colorbar": {
              "outlinewidth": 0,
              "ticks": ""
             }
            },
            "type": "parcoords"
           }
          ],
          "pie": [
           {
            "automargin": true,
            "type": "pie"
           }
          ],
          "scatter": [
           {
            "fillpattern": {
             "fillmode": "overlay",
             "size": 10,
             "solidity": 0.2
            },
            "type": "scatter"
           }
          ],
          "scatter3d": [
           {
            "line": {
             "colorbar": {
              "outlinewidth": 0,
              "ticks": ""
             }
            },
            "marker": {
             "colorbar": {
              "outlinewidth": 0,
              "ticks": ""
             }
            },
            "type": "scatter3d"
           }
          ],
          "scattercarpet": [
           {
            "marker": {
             "colorbar": {
              "outlinewidth": 0,
              "ticks": ""
             }
            },
            "type": "scattercarpet"
           }
          ],
          "scattergeo": [
           {
            "marker": {
             "colorbar": {
              "outlinewidth": 0,
              "ticks": ""
             }
            },
            "type": "scattergeo"
           }
          ],
          "scattergl": [
           {
            "marker": {
             "colorbar": {
              "outlinewidth": 0,
              "ticks": ""
             }
            },
            "type": "scattergl"
           }
          ],
          "scattermapbox": [
           {
            "marker": {
             "colorbar": {
              "outlinewidth": 0,
              "ticks": ""
             }
            },
            "type": "scattermapbox"
           }
          ],
          "scatterpolar": [
           {
            "marker": {
             "colorbar": {
              "outlinewidth": 0,
              "ticks": ""
             }
            },
            "type": "scatterpolar"
           }
          ],
          "scatterpolargl": [
           {
            "marker": {
             "colorbar": {
              "outlinewidth": 0,
              "ticks": ""
             }
            },
            "type": "scatterpolargl"
           }
          ],
          "scatterternary": [
           {
            "marker": {
             "colorbar": {
              "outlinewidth": 0,
              "ticks": ""
             }
            },
            "type": "scatterternary"
           }
          ],
          "surface": [
           {
            "colorbar": {
             "outlinewidth": 0,
             "ticks": ""
            },
            "colorscale": [
             [
              0,
              "#0d0887"
             ],
             [
              0.1111111111111111,
              "#46039f"
             ],
             [
              0.2222222222222222,
              "#7201a8"
             ],
             [
              0.3333333333333333,
              "#9c179e"
             ],
             [
              0.4444444444444444,
              "#bd3786"
             ],
             [
              0.5555555555555556,
              "#d8576b"
             ],
             [
              0.6666666666666666,
              "#ed7953"
             ],
             [
              0.7777777777777778,
              "#fb9f3a"
             ],
             [
              0.8888888888888888,
              "#fdca26"
             ],
             [
              1,
              "#f0f921"
             ]
            ],
            "type": "surface"
           }
          ],
          "table": [
           {
            "cells": {
             "fill": {
              "color": "#EBF0F8"
             },
             "line": {
              "color": "white"
             }
            },
            "header": {
             "fill": {
              "color": "#C8D4E3"
             },
             "line": {
              "color": "white"
             }
            },
            "type": "table"
           }
          ]
         },
         "layout": {
          "annotationdefaults": {
           "arrowcolor": "#2a3f5f",
           "arrowhead": 0,
           "arrowwidth": 1
          },
          "autotypenumbers": "strict",
          "coloraxis": {
           "colorbar": {
            "outlinewidth": 0,
            "ticks": ""
           }
          },
          "colorscale": {
           "diverging": [
            [
             0,
             "#8e0152"
            ],
            [
             0.1,
             "#c51b7d"
            ],
            [
             0.2,
             "#de77ae"
            ],
            [
             0.3,
             "#f1b6da"
            ],
            [
             0.4,
             "#fde0ef"
            ],
            [
             0.5,
             "#f7f7f7"
            ],
            [
             0.6,
             "#e6f5d0"
            ],
            [
             0.7,
             "#b8e186"
            ],
            [
             0.8,
             "#7fbc41"
            ],
            [
             0.9,
             "#4d9221"
            ],
            [
             1,
             "#276419"
            ]
           ],
           "sequential": [
            [
             0,
             "#0d0887"
            ],
            [
             0.1111111111111111,
             "#46039f"
            ],
            [
             0.2222222222222222,
             "#7201a8"
            ],
            [
             0.3333333333333333,
             "#9c179e"
            ],
            [
             0.4444444444444444,
             "#bd3786"
            ],
            [
             0.5555555555555556,
             "#d8576b"
            ],
            [
             0.6666666666666666,
             "#ed7953"
            ],
            [
             0.7777777777777778,
             "#fb9f3a"
            ],
            [
             0.8888888888888888,
             "#fdca26"
            ],
            [
             1,
             "#f0f921"
            ]
           ],
           "sequentialminus": [
            [
             0,
             "#0d0887"
            ],
            [
             0.1111111111111111,
             "#46039f"
            ],
            [
             0.2222222222222222,
             "#7201a8"
            ],
            [
             0.3333333333333333,
             "#9c179e"
            ],
            [
             0.4444444444444444,
             "#bd3786"
            ],
            [
             0.5555555555555556,
             "#d8576b"
            ],
            [
             0.6666666666666666,
             "#ed7953"
            ],
            [
             0.7777777777777778,
             "#fb9f3a"
            ],
            [
             0.8888888888888888,
             "#fdca26"
            ],
            [
             1,
             "#f0f921"
            ]
           ]
          },
          "colorway": [
           "#636efa",
           "#EF553B",
           "#00cc96",
           "#ab63fa",
           "#FFA15A",
           "#19d3f3",
           "#FF6692",
           "#B6E880",
           "#FF97FF",
           "#FECB52"
          ],
          "font": {
           "color": "#2a3f5f"
          },
          "geo": {
           "bgcolor": "white",
           "lakecolor": "white",
           "landcolor": "#E5ECF6",
           "showlakes": true,
           "showland": true,
           "subunitcolor": "white"
          },
          "hoverlabel": {
           "align": "left"
          },
          "hovermode": "closest",
          "mapbox": {
           "style": "light"
          },
          "paper_bgcolor": "white",
          "plot_bgcolor": "#E5ECF6",
          "polar": {
           "angularaxis": {
            "gridcolor": "white",
            "linecolor": "white",
            "ticks": ""
           },
           "bgcolor": "#E5ECF6",
           "radialaxis": {
            "gridcolor": "white",
            "linecolor": "white",
            "ticks": ""
           }
          },
          "scene": {
           "xaxis": {
            "backgroundcolor": "#E5ECF6",
            "gridcolor": "white",
            "gridwidth": 2,
            "linecolor": "white",
            "showbackground": true,
            "ticks": "",
            "zerolinecolor": "white"
           },
           "yaxis": {
            "backgroundcolor": "#E5ECF6",
            "gridcolor": "white",
            "gridwidth": 2,
            "linecolor": "white",
            "showbackground": true,
            "ticks": "",
            "zerolinecolor": "white"
           },
           "zaxis": {
            "backgroundcolor": "#E5ECF6",
            "gridcolor": "white",
            "gridwidth": 2,
            "linecolor": "white",
            "showbackground": true,
            "ticks": "",
            "zerolinecolor": "white"
           }
          },
          "shapedefaults": {
           "line": {
            "color": "#2a3f5f"
           }
          },
          "ternary": {
           "aaxis": {
            "gridcolor": "white",
            "linecolor": "white",
            "ticks": ""
           },
           "baxis": {
            "gridcolor": "white",
            "linecolor": "white",
            "ticks": ""
           },
           "bgcolor": "#E5ECF6",
           "caxis": {
            "gridcolor": "white",
            "linecolor": "white",
            "ticks": ""
           }
          },
          "title": {
           "x": 0.05
          },
          "xaxis": {
           "automargin": true,
           "gridcolor": "white",
           "linecolor": "white",
           "ticks": "",
           "title": {
            "standoff": 15
           },
           "zerolinecolor": "white",
           "zerolinewidth": 2
          },
          "yaxis": {
           "automargin": true,
           "gridcolor": "white",
           "linecolor": "white",
           "ticks": "",
           "title": {
            "standoff": 15
           },
           "zerolinecolor": "white",
           "zerolinewidth": 2
          }
         }
        },
        "title": {
         "text": "### Mean Square Error :4725.4 ###"
        },
        "xaxis": {
         "title": {
          "text": "<b>Date</b>"
         }
        },
        "yaxis": {
         "title": {
          "text": "<b>Price</b>"
         }
        }
       }
      }
     },
     "metadata": {},
     "output_type": "display_data"
    }
   ],
   "source": [
    "y = pd.DataFrame(df_full['CloseNext'])\n",
    "X = pd.DataFrame(df_full[['real_gdp', 'consumer_spending', 'gnp', 'gdp', 'private_domestic_investment']])\n",
    "\n",
    "# Find best train-test-split based on median R^2 or MSE\n",
    "option = 'MSE' # 'R^2' or 'MSE' ('MSE' refers to 'MSE train')\n",
    "\n",
    "med = 0\n",
    "state = 0\n",
    "if (option == 'R^2'):\n",
    "    med = res_df2.describe().loc['50%'].at['R^2']\n",
    "    state = res_df2['R^2'].sub(med).abs().idxmin()\n",
    "elif (option == 'MSE'):\n",
    "    med = res_df2.describe().loc['50%'].at['MSE train']\n",
    "    state = res_df2['MSE train'].sub(med).abs().idxmin()\n",
    "print(f'random_state = {state}')\n",
    "X_train, X_test, y_train, y_test = train_test_split(X, y, test_size=0.25, random_state=state)\n",
    "\n",
    "poly = PolynomialFeatures(degree=2)\n",
    "poly_reg = LinearRegression()\n",
    "\n",
    "# train model\n",
    "X_ = poly.fit_transform(X_train)\n",
    "X_ = np.delete(X_,(1),axis=1)\n",
    "poly_reg.fit(X_, y_train)\n",
    "y_pred = poly_reg.predict(X_)\n",
    "# test model\n",
    "X_2 = poly.fit_transform(X_test)\n",
    "X_2 = np.delete(X_2,(1),axis=1)\n",
    "y_pred2 = poly_reg.predict(X_2)\n",
    "# whole model (train+test)\n",
    "X_3 = poly.fit_transform(X)\n",
    "X_3 = np.delete(X_3,(1),axis=1)\n",
    "y_pred3 = poly_reg.predict(X_3)\n",
    "\n",
    "print(f'Explained Variance: {poly_reg.score(X_, y_train)}')\n",
    "print(f'Train Set MSE: {mse(y_train, y_pred)}')\n",
    "print(f'Test Set MSE: {mse(y_test, y_pred2)}')\n",
    "\n",
    "fig = go.Figure()\n",
    "\n",
    "fig.add_trace(go.Scatter(x=df_full.index, y=y['CloseNext'], name=\"Actual Price\"))\n",
    "\n",
    "#fig.add_trace(go.Scatter(x=y.index, y=pd.Series(np.squeeze(y_pred3)), name=\"Predicted Price (TRAIN + TEST)\"))\n",
    "\n",
    "error = np.array(y_test) - np.array(y_pred2)\n",
    "fig.add_trace(go.Scatter(\n",
    "        x=y_test.index, y=pd.Series(np.squeeze(y_pred2)),\n",
    "        error_y=dict(\n",
    "            type='data',\n",
    "            symmetric=False,\n",
    "            array=error,\n",
    "            visible=True),\n",
    "        mode='markers',\n",
    "        name=\"Predicted Price (TEST)\"))\n",
    "\n",
    "fig.update_layout(\n",
    "    title_text='### Mean Square Error :' + str(mse(y_test, y_pred2).round(2)) + ' ###'\n",
    ")\n",
    "\n",
    "fig.update_xaxes(title_text=\"<b>Date</b>\")\n",
    "fig.update_yaxes(title_text=\"<b>Price</b>\")\n",
    "\n",
    "fig.show()"
   ]
  },
  {
   "cell_type": "code",
   "execution_count": 24,
   "metadata": {},
   "outputs": [
    {
     "data": {
      "text/plain": [
       "array([[ 0.00000000e+00, -2.95172045e+00,  2.51244273e+01,\n",
       "        -2.40731433e+01,  2.74803672e+01,  9.56141749e-06,\n",
       "         7.41735813e-04, -4.59552721e-03,  4.21227914e-03,\n",
       "        -3.07246285e-03, -1.27092166e-03,  1.28371057e-02,\n",
       "        -1.27146592e-02,  3.90385024e-02, -2.31291457e-03,\n",
       "         5.04047686e-04, -6.74394414e-02,  2.21475307e-03,\n",
       "         4.37620280e-02, -3.93878299e-04]])"
      ]
     },
     "metadata": {},
     "output_type": "display_data"
    },
    {
     "data": {
      "text/plain": [
       "array([105.7372506])"
      ]
     },
     "metadata": {},
     "output_type": "display_data"
    }
   ],
   "source": [
    "display(poly_reg.coef_)\n",
    "display(poly_reg.intercept_)"
   ]
  },
  {
   "cell_type": "markdown",
   "metadata": {},
   "source": [
    "## Hypothesis Testing (Welch T Test) - Comparing the 2 Model's Reliability"
   ]
  },
  {
   "cell_type": "code",
   "execution_count": 25,
   "metadata": {},
   "outputs": [
    {
     "name": "stdout",
     "output_type": "stream",
     "text": [
      "p-value:  5.756720798857384e-09\n"
     ]
    }
   ],
   "source": [
    "reg_df = pd.read_csv(\"results/regression_results.csv\")\n",
    "reg = reg_df['MSE test']\n",
    "lstm = pd.read_csv(\"results/lstm_results.csv\")\n",
    "lstm.drop('Unnamed: 0', inplace=True, axis=1)\n",
    "from scipy import stats\n",
    "p_value = stats.ttest_ind(reg, lstm, equal_var = False)\n",
    "print(\"p-value: \", p_value[1][1])"
   ]
  },
  {
   "cell_type": "markdown",
   "metadata": {},
   "source": [
    "Let h0= \"both means are equal\", h1= \"lstm mean is higher than reg\", p value of test statistic is 5.756720798857384e-09, so at a 99% confidence interval we reject the null hypothesis."
   ]
  },
  {
   "cell_type": "markdown",
   "metadata": {},
   "source": [
    "# Intelligent Decision"
   ]
  },
  {
   "cell_type": "markdown",
   "metadata": {},
   "source": [
    "## Conclusion"
   ]
  },
  {
   "cell_type": "markdown",
   "metadata": {},
   "source": [
    "#### Regression model performs much better than LSTM because it doesn't assume that the past indicates the future. <br> It puts more emphasis on understanding the relationship between economic situation and sentiments to stock prices."
   ]
  },
  {
   "cell_type": "markdown",
   "metadata": {},
   "source": [
    "## Recommendations"
   ]
  },
  {
   "cell_type": "markdown",
   "metadata": {},
   "source": [
    "1) Use a predictive model that takes both past trends and current economic situations as predictors <br> \n",
    "2) Use weekly data instead of quarterly data for more precise results i.e. quarterly/monthly data (e.g. GDP) can be converted to weekly/daily data by repeating the same values within the same quarter/month <br> \n",
    "3) Bring in market sentiment indicators i.e NLP tools that scrapes and convert news headlines to measurable market/economic parameters <br>\n",
    "4) To prevent overfitting, ensure to de-trend features and only select top-most correlated ones <br>"
   ]
  }
 ],
 "metadata": {
  "interpreter": {
   "hash": "8393fb9997f2a05ac4160099d52961a5f0f6ca85cce011f9102be47b67de7d6a"
  },
  "kernelspec": {
   "display_name": "Python 3.9.5 64-bit",
   "language": "python",
   "name": "python3"
  },
  "language_info": {
   "codemirror_mode": {
    "name": "ipython",
    "version": 3
   },
   "file_extension": ".py",
   "mimetype": "text/x-python",
   "name": "python",
   "nbconvert_exporter": "python",
   "pygments_lexer": "ipython3",
   "version": "3.9.5"
  },
  "orig_nbformat": 4
 },
 "nbformat": 4,
 "nbformat_minor": 2
}
