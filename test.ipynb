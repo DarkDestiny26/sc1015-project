{
 "cells": [
  {
   "cell_type": "markdown",
   "metadata": {},
   "source": [
    "# SC1015 Mini Project - Horstann, Julian, Kai Seong"
   ]
  },
  {
   "cell_type": "markdown",
   "metadata": {},
   "source": [
    "## Importing libraries"
   ]
  },
  {
   "cell_type": "code",
   "execution_count": 1,
   "metadata": {},
   "outputs": [],
   "source": [
    "import pandas as pd\n",
    "import seaborn as sns\n",
    "import numpy as np\n",
    "import matplotlib.pyplot as plt\n",
    "import plotly.graph_objects as go\n",
    "from plotly.subplots import make_subplots\n",
    "from fredapi import Fred\n",
    "fred = Fred(api_key='c9bf6c761c1df3965ce56d77ef6c8f77')\n",
    "sns.set()"
   ]
  },
  {
   "cell_type": "markdown",
   "metadata": {},
   "source": [
    "## Getting Data (FREDAPI) & Dropping Null Values"
   ]
  },
  {
   "cell_type": "code",
   "execution_count": 2,
   "metadata": {},
   "outputs": [
    {
     "data": {
      "text/html": [
       "<div>\n",
       "<style scoped>\n",
       "    .dataframe tbody tr th:only-of-type {\n",
       "        vertical-align: middle;\n",
       "    }\n",
       "\n",
       "    .dataframe tbody tr th {\n",
       "        vertical-align: top;\n",
       "    }\n",
       "\n",
       "    .dataframe thead th {\n",
       "        text-align: right;\n",
       "    }\n",
       "</style>\n",
       "<table border=\"1\" class=\"dataframe\">\n",
       "  <thead>\n",
       "    <tr style=\"text-align: right;\">\n",
       "      <th></th>\n",
       "      <th>gdp</th>\n",
       "      <th>gnp</th>\n",
       "      <th>real_gdp</th>\n",
       "      <th>real_gdp_per_capita</th>\n",
       "      <th>net_exports</th>\n",
       "      <th>gni</th>\n",
       "      <th>govt_spending</th>\n",
       "      <th>consumer_spending</th>\n",
       "      <th>private_domestic_investment</th>\n",
       "      <th>cpi</th>\n",
       "      <th>consumer_oil_price</th>\n",
       "      <th>ir</th>\n",
       "      <th>unemployment_rate</th>\n",
       "    </tr>\n",
       "  </thead>\n",
       "  <tbody>\n",
       "    <tr>\n",
       "      <th>1950-01-01</th>\n",
       "      <td>280.828</td>\n",
       "      <td>282.056</td>\n",
       "      <td>2186.365</td>\n",
       "      <td>14500.0</td>\n",
       "      <td>2.203</td>\n",
       "      <td>283.031</td>\n",
       "      <td>599.569</td>\n",
       "      <td>182.920</td>\n",
       "      <td>1.071</td>\n",
       "      <td>23.587</td>\n",
       "      <td>11.033</td>\n",
       "      <td>1.50</td>\n",
       "      <td>6.4</td>\n",
       "    </tr>\n",
       "    <tr>\n",
       "      <th>1950-04-01</th>\n",
       "      <td>290.383</td>\n",
       "      <td>291.699</td>\n",
       "      <td>2253.045</td>\n",
       "      <td>14889.0</td>\n",
       "      <td>1.643</td>\n",
       "      <td>292.026</td>\n",
       "      <td>610.519</td>\n",
       "      <td>186.806</td>\n",
       "      <td>1.164</td>\n",
       "      <td>23.767</td>\n",
       "      <td>11.133</td>\n",
       "      <td>1.50</td>\n",
       "      <td>5.6</td>\n",
       "    </tr>\n",
       "    <tr>\n",
       "      <th>1950-07-01</th>\n",
       "      <td>308.153</td>\n",
       "      <td>309.760</td>\n",
       "      <td>2340.112</td>\n",
       "      <td>15398.0</td>\n",
       "      <td>-0.740</td>\n",
       "      <td>307.413</td>\n",
       "      <td>600.663</td>\n",
       "      <td>200.505</td>\n",
       "      <td>1.247</td>\n",
       "      <td>24.203</td>\n",
       "      <td>11.267</td>\n",
       "      <td>1.61</td>\n",
       "      <td>4.6</td>\n",
       "    </tr>\n",
       "    <tr>\n",
       "      <th>1950-10-01</th>\n",
       "      <td>319.945</td>\n",
       "      <td>321.554</td>\n",
       "      <td>2384.920</td>\n",
       "      <td>15623.0</td>\n",
       "      <td>-0.154</td>\n",
       "      <td>319.791</td>\n",
       "      <td>643.100</td>\n",
       "      <td>197.946</td>\n",
       "      <td>1.289</td>\n",
       "      <td>24.693</td>\n",
       "      <td>11.500</td>\n",
       "      <td>1.75</td>\n",
       "      <td>4.2</td>\n",
       "    </tr>\n",
       "    <tr>\n",
       "      <th>1951-01-01</th>\n",
       "      <td>336.000</td>\n",
       "      <td>337.537</td>\n",
       "      <td>2417.311</td>\n",
       "      <td>15769.0</td>\n",
       "      <td>0.177</td>\n",
       "      <td>336.177</td>\n",
       "      <td>711.537</td>\n",
       "      <td>209.207</td>\n",
       "      <td>1.296</td>\n",
       "      <td>25.697</td>\n",
       "      <td>11.700</td>\n",
       "      <td>1.75</td>\n",
       "      <td>3.5</td>\n",
       "    </tr>\n",
       "    <tr>\n",
       "      <th>...</th>\n",
       "      <td>...</td>\n",
       "      <td>...</td>\n",
       "      <td>...</td>\n",
       "      <td>...</td>\n",
       "      <td>...</td>\n",
       "      <td>...</td>\n",
       "      <td>...</td>\n",
       "      <td>...</td>\n",
       "      <td>...</td>\n",
       "      <td>...</td>\n",
       "      <td>...</td>\n",
       "      <td>...</td>\n",
       "      <td>...</td>\n",
       "    </tr>\n",
       "    <tr>\n",
       "      <th>2020-04-01</th>\n",
       "      <td>19477.444</td>\n",
       "      <td>19649.442</td>\n",
       "      <td>17258.205</td>\n",
       "      <td>52031.0</td>\n",
       "      <td>-538.876</td>\n",
       "      <td>18938.568</td>\n",
       "      <td>3378.132</td>\n",
       "      <td>12989.729</td>\n",
       "      <td>519.850</td>\n",
       "      <td>256.418</td>\n",
       "      <td>219.570</td>\n",
       "      <td>0.25</td>\n",
       "      <td>13.0</td>\n",
       "    </tr>\n",
       "    <tr>\n",
       "      <th>2020-07-01</th>\n",
       "      <td>21138.574</td>\n",
       "      <td>21365.412</td>\n",
       "      <td>18560.774</td>\n",
       "      <td>55933.0</td>\n",
       "      <td>-725.723</td>\n",
       "      <td>20412.851</td>\n",
       "      <td>3360.238</td>\n",
       "      <td>14293.832</td>\n",
       "      <td>539.864</td>\n",
       "      <td>259.438</td>\n",
       "      <td>232.403</td>\n",
       "      <td>0.25</td>\n",
       "      <td>8.8</td>\n",
       "    </tr>\n",
       "    <tr>\n",
       "      <th>2020-10-01</th>\n",
       "      <td>21477.597</td>\n",
       "      <td>21728.223</td>\n",
       "      <td>18767.778</td>\n",
       "      <td>56533.0</td>\n",
       "      <td>-798.431</td>\n",
       "      <td>20679.166</td>\n",
       "      <td>3356.030</td>\n",
       "      <td>14467.611</td>\n",
       "      <td>561.269</td>\n",
       "      <td>260.879</td>\n",
       "      <td>234.862</td>\n",
       "      <td>0.25</td>\n",
       "      <td>6.8</td>\n",
       "    </tr>\n",
       "    <tr>\n",
       "      <th>2021-01-01</th>\n",
       "      <td>22038.226</td>\n",
       "      <td>22273.060</td>\n",
       "      <td>19055.655</td>\n",
       "      <td>57405.0</td>\n",
       "      <td>-872.540</td>\n",
       "      <td>21165.686</td>\n",
       "      <td>3390.921</td>\n",
       "      <td>15005.444</td>\n",
       "      <td>576.340</td>\n",
       "      <td>263.525</td>\n",
       "      <td>274.983</td>\n",
       "      <td>0.25</td>\n",
       "      <td>6.2</td>\n",
       "    </tr>\n",
       "    <tr>\n",
       "      <th>2021-04-01</th>\n",
       "      <td>22740.959</td>\n",
       "      <td>22971.357</td>\n",
       "      <td>19368.310</td>\n",
       "      <td>58335.0</td>\n",
       "      <td>-881.689</td>\n",
       "      <td>21859.270</td>\n",
       "      <td>3373.765</td>\n",
       "      <td>15681.699</td>\n",
       "      <td>594.504</td>\n",
       "      <td>268.760</td>\n",
       "      <td>289.754</td>\n",
       "      <td>0.25</td>\n",
       "      <td>5.9</td>\n",
       "    </tr>\n",
       "  </tbody>\n",
       "</table>\n",
       "<p>286 rows × 13 columns</p>\n",
       "</div>"
      ],
      "text/plain": [
       "                  gdp        gnp   real_gdp  real_gdp_per_capita  net_exports  \\\n",
       "1950-01-01    280.828    282.056   2186.365              14500.0        2.203   \n",
       "1950-04-01    290.383    291.699   2253.045              14889.0        1.643   \n",
       "1950-07-01    308.153    309.760   2340.112              15398.0       -0.740   \n",
       "1950-10-01    319.945    321.554   2384.920              15623.0       -0.154   \n",
       "1951-01-01    336.000    337.537   2417.311              15769.0        0.177   \n",
       "...               ...        ...        ...                  ...          ...   \n",
       "2020-04-01  19477.444  19649.442  17258.205              52031.0     -538.876   \n",
       "2020-07-01  21138.574  21365.412  18560.774              55933.0     -725.723   \n",
       "2020-10-01  21477.597  21728.223  18767.778              56533.0     -798.431   \n",
       "2021-01-01  22038.226  22273.060  19055.655              57405.0     -872.540   \n",
       "2021-04-01  22740.959  22971.357  19368.310              58335.0     -881.689   \n",
       "\n",
       "                  gni  govt_spending  consumer_spending  \\\n",
       "1950-01-01    283.031        599.569            182.920   \n",
       "1950-04-01    292.026        610.519            186.806   \n",
       "1950-07-01    307.413        600.663            200.505   \n",
       "1950-10-01    319.791        643.100            197.946   \n",
       "1951-01-01    336.177        711.537            209.207   \n",
       "...               ...            ...                ...   \n",
       "2020-04-01  18938.568       3378.132          12989.729   \n",
       "2020-07-01  20412.851       3360.238          14293.832   \n",
       "2020-10-01  20679.166       3356.030          14467.611   \n",
       "2021-01-01  21165.686       3390.921          15005.444   \n",
       "2021-04-01  21859.270       3373.765          15681.699   \n",
       "\n",
       "            private_domestic_investment      cpi  consumer_oil_price    ir  \\\n",
       "1950-01-01                        1.071   23.587              11.033  1.50   \n",
       "1950-04-01                        1.164   23.767              11.133  1.50   \n",
       "1950-07-01                        1.247   24.203              11.267  1.61   \n",
       "1950-10-01                        1.289   24.693              11.500  1.75   \n",
       "1951-01-01                        1.296   25.697              11.700  1.75   \n",
       "...                                 ...      ...                 ...   ...   \n",
       "2020-04-01                      519.850  256.418             219.570  0.25   \n",
       "2020-07-01                      539.864  259.438             232.403  0.25   \n",
       "2020-10-01                      561.269  260.879             234.862  0.25   \n",
       "2021-01-01                      576.340  263.525             274.983  0.25   \n",
       "2021-04-01                      594.504  268.760             289.754  0.25   \n",
       "\n",
       "            unemployment_rate  \n",
       "1950-01-01                6.4  \n",
       "1950-04-01                5.6  \n",
       "1950-07-01                4.6  \n",
       "1950-10-01                4.2  \n",
       "1951-01-01                3.5  \n",
       "...                       ...  \n",
       "2020-04-01               13.0  \n",
       "2020-07-01                8.8  \n",
       "2020-10-01                6.8  \n",
       "2021-01-01                6.2  \n",
       "2021-04-01                5.9  \n",
       "\n",
       "[286 rows x 13 columns]"
      ]
     },
     "execution_count": 2,
     "metadata": {},
     "output_type": "execute_result"
    }
   ],
   "source": [
    "df = {}\n",
    "df['gdp'] = fred.get_series('GDP') #1947-2021, quarterly\n",
    "df['gnp'] = fred.get_series('GNP') #1947-2021, quarterly\n",
    "df['real_gdp'] = fred.get_series('GDPC1') #1947-2021, quarterly\n",
    "df['real_gdp_per_capita'] = fred.get_series('A939RX0Q048SBEA') #1947-2021, quarterly\n",
    "df['net_exports'] = fred.get_series('NETEXP') #1947-2021, quarterly\n",
    "df['gni'] = (df['gdp'] + df['net_exports'])\n",
    "df['govt_spending'] = fred.get_series('GCEC1') #1947-2021, quarterly\n",
    "df['consumer_spending'] = fred.get_series('PCEC') #1947-2021, quarterly\n",
    "df['private_domestic_investment'] = fred.get_series('Y006RC1Q027SBEA') #1947-2021, quarterly\n",
    "df['cpi'] = fred.get_series('CPIAUCSL', frequency='q', aggregation_method='avg') #1947-2022, quarterly\n",
    "df['consumer_oil_price'] = fred.get_series('CUSR0000SEHE', frequency='q', aggregation_method='avg') #1947-2022, quarterly\n",
    "df['ir'] = fred.get_series('INTDSRUSM193N', frequency='q', aggregation_method='avg') #1950-2021, quarterly\n",
    "df['unemployment_rate'] = fred.get_series('UNRATE', frequency='q', aggregation_method='avg') #1948-2022, quarterly\n",
    "\n",
    "df = pd.DataFrame(df)\n",
    "df_clean= df.dropna() \n",
    "df_clean"
   ]
  },
  {
   "cell_type": "markdown",
   "metadata": {},
   "source": [
    "## Calculating Percentage Change"
   ]
  },
  {
   "cell_type": "code",
   "execution_count": 3,
   "metadata": {},
   "outputs": [
    {
     "data": {
      "text/html": [
       "<div>\n",
       "<style scoped>\n",
       "    .dataframe tbody tr th:only-of-type {\n",
       "        vertical-align: middle;\n",
       "    }\n",
       "\n",
       "    .dataframe tbody tr th {\n",
       "        vertical-align: top;\n",
       "    }\n",
       "\n",
       "    .dataframe thead th {\n",
       "        text-align: right;\n",
       "    }\n",
       "</style>\n",
       "<table border=\"1\" class=\"dataframe\">\n",
       "  <thead>\n",
       "    <tr style=\"text-align: right;\">\n",
       "      <th></th>\n",
       "      <th>gdp</th>\n",
       "      <th>gnp</th>\n",
       "      <th>real_gdp</th>\n",
       "      <th>real_gdp_per_capita</th>\n",
       "      <th>net_exports</th>\n",
       "      <th>gni</th>\n",
       "      <th>govt_spending</th>\n",
       "      <th>consumer_spending</th>\n",
       "      <th>private_domestic_investment</th>\n",
       "      <th>cpi</th>\n",
       "      <th>consumer_oil_price</th>\n",
       "      <th>ir</th>\n",
       "      <th>unemployment_rate</th>\n",
       "    </tr>\n",
       "  </thead>\n",
       "  <tbody>\n",
       "    <tr>\n",
       "      <th>1950-04-01</th>\n",
       "      <td>0.034024</td>\n",
       "      <td>0.034188</td>\n",
       "      <td>0.030498</td>\n",
       "      <td>0.026828</td>\n",
       "      <td>-0.254199</td>\n",
       "      <td>0.031781</td>\n",
       "      <td>0.018263</td>\n",
       "      <td>0.021244</td>\n",
       "      <td>0.086835</td>\n",
       "      <td>0.007631</td>\n",
       "      <td>0.009064</td>\n",
       "      <td>0.000000</td>\n",
       "      <td>-0.125000</td>\n",
       "    </tr>\n",
       "    <tr>\n",
       "      <th>1950-07-01</th>\n",
       "      <td>0.061195</td>\n",
       "      <td>0.061917</td>\n",
       "      <td>0.038644</td>\n",
       "      <td>0.034186</td>\n",
       "      <td>-1.450396</td>\n",
       "      <td>0.052691</td>\n",
       "      <td>-0.016144</td>\n",
       "      <td>0.073333</td>\n",
       "      <td>0.071306</td>\n",
       "      <td>0.018345</td>\n",
       "      <td>0.012036</td>\n",
       "      <td>0.073333</td>\n",
       "      <td>-0.178571</td>\n",
       "    </tr>\n",
       "    <tr>\n",
       "      <th>1950-10-01</th>\n",
       "      <td>0.038267</td>\n",
       "      <td>0.038075</td>\n",
       "      <td>0.019148</td>\n",
       "      <td>0.014612</td>\n",
       "      <td>-0.791892</td>\n",
       "      <td>0.040265</td>\n",
       "      <td>0.070650</td>\n",
       "      <td>-0.012763</td>\n",
       "      <td>0.033681</td>\n",
       "      <td>0.020245</td>\n",
       "      <td>0.020680</td>\n",
       "      <td>0.086957</td>\n",
       "      <td>-0.086957</td>\n",
       "    </tr>\n",
       "    <tr>\n",
       "      <th>1951-01-01</th>\n",
       "      <td>0.050180</td>\n",
       "      <td>0.049705</td>\n",
       "      <td>0.013582</td>\n",
       "      <td>0.009345</td>\n",
       "      <td>-2.149351</td>\n",
       "      <td>0.051240</td>\n",
       "      <td>0.106417</td>\n",
       "      <td>0.056889</td>\n",
       "      <td>0.005431</td>\n",
       "      <td>0.040659</td>\n",
       "      <td>0.017391</td>\n",
       "      <td>0.000000</td>\n",
       "      <td>-0.166667</td>\n",
       "    </tr>\n",
       "    <tr>\n",
       "      <th>1951-04-01</th>\n",
       "      <td>0.024077</td>\n",
       "      <td>0.024993</td>\n",
       "      <td>0.017327</td>\n",
       "      <td>0.013317</td>\n",
       "      <td>9.977401</td>\n",
       "      <td>0.029318</td>\n",
       "      <td>0.133288</td>\n",
       "      <td>-0.020387</td>\n",
       "      <td>0.027778</td>\n",
       "      <td>0.009729</td>\n",
       "      <td>0.019915</td>\n",
       "      <td>0.000000</td>\n",
       "      <td>-0.114286</td>\n",
       "    </tr>\n",
       "    <tr>\n",
       "      <th>...</th>\n",
       "      <td>...</td>\n",
       "      <td>...</td>\n",
       "      <td>...</td>\n",
       "      <td>...</td>\n",
       "      <td>...</td>\n",
       "      <td>...</td>\n",
       "      <td>...</td>\n",
       "      <td>...</td>\n",
       "      <td>...</td>\n",
       "      <td>...</td>\n",
       "      <td>...</td>\n",
       "      <td>...</td>\n",
       "      <td>...</td>\n",
       "    </tr>\n",
       "    <tr>\n",
       "      <th>2020-04-01</th>\n",
       "      <td>-0.093287</td>\n",
       "      <td>-0.095382</td>\n",
       "      <td>-0.089373</td>\n",
       "      <td>-0.089810</td>\n",
       "      <td>-0.005246</td>\n",
       "      <td>-0.095564</td>\n",
       "      <td>0.009506</td>\n",
       "      <td>-0.100378</td>\n",
       "      <td>-0.018695</td>\n",
       "      <td>-0.008507</td>\n",
       "      <td>-0.163922</td>\n",
       "      <td>-0.841772</td>\n",
       "      <td>2.421053</td>\n",
       "    </tr>\n",
       "    <tr>\n",
       "      <th>2020-07-01</th>\n",
       "      <td>0.085285</td>\n",
       "      <td>0.087329</td>\n",
       "      <td>0.075475</td>\n",
       "      <td>0.074994</td>\n",
       "      <td>0.346735</td>\n",
       "      <td>0.077846</td>\n",
       "      <td>-0.005297</td>\n",
       "      <td>0.100395</td>\n",
       "      <td>0.038500</td>\n",
       "      <td>0.011778</td>\n",
       "      <td>0.058446</td>\n",
       "      <td>0.000000</td>\n",
       "      <td>-0.323077</td>\n",
       "    </tr>\n",
       "    <tr>\n",
       "      <th>2020-10-01</th>\n",
       "      <td>0.016038</td>\n",
       "      <td>0.016981</td>\n",
       "      <td>0.011153</td>\n",
       "      <td>0.010727</td>\n",
       "      <td>0.100187</td>\n",
       "      <td>0.013046</td>\n",
       "      <td>-0.001252</td>\n",
       "      <td>0.012158</td>\n",
       "      <td>0.039649</td>\n",
       "      <td>0.005554</td>\n",
       "      <td>0.010581</td>\n",
       "      <td>0.000000</td>\n",
       "      <td>-0.227273</td>\n",
       "    </tr>\n",
       "    <tr>\n",
       "      <th>2021-01-01</th>\n",
       "      <td>0.026103</td>\n",
       "      <td>0.025075</td>\n",
       "      <td>0.015339</td>\n",
       "      <td>0.015425</td>\n",
       "      <td>0.092818</td>\n",
       "      <td>0.023527</td>\n",
       "      <td>0.010397</td>\n",
       "      <td>0.037175</td>\n",
       "      <td>0.026852</td>\n",
       "      <td>0.010143</td>\n",
       "      <td>0.170828</td>\n",
       "      <td>0.000000</td>\n",
       "      <td>-0.088235</td>\n",
       "    </tr>\n",
       "    <tr>\n",
       "      <th>2021-04-01</th>\n",
       "      <td>0.031887</td>\n",
       "      <td>0.031352</td>\n",
       "      <td>0.016407</td>\n",
       "      <td>0.016201</td>\n",
       "      <td>0.010485</td>\n",
       "      <td>0.032769</td>\n",
       "      <td>-0.005059</td>\n",
       "      <td>0.045067</td>\n",
       "      <td>0.031516</td>\n",
       "      <td>0.019865</td>\n",
       "      <td>0.053716</td>\n",
       "      <td>0.000000</td>\n",
       "      <td>-0.048387</td>\n",
       "    </tr>\n",
       "  </tbody>\n",
       "</table>\n",
       "<p>285 rows × 13 columns</p>\n",
       "</div>"
      ],
      "text/plain": [
       "                 gdp       gnp  real_gdp  real_gdp_per_capita  net_exports  \\\n",
       "1950-04-01  0.034024  0.034188  0.030498             0.026828    -0.254199   \n",
       "1950-07-01  0.061195  0.061917  0.038644             0.034186    -1.450396   \n",
       "1950-10-01  0.038267  0.038075  0.019148             0.014612    -0.791892   \n",
       "1951-01-01  0.050180  0.049705  0.013582             0.009345    -2.149351   \n",
       "1951-04-01  0.024077  0.024993  0.017327             0.013317     9.977401   \n",
       "...              ...       ...       ...                  ...          ...   \n",
       "2020-04-01 -0.093287 -0.095382 -0.089373            -0.089810    -0.005246   \n",
       "2020-07-01  0.085285  0.087329  0.075475             0.074994     0.346735   \n",
       "2020-10-01  0.016038  0.016981  0.011153             0.010727     0.100187   \n",
       "2021-01-01  0.026103  0.025075  0.015339             0.015425     0.092818   \n",
       "2021-04-01  0.031887  0.031352  0.016407             0.016201     0.010485   \n",
       "\n",
       "                 gni  govt_spending  consumer_spending  \\\n",
       "1950-04-01  0.031781       0.018263           0.021244   \n",
       "1950-07-01  0.052691      -0.016144           0.073333   \n",
       "1950-10-01  0.040265       0.070650          -0.012763   \n",
       "1951-01-01  0.051240       0.106417           0.056889   \n",
       "1951-04-01  0.029318       0.133288          -0.020387   \n",
       "...              ...            ...                ...   \n",
       "2020-04-01 -0.095564       0.009506          -0.100378   \n",
       "2020-07-01  0.077846      -0.005297           0.100395   \n",
       "2020-10-01  0.013046      -0.001252           0.012158   \n",
       "2021-01-01  0.023527       0.010397           0.037175   \n",
       "2021-04-01  0.032769      -0.005059           0.045067   \n",
       "\n",
       "            private_domestic_investment       cpi  consumer_oil_price  \\\n",
       "1950-04-01                     0.086835  0.007631            0.009064   \n",
       "1950-07-01                     0.071306  0.018345            0.012036   \n",
       "1950-10-01                     0.033681  0.020245            0.020680   \n",
       "1951-01-01                     0.005431  0.040659            0.017391   \n",
       "1951-04-01                     0.027778  0.009729            0.019915   \n",
       "...                                 ...       ...                 ...   \n",
       "2020-04-01                    -0.018695 -0.008507           -0.163922   \n",
       "2020-07-01                     0.038500  0.011778            0.058446   \n",
       "2020-10-01                     0.039649  0.005554            0.010581   \n",
       "2021-01-01                     0.026852  0.010143            0.170828   \n",
       "2021-04-01                     0.031516  0.019865            0.053716   \n",
       "\n",
       "                  ir  unemployment_rate  \n",
       "1950-04-01  0.000000          -0.125000  \n",
       "1950-07-01  0.073333          -0.178571  \n",
       "1950-10-01  0.086957          -0.086957  \n",
       "1951-01-01  0.000000          -0.166667  \n",
       "1951-04-01  0.000000          -0.114286  \n",
       "...              ...                ...  \n",
       "2020-04-01 -0.841772           2.421053  \n",
       "2020-07-01  0.000000          -0.323077  \n",
       "2020-10-01  0.000000          -0.227273  \n",
       "2021-01-01  0.000000          -0.088235  \n",
       "2021-04-01  0.000000          -0.048387  \n",
       "\n",
       "[285 rows x 13 columns]"
      ]
     },
     "execution_count": 3,
     "metadata": {},
     "output_type": "execute_result"
    }
   ],
   "source": [
    "prcnt_chg = df_clean.pct_change()\n",
    "prcnt_chg = prcnt_chg.dropna()\n",
    "prcnt_chg"
   ]
  },
  {
   "cell_type": "markdown",
   "metadata": {},
   "source": [
    "## Getting & Reformatting SP500 Data"
   ]
  },
  {
   "cell_type": "code",
   "execution_count": 5,
   "metadata": {},
   "outputs": [
    {
     "data": {
      "text/html": [
       "<div>\n",
       "<style scoped>\n",
       "    .dataframe tbody tr th:only-of-type {\n",
       "        vertical-align: middle;\n",
       "    }\n",
       "\n",
       "    .dataframe tbody tr th {\n",
       "        vertical-align: top;\n",
       "    }\n",
       "\n",
       "    .dataframe thead th {\n",
       "        text-align: right;\n",
       "    }\n",
       "</style>\n",
       "<table border=\"1\" class=\"dataframe\">\n",
       "  <thead>\n",
       "    <tr style=\"text-align: right;\">\n",
       "      <th></th>\n",
       "      <th>Close</th>\n",
       "      <th>Volume</th>\n",
       "    </tr>\n",
       "    <tr>\n",
       "      <th>Date</th>\n",
       "      <th></th>\n",
       "      <th></th>\n",
       "    </tr>\n",
       "  </thead>\n",
       "  <tbody>\n",
       "    <tr>\n",
       "      <th>1950-01-31</th>\n",
       "      <td>17.05</td>\n",
       "      <td>25999998</td>\n",
       "    </tr>\n",
       "    <tr>\n",
       "      <th>1950-02-28</th>\n",
       "      <td>17.22</td>\n",
       "      <td>21027780</td>\n",
       "    </tr>\n",
       "    <tr>\n",
       "      <th>1950-03-31</th>\n",
       "      <td>17.29</td>\n",
       "      <td>24111109</td>\n",
       "    </tr>\n",
       "    <tr>\n",
       "      <th>1950-04-30</th>\n",
       "      <td>18.07</td>\n",
       "      <td>30088890</td>\n",
       "    </tr>\n",
       "    <tr>\n",
       "      <th>1950-05-31</th>\n",
       "      <td>18.78</td>\n",
       "      <td>27366665</td>\n",
       "    </tr>\n",
       "    <tr>\n",
       "      <th>...</th>\n",
       "      <td>...</td>\n",
       "      <td>...</td>\n",
       "    </tr>\n",
       "    <tr>\n",
       "      <th>2021-11-30</th>\n",
       "      <td>4567.00</td>\n",
       "      <td>47312253989</td>\n",
       "    </tr>\n",
       "    <tr>\n",
       "      <th>2021-12-31</th>\n",
       "      <td>4766.18</td>\n",
       "      <td>50024560087</td>\n",
       "    </tr>\n",
       "    <tr>\n",
       "      <th>2022-01-31</th>\n",
       "      <td>4515.55</td>\n",
       "      <td>54796994735</td>\n",
       "    </tr>\n",
       "    <tr>\n",
       "      <th>2022-02-28</th>\n",
       "      <td>4373.94</td>\n",
       "      <td>50746267442</td>\n",
       "    </tr>\n",
       "    <tr>\n",
       "      <th>2022-03-31</th>\n",
       "      <td>4411.67</td>\n",
       "      <td>36737651191</td>\n",
       "    </tr>\n",
       "  </tbody>\n",
       "</table>\n",
       "<p>867 rows × 2 columns</p>\n",
       "</div>"
      ],
      "text/plain": [
       "              Close       Volume\n",
       "Date                            \n",
       "1950-01-31    17.05     25999998\n",
       "1950-02-28    17.22     21027780\n",
       "1950-03-31    17.29     24111109\n",
       "1950-04-30    18.07     30088890\n",
       "1950-05-31    18.78     27366665\n",
       "...             ...          ...\n",
       "2021-11-30  4567.00  47312253989\n",
       "2021-12-31  4766.18  50024560087\n",
       "2022-01-31  4515.55  54796994735\n",
       "2022-02-28  4373.94  50746267442\n",
       "2022-03-31  4411.67  36737651191\n",
       "\n",
       "[867 rows x 2 columns]"
      ]
     },
     "execution_count": 5,
     "metadata": {},
     "output_type": "execute_result"
    }
   ],
   "source": [
    "SPX = pd.read_csv(\"SPX.csv\") #1950-2022, monthly\n",
    "SPXdf = SPX.drop(['Open','High','Low'], axis=1)\n",
    "SPXdf['Date'] = pd.to_datetime(SPXdf['Date'], format='%d/%m/%Y')\n",
    "SPXdf.set_index(\"Date\", inplace=True)\n",
    "SPXdf"
   ]
  },
  {
   "cell_type": "code",
   "execution_count": 6,
   "metadata": {},
   "outputs": [
    {
     "data": {
      "text/html": [
       "<div>\n",
       "<style scoped>\n",
       "    .dataframe tbody tr th:only-of-type {\n",
       "        vertical-align: middle;\n",
       "    }\n",
       "\n",
       "    .dataframe tbody tr th {\n",
       "        vertical-align: top;\n",
       "    }\n",
       "\n",
       "    .dataframe thead th {\n",
       "        text-align: right;\n",
       "    }\n",
       "</style>\n",
       "<table border=\"1\" class=\"dataframe\">\n",
       "  <thead>\n",
       "    <tr style=\"text-align: right;\">\n",
       "      <th></th>\n",
       "      <th>Close</th>\n",
       "      <th>Volume</th>\n",
       "      <th>ClosePrev</th>\n",
       "    </tr>\n",
       "    <tr>\n",
       "      <th>Date</th>\n",
       "      <th></th>\n",
       "      <th></th>\n",
       "      <th></th>\n",
       "    </tr>\n",
       "  </thead>\n",
       "  <tbody>\n",
       "    <tr>\n",
       "      <th>1950-04-01</th>\n",
       "      <td>17.186667</td>\n",
       "      <td>2.371296e+07</td>\n",
       "      <td>NaN</td>\n",
       "    </tr>\n",
       "    <tr>\n",
       "      <th>1950-07-01</th>\n",
       "      <td>18.180000</td>\n",
       "      <td>2.760741e+07</td>\n",
       "      <td>17.186667</td>\n",
       "    </tr>\n",
       "    <tr>\n",
       "      <th>1950-10-01</th>\n",
       "      <td>18.570000</td>\n",
       "      <td>2.260370e+07</td>\n",
       "      <td>18.180000</td>\n",
       "    </tr>\n",
       "    <tr>\n",
       "      <th>1951-01-01</th>\n",
       "      <td>19.816667</td>\n",
       "      <td>3.068148e+07</td>\n",
       "      <td>18.570000</td>\n",
       "    </tr>\n",
       "    <tr>\n",
       "      <th>1951-04-01</th>\n",
       "      <td>21.620000</td>\n",
       "      <td>3.020555e+07</td>\n",
       "      <td>19.816667</td>\n",
       "    </tr>\n",
       "    <tr>\n",
       "      <th>...</th>\n",
       "      <td>...</td>\n",
       "      <td>...</td>\n",
       "      <td>...</td>\n",
       "    </tr>\n",
       "    <tr>\n",
       "      <th>2021-04-01</th>\n",
       "      <td>3832.760000</td>\n",
       "      <td>5.277860e+10</td>\n",
       "      <td>3549.220000</td>\n",
       "    </tr>\n",
       "    <tr>\n",
       "      <th>2021-07-01</th>\n",
       "      <td>4227.593333</td>\n",
       "      <td>4.502311e+10</td>\n",
       "      <td>3832.760000</td>\n",
       "    </tr>\n",
       "    <tr>\n",
       "      <th>2021-10-01</th>\n",
       "      <td>4408.493333</td>\n",
       "      <td>4.207726e+10</td>\n",
       "      <td>4227.593333</td>\n",
       "    </tr>\n",
       "    <tr>\n",
       "      <th>2022-01-01</th>\n",
       "      <td>4646.186667</td>\n",
       "      <td>4.631885e+10</td>\n",
       "      <td>4408.493333</td>\n",
       "    </tr>\n",
       "    <tr>\n",
       "      <th>2022-04-01</th>\n",
       "      <td>4433.720000</td>\n",
       "      <td>4.742697e+10</td>\n",
       "      <td>4646.186667</td>\n",
       "    </tr>\n",
       "  </tbody>\n",
       "</table>\n",
       "<p>289 rows × 3 columns</p>\n",
       "</div>"
      ],
      "text/plain": [
       "                  Close        Volume    ClosePrev\n",
       "Date                                              \n",
       "1950-04-01    17.186667  2.371296e+07          NaN\n",
       "1950-07-01    18.180000  2.760741e+07    17.186667\n",
       "1950-10-01    18.570000  2.260370e+07    18.180000\n",
       "1951-01-01    19.816667  3.068148e+07    18.570000\n",
       "1951-04-01    21.620000  3.020555e+07    19.816667\n",
       "...                 ...           ...          ...\n",
       "2021-04-01  3832.760000  5.277860e+10  3549.220000\n",
       "2021-07-01  4227.593333  4.502311e+10  3832.760000\n",
       "2021-10-01  4408.493333  4.207726e+10  4227.593333\n",
       "2022-01-01  4646.186667  4.631885e+10  4408.493333\n",
       "2022-04-01  4433.720000  4.742697e+10  4646.186667\n",
       "\n",
       "[289 rows x 3 columns]"
      ]
     },
     "execution_count": 6,
     "metadata": {},
     "output_type": "execute_result"
    }
   ],
   "source": [
    "SPXdf = SPXdf.resample(\"Q\", convention='start', origin='start').mean()\n",
    "SPXdf.index = SPXdf.index + pd.offsets.MonthBegin(1)\n",
    "SPXdf['ClosePrev'] = SPXdf['Close'] \n",
    "SPXdf['ClosePrev'] = SPXdf['ClosePrev'].shift(periods=1)\n",
    "SPXdf"
   ]
  },
  {
   "cell_type": "markdown",
   "metadata": {},
   "source": [
    "## Combine Both Datasets"
   ]
  },
  {
   "cell_type": "code",
   "execution_count": 7,
   "metadata": {},
   "outputs": [
    {
     "data": {
      "text/html": [
       "<div>\n",
       "<style scoped>\n",
       "    .dataframe tbody tr th:only-of-type {\n",
       "        vertical-align: middle;\n",
       "    }\n",
       "\n",
       "    .dataframe tbody tr th {\n",
       "        vertical-align: top;\n",
       "    }\n",
       "\n",
       "    .dataframe thead th {\n",
       "        text-align: right;\n",
       "    }\n",
       "</style>\n",
       "<table border=\"1\" class=\"dataframe\">\n",
       "  <thead>\n",
       "    <tr style=\"text-align: right;\">\n",
       "      <th></th>\n",
       "      <th>gdp</th>\n",
       "      <th>gnp</th>\n",
       "      <th>real_gdp</th>\n",
       "      <th>real_gdp_per_capita</th>\n",
       "      <th>net_exports</th>\n",
       "      <th>gni</th>\n",
       "      <th>govt_spending</th>\n",
       "      <th>consumer_spending</th>\n",
       "      <th>private_domestic_investment</th>\n",
       "      <th>cpi</th>\n",
       "      <th>consumer_oil_price</th>\n",
       "      <th>ir</th>\n",
       "      <th>unemployment_rate</th>\n",
       "      <th>Close</th>\n",
       "      <th>Volume</th>\n",
       "      <th>ClosePrev</th>\n",
       "    </tr>\n",
       "  </thead>\n",
       "  <tbody>\n",
       "    <tr>\n",
       "      <th>1950-07-01</th>\n",
       "      <td>308.153</td>\n",
       "      <td>309.760</td>\n",
       "      <td>2340.112</td>\n",
       "      <td>15398.0</td>\n",
       "      <td>-0.740</td>\n",
       "      <td>307.413</td>\n",
       "      <td>600.663</td>\n",
       "      <td>200.505</td>\n",
       "      <td>1.247</td>\n",
       "      <td>24.203</td>\n",
       "      <td>11.267</td>\n",
       "      <td>1.61</td>\n",
       "      <td>4.6</td>\n",
       "      <td>18.180000</td>\n",
       "      <td>2.760741e+07</td>\n",
       "      <td>17.186667</td>\n",
       "    </tr>\n",
       "    <tr>\n",
       "      <th>1950-10-01</th>\n",
       "      <td>319.945</td>\n",
       "      <td>321.554</td>\n",
       "      <td>2384.920</td>\n",
       "      <td>15623.0</td>\n",
       "      <td>-0.154</td>\n",
       "      <td>319.791</td>\n",
       "      <td>643.100</td>\n",
       "      <td>197.946</td>\n",
       "      <td>1.289</td>\n",
       "      <td>24.693</td>\n",
       "      <td>11.500</td>\n",
       "      <td>1.75</td>\n",
       "      <td>4.2</td>\n",
       "      <td>18.570000</td>\n",
       "      <td>2.260370e+07</td>\n",
       "      <td>18.180000</td>\n",
       "    </tr>\n",
       "    <tr>\n",
       "      <th>1951-01-01</th>\n",
       "      <td>336.000</td>\n",
       "      <td>337.537</td>\n",
       "      <td>2417.311</td>\n",
       "      <td>15769.0</td>\n",
       "      <td>0.177</td>\n",
       "      <td>336.177</td>\n",
       "      <td>711.537</td>\n",
       "      <td>209.207</td>\n",
       "      <td>1.296</td>\n",
       "      <td>25.697</td>\n",
       "      <td>11.700</td>\n",
       "      <td>1.75</td>\n",
       "      <td>3.5</td>\n",
       "      <td>19.816667</td>\n",
       "      <td>3.068148e+07</td>\n",
       "      <td>18.570000</td>\n",
       "    </tr>\n",
       "    <tr>\n",
       "      <th>1951-04-01</th>\n",
       "      <td>344.090</td>\n",
       "      <td>345.973</td>\n",
       "      <td>2459.196</td>\n",
       "      <td>15979.0</td>\n",
       "      <td>1.943</td>\n",
       "      <td>346.033</td>\n",
       "      <td>806.376</td>\n",
       "      <td>204.942</td>\n",
       "      <td>1.332</td>\n",
       "      <td>25.947</td>\n",
       "      <td>11.933</td>\n",
       "      <td>1.75</td>\n",
       "      <td>3.1</td>\n",
       "      <td>21.620000</td>\n",
       "      <td>3.020555e+07</td>\n",
       "      <td>19.816667</td>\n",
       "    </tr>\n",
       "    <tr>\n",
       "      <th>1951-07-01</th>\n",
       "      <td>351.385</td>\n",
       "      <td>353.381</td>\n",
       "      <td>2509.880</td>\n",
       "      <td>16234.0</td>\n",
       "      <td>3.742</td>\n",
       "      <td>355.127</td>\n",
       "      <td>895.015</td>\n",
       "      <td>207.616</td>\n",
       "      <td>1.385</td>\n",
       "      <td>25.933</td>\n",
       "      <td>11.933</td>\n",
       "      <td>1.75</td>\n",
       "      <td>3.2</td>\n",
       "      <td>21.636667</td>\n",
       "      <td>2.172778e+07</td>\n",
       "      <td>21.620000</td>\n",
       "    </tr>\n",
       "    <tr>\n",
       "      <th>...</th>\n",
       "      <td>...</td>\n",
       "      <td>...</td>\n",
       "      <td>...</td>\n",
       "      <td>...</td>\n",
       "      <td>...</td>\n",
       "      <td>...</td>\n",
       "      <td>...</td>\n",
       "      <td>...</td>\n",
       "      <td>...</td>\n",
       "      <td>...</td>\n",
       "      <td>...</td>\n",
       "      <td>...</td>\n",
       "      <td>...</td>\n",
       "      <td>...</td>\n",
       "      <td>...</td>\n",
       "      <td>...</td>\n",
       "    </tr>\n",
       "    <tr>\n",
       "      <th>2020-04-01</th>\n",
       "      <td>19477.444</td>\n",
       "      <td>19649.442</td>\n",
       "      <td>17258.205</td>\n",
       "      <td>52031.0</td>\n",
       "      <td>-538.876</td>\n",
       "      <td>18938.568</td>\n",
       "      <td>3378.132</td>\n",
       "      <td>12989.729</td>\n",
       "      <td>519.850</td>\n",
       "      <td>256.418</td>\n",
       "      <td>219.570</td>\n",
       "      <td>0.25</td>\n",
       "      <td>13.0</td>\n",
       "      <td>2921.443333</td>\n",
       "      <td>5.985144e+10</td>\n",
       "      <td>3136.440000</td>\n",
       "    </tr>\n",
       "    <tr>\n",
       "      <th>2020-07-01</th>\n",
       "      <td>21138.574</td>\n",
       "      <td>21365.412</td>\n",
       "      <td>18560.774</td>\n",
       "      <td>55933.0</td>\n",
       "      <td>-725.723</td>\n",
       "      <td>20412.851</td>\n",
       "      <td>3360.238</td>\n",
       "      <td>14293.832</td>\n",
       "      <td>539.864</td>\n",
       "      <td>259.438</td>\n",
       "      <td>232.403</td>\n",
       "      <td>0.25</td>\n",
       "      <td>8.8</td>\n",
       "      <td>3019.010000</td>\n",
       "      <td>6.714349e+10</td>\n",
       "      <td>2921.443333</td>\n",
       "    </tr>\n",
       "    <tr>\n",
       "      <th>2020-10-01</th>\n",
       "      <td>21477.597</td>\n",
       "      <td>21728.223</td>\n",
       "      <td>18767.778</td>\n",
       "      <td>56533.0</td>\n",
       "      <td>-798.431</td>\n",
       "      <td>20679.166</td>\n",
       "      <td>3356.030</td>\n",
       "      <td>14467.611</td>\n",
       "      <td>561.269</td>\n",
       "      <td>260.879</td>\n",
       "      <td>234.862</td>\n",
       "      <td>0.25</td>\n",
       "      <td>6.8</td>\n",
       "      <td>3378.143333</td>\n",
       "      <td>5.204018e+10</td>\n",
       "      <td>3019.010000</td>\n",
       "    </tr>\n",
       "    <tr>\n",
       "      <th>2021-01-01</th>\n",
       "      <td>22038.226</td>\n",
       "      <td>22273.060</td>\n",
       "      <td>19055.655</td>\n",
       "      <td>57405.0</td>\n",
       "      <td>-872.540</td>\n",
       "      <td>21165.686</td>\n",
       "      <td>3390.921</td>\n",
       "      <td>15005.444</td>\n",
       "      <td>576.340</td>\n",
       "      <td>263.525</td>\n",
       "      <td>274.983</td>\n",
       "      <td>0.25</td>\n",
       "      <td>6.2</td>\n",
       "      <td>3549.220000</td>\n",
       "      <td>5.152288e+10</td>\n",
       "      <td>3378.143333</td>\n",
       "    </tr>\n",
       "    <tr>\n",
       "      <th>2021-04-01</th>\n",
       "      <td>22740.959</td>\n",
       "      <td>22971.357</td>\n",
       "      <td>19368.310</td>\n",
       "      <td>58335.0</td>\n",
       "      <td>-881.689</td>\n",
       "      <td>21859.270</td>\n",
       "      <td>3373.765</td>\n",
       "      <td>15681.699</td>\n",
       "      <td>594.504</td>\n",
       "      <td>268.760</td>\n",
       "      <td>289.754</td>\n",
       "      <td>0.25</td>\n",
       "      <td>5.9</td>\n",
       "      <td>3832.760000</td>\n",
       "      <td>5.277860e+10</td>\n",
       "      <td>3549.220000</td>\n",
       "    </tr>\n",
       "  </tbody>\n",
       "</table>\n",
       "<p>284 rows × 16 columns</p>\n",
       "</div>"
      ],
      "text/plain": [
       "                  gdp        gnp   real_gdp  real_gdp_per_capita  net_exports  \\\n",
       "1950-07-01    308.153    309.760   2340.112              15398.0       -0.740   \n",
       "1950-10-01    319.945    321.554   2384.920              15623.0       -0.154   \n",
       "1951-01-01    336.000    337.537   2417.311              15769.0        0.177   \n",
       "1951-04-01    344.090    345.973   2459.196              15979.0        1.943   \n",
       "1951-07-01    351.385    353.381   2509.880              16234.0        3.742   \n",
       "...               ...        ...        ...                  ...          ...   \n",
       "2020-04-01  19477.444  19649.442  17258.205              52031.0     -538.876   \n",
       "2020-07-01  21138.574  21365.412  18560.774              55933.0     -725.723   \n",
       "2020-10-01  21477.597  21728.223  18767.778              56533.0     -798.431   \n",
       "2021-01-01  22038.226  22273.060  19055.655              57405.0     -872.540   \n",
       "2021-04-01  22740.959  22971.357  19368.310              58335.0     -881.689   \n",
       "\n",
       "                  gni  govt_spending  consumer_spending  \\\n",
       "1950-07-01    307.413        600.663            200.505   \n",
       "1950-10-01    319.791        643.100            197.946   \n",
       "1951-01-01    336.177        711.537            209.207   \n",
       "1951-04-01    346.033        806.376            204.942   \n",
       "1951-07-01    355.127        895.015            207.616   \n",
       "...               ...            ...                ...   \n",
       "2020-04-01  18938.568       3378.132          12989.729   \n",
       "2020-07-01  20412.851       3360.238          14293.832   \n",
       "2020-10-01  20679.166       3356.030          14467.611   \n",
       "2021-01-01  21165.686       3390.921          15005.444   \n",
       "2021-04-01  21859.270       3373.765          15681.699   \n",
       "\n",
       "            private_domestic_investment      cpi  consumer_oil_price    ir  \\\n",
       "1950-07-01                        1.247   24.203              11.267  1.61   \n",
       "1950-10-01                        1.289   24.693              11.500  1.75   \n",
       "1951-01-01                        1.296   25.697              11.700  1.75   \n",
       "1951-04-01                        1.332   25.947              11.933  1.75   \n",
       "1951-07-01                        1.385   25.933              11.933  1.75   \n",
       "...                                 ...      ...                 ...   ...   \n",
       "2020-04-01                      519.850  256.418             219.570  0.25   \n",
       "2020-07-01                      539.864  259.438             232.403  0.25   \n",
       "2020-10-01                      561.269  260.879             234.862  0.25   \n",
       "2021-01-01                      576.340  263.525             274.983  0.25   \n",
       "2021-04-01                      594.504  268.760             289.754  0.25   \n",
       "\n",
       "            unemployment_rate        Close        Volume    ClosePrev  \n",
       "1950-07-01                4.6    18.180000  2.760741e+07    17.186667  \n",
       "1950-10-01                4.2    18.570000  2.260370e+07    18.180000  \n",
       "1951-01-01                3.5    19.816667  3.068148e+07    18.570000  \n",
       "1951-04-01                3.1    21.620000  3.020555e+07    19.816667  \n",
       "1951-07-01                3.2    21.636667  2.172778e+07    21.620000  \n",
       "...                       ...          ...           ...          ...  \n",
       "2020-04-01               13.0  2921.443333  5.985144e+10  3136.440000  \n",
       "2020-07-01                8.8  3019.010000  6.714349e+10  2921.443333  \n",
       "2020-10-01                6.8  3378.143333  5.204018e+10  3019.010000  \n",
       "2021-01-01                6.2  3549.220000  5.152288e+10  3378.143333  \n",
       "2021-04-01                5.9  3832.760000  5.277860e+10  3549.220000  \n",
       "\n",
       "[284 rows x 16 columns]"
      ]
     },
     "execution_count": 7,
     "metadata": {},
     "output_type": "execute_result"
    }
   ],
   "source": [
    "df_full = pd.concat([df_clean,SPXdf], axis=1)\n",
    "df_full = df_full.dropna()\n",
    "df_full"
   ]
  },
  {
   "cell_type": "code",
   "execution_count": 8,
   "metadata": {},
   "outputs": [
    {
     "data": {
      "text/html": [
       "<div>\n",
       "<style scoped>\n",
       "    .dataframe tbody tr th:only-of-type {\n",
       "        vertical-align: middle;\n",
       "    }\n",
       "\n",
       "    .dataframe tbody tr th {\n",
       "        vertical-align: top;\n",
       "    }\n",
       "\n",
       "    .dataframe thead th {\n",
       "        text-align: right;\n",
       "    }\n",
       "</style>\n",
       "<table border=\"1\" class=\"dataframe\">\n",
       "  <thead>\n",
       "    <tr style=\"text-align: right;\">\n",
       "      <th></th>\n",
       "      <th>gdp</th>\n",
       "      <th>gnp</th>\n",
       "      <th>real_gdp</th>\n",
       "      <th>real_gdp_per_capita</th>\n",
       "      <th>net_exports</th>\n",
       "      <th>gni</th>\n",
       "      <th>govt_spending</th>\n",
       "      <th>consumer_spending</th>\n",
       "      <th>private_domestic_investment</th>\n",
       "      <th>cpi</th>\n",
       "      <th>consumer_oil_price</th>\n",
       "      <th>ir</th>\n",
       "      <th>unemployment_rate</th>\n",
       "      <th>Close</th>\n",
       "      <th>Volume</th>\n",
       "      <th>ClosePrev</th>\n",
       "    </tr>\n",
       "  </thead>\n",
       "  <tbody>\n",
       "    <tr>\n",
       "      <th>1950-10-01</th>\n",
       "      <td>0.038267</td>\n",
       "      <td>0.038075</td>\n",
       "      <td>0.019148</td>\n",
       "      <td>0.014612</td>\n",
       "      <td>-0.791892</td>\n",
       "      <td>0.040265</td>\n",
       "      <td>0.070650</td>\n",
       "      <td>-0.012763</td>\n",
       "      <td>0.033681</td>\n",
       "      <td>0.020245</td>\n",
       "      <td>0.020680</td>\n",
       "      <td>0.086957</td>\n",
       "      <td>-0.086957</td>\n",
       "      <td>0.021452</td>\n",
       "      <td>-0.181245</td>\n",
       "      <td>0.057797</td>\n",
       "    </tr>\n",
       "    <tr>\n",
       "      <th>1951-01-01</th>\n",
       "      <td>0.050180</td>\n",
       "      <td>0.049705</td>\n",
       "      <td>0.013582</td>\n",
       "      <td>0.009345</td>\n",
       "      <td>-2.149351</td>\n",
       "      <td>0.051240</td>\n",
       "      <td>0.106417</td>\n",
       "      <td>0.056889</td>\n",
       "      <td>0.005431</td>\n",
       "      <td>0.040659</td>\n",
       "      <td>0.017391</td>\n",
       "      <td>0.000000</td>\n",
       "      <td>-0.166667</td>\n",
       "      <td>0.067133</td>\n",
       "      <td>0.357365</td>\n",
       "      <td>0.021452</td>\n",
       "    </tr>\n",
       "    <tr>\n",
       "      <th>1951-04-01</th>\n",
       "      <td>0.024077</td>\n",
       "      <td>0.024993</td>\n",
       "      <td>0.017327</td>\n",
       "      <td>0.013317</td>\n",
       "      <td>9.977401</td>\n",
       "      <td>0.029318</td>\n",
       "      <td>0.133288</td>\n",
       "      <td>-0.020387</td>\n",
       "      <td>0.027778</td>\n",
       "      <td>0.009729</td>\n",
       "      <td>0.019915</td>\n",
       "      <td>0.000000</td>\n",
       "      <td>-0.114286</td>\n",
       "      <td>0.091001</td>\n",
       "      <td>-0.015512</td>\n",
       "      <td>0.067133</td>\n",
       "    </tr>\n",
       "    <tr>\n",
       "      <th>1951-07-01</th>\n",
       "      <td>0.021201</td>\n",
       "      <td>0.021412</td>\n",
       "      <td>0.020610</td>\n",
       "      <td>0.015958</td>\n",
       "      <td>0.925888</td>\n",
       "      <td>0.026281</td>\n",
       "      <td>0.109923</td>\n",
       "      <td>0.013048</td>\n",
       "      <td>0.039790</td>\n",
       "      <td>-0.000540</td>\n",
       "      <td>0.000000</td>\n",
       "      <td>0.000000</td>\n",
       "      <td>0.032258</td>\n",
       "      <td>0.000771</td>\n",
       "      <td>-0.280669</td>\n",
       "      <td>0.091001</td>\n",
       "    </tr>\n",
       "    <tr>\n",
       "      <th>1951-10-01</th>\n",
       "      <td>0.013640</td>\n",
       "      <td>0.014005</td>\n",
       "      <td>0.002202</td>\n",
       "      <td>-0.002587</td>\n",
       "      <td>0.119722</td>\n",
       "      <td>0.014758</td>\n",
       "      <td>0.052887</td>\n",
       "      <td>0.019141</td>\n",
       "      <td>0.077978</td>\n",
       "      <td>0.014807</td>\n",
       "      <td>-0.008380</td>\n",
       "      <td>0.000000</td>\n",
       "      <td>0.062500</td>\n",
       "      <td>0.062086</td>\n",
       "      <td>-0.164408</td>\n",
       "      <td>0.000771</td>\n",
       "    </tr>\n",
       "    <tr>\n",
       "      <th>...</th>\n",
       "      <td>...</td>\n",
       "      <td>...</td>\n",
       "      <td>...</td>\n",
       "      <td>...</td>\n",
       "      <td>...</td>\n",
       "      <td>...</td>\n",
       "      <td>...</td>\n",
       "      <td>...</td>\n",
       "      <td>...</td>\n",
       "      <td>...</td>\n",
       "      <td>...</td>\n",
       "      <td>...</td>\n",
       "      <td>...</td>\n",
       "      <td>...</td>\n",
       "      <td>...</td>\n",
       "      <td>...</td>\n",
       "    </tr>\n",
       "    <tr>\n",
       "      <th>2020-04-01</th>\n",
       "      <td>-0.093287</td>\n",
       "      <td>-0.095382</td>\n",
       "      <td>-0.089373</td>\n",
       "      <td>-0.089810</td>\n",
       "      <td>-0.005246</td>\n",
       "      <td>-0.095564</td>\n",
       "      <td>0.009506</td>\n",
       "      <td>-0.100378</td>\n",
       "      <td>-0.018695</td>\n",
       "      <td>-0.008507</td>\n",
       "      <td>-0.163922</td>\n",
       "      <td>-0.841772</td>\n",
       "      <td>2.421053</td>\n",
       "      <td>-0.068548</td>\n",
       "      <td>0.457169</td>\n",
       "      <td>0.059181</td>\n",
       "    </tr>\n",
       "    <tr>\n",
       "      <th>2020-07-01</th>\n",
       "      <td>0.085285</td>\n",
       "      <td>0.087329</td>\n",
       "      <td>0.075475</td>\n",
       "      <td>0.074994</td>\n",
       "      <td>0.346735</td>\n",
       "      <td>0.077846</td>\n",
       "      <td>-0.005297</td>\n",
       "      <td>0.100395</td>\n",
       "      <td>0.038500</td>\n",
       "      <td>0.011778</td>\n",
       "      <td>0.058446</td>\n",
       "      <td>0.000000</td>\n",
       "      <td>-0.323077</td>\n",
       "      <td>0.033397</td>\n",
       "      <td>0.121836</td>\n",
       "      <td>-0.068548</td>\n",
       "    </tr>\n",
       "    <tr>\n",
       "      <th>2020-10-01</th>\n",
       "      <td>0.016038</td>\n",
       "      <td>0.016981</td>\n",
       "      <td>0.011153</td>\n",
       "      <td>0.010727</td>\n",
       "      <td>0.100187</td>\n",
       "      <td>0.013046</td>\n",
       "      <td>-0.001252</td>\n",
       "      <td>0.012158</td>\n",
       "      <td>0.039649</td>\n",
       "      <td>0.005554</td>\n",
       "      <td>0.010581</td>\n",
       "      <td>0.000000</td>\n",
       "      <td>-0.227273</td>\n",
       "      <td>0.118957</td>\n",
       "      <td>-0.224941</td>\n",
       "      <td>0.033397</td>\n",
       "    </tr>\n",
       "    <tr>\n",
       "      <th>2021-01-01</th>\n",
       "      <td>0.026103</td>\n",
       "      <td>0.025075</td>\n",
       "      <td>0.015339</td>\n",
       "      <td>0.015425</td>\n",
       "      <td>0.092818</td>\n",
       "      <td>0.023527</td>\n",
       "      <td>0.010397</td>\n",
       "      <td>0.037175</td>\n",
       "      <td>0.026852</td>\n",
       "      <td>0.010143</td>\n",
       "      <td>0.170828</td>\n",
       "      <td>0.000000</td>\n",
       "      <td>-0.088235</td>\n",
       "      <td>0.050642</td>\n",
       "      <td>-0.009940</td>\n",
       "      <td>0.118957</td>\n",
       "    </tr>\n",
       "    <tr>\n",
       "      <th>2021-04-01</th>\n",
       "      <td>0.031887</td>\n",
       "      <td>0.031352</td>\n",
       "      <td>0.016407</td>\n",
       "      <td>0.016201</td>\n",
       "      <td>0.010485</td>\n",
       "      <td>0.032769</td>\n",
       "      <td>-0.005059</td>\n",
       "      <td>0.045067</td>\n",
       "      <td>0.031516</td>\n",
       "      <td>0.019865</td>\n",
       "      <td>0.053716</td>\n",
       "      <td>0.000000</td>\n",
       "      <td>-0.048387</td>\n",
       "      <td>0.079888</td>\n",
       "      <td>0.024372</td>\n",
       "      <td>0.050642</td>\n",
       "    </tr>\n",
       "  </tbody>\n",
       "</table>\n",
       "<p>283 rows × 16 columns</p>\n",
       "</div>"
      ],
      "text/plain": [
       "                 gdp       gnp  real_gdp  real_gdp_per_capita  net_exports  \\\n",
       "1950-10-01  0.038267  0.038075  0.019148             0.014612    -0.791892   \n",
       "1951-01-01  0.050180  0.049705  0.013582             0.009345    -2.149351   \n",
       "1951-04-01  0.024077  0.024993  0.017327             0.013317     9.977401   \n",
       "1951-07-01  0.021201  0.021412  0.020610             0.015958     0.925888   \n",
       "1951-10-01  0.013640  0.014005  0.002202            -0.002587     0.119722   \n",
       "...              ...       ...       ...                  ...          ...   \n",
       "2020-04-01 -0.093287 -0.095382 -0.089373            -0.089810    -0.005246   \n",
       "2020-07-01  0.085285  0.087329  0.075475             0.074994     0.346735   \n",
       "2020-10-01  0.016038  0.016981  0.011153             0.010727     0.100187   \n",
       "2021-01-01  0.026103  0.025075  0.015339             0.015425     0.092818   \n",
       "2021-04-01  0.031887  0.031352  0.016407             0.016201     0.010485   \n",
       "\n",
       "                 gni  govt_spending  consumer_spending  \\\n",
       "1950-10-01  0.040265       0.070650          -0.012763   \n",
       "1951-01-01  0.051240       0.106417           0.056889   \n",
       "1951-04-01  0.029318       0.133288          -0.020387   \n",
       "1951-07-01  0.026281       0.109923           0.013048   \n",
       "1951-10-01  0.014758       0.052887           0.019141   \n",
       "...              ...            ...                ...   \n",
       "2020-04-01 -0.095564       0.009506          -0.100378   \n",
       "2020-07-01  0.077846      -0.005297           0.100395   \n",
       "2020-10-01  0.013046      -0.001252           0.012158   \n",
       "2021-01-01  0.023527       0.010397           0.037175   \n",
       "2021-04-01  0.032769      -0.005059           0.045067   \n",
       "\n",
       "            private_domestic_investment       cpi  consumer_oil_price  \\\n",
       "1950-10-01                     0.033681  0.020245            0.020680   \n",
       "1951-01-01                     0.005431  0.040659            0.017391   \n",
       "1951-04-01                     0.027778  0.009729            0.019915   \n",
       "1951-07-01                     0.039790 -0.000540            0.000000   \n",
       "1951-10-01                     0.077978  0.014807           -0.008380   \n",
       "...                                 ...       ...                 ...   \n",
       "2020-04-01                    -0.018695 -0.008507           -0.163922   \n",
       "2020-07-01                     0.038500  0.011778            0.058446   \n",
       "2020-10-01                     0.039649  0.005554            0.010581   \n",
       "2021-01-01                     0.026852  0.010143            0.170828   \n",
       "2021-04-01                     0.031516  0.019865            0.053716   \n",
       "\n",
       "                  ir  unemployment_rate     Close    Volume  ClosePrev  \n",
       "1950-10-01  0.086957          -0.086957  0.021452 -0.181245   0.057797  \n",
       "1951-01-01  0.000000          -0.166667  0.067133  0.357365   0.021452  \n",
       "1951-04-01  0.000000          -0.114286  0.091001 -0.015512   0.067133  \n",
       "1951-07-01  0.000000           0.032258  0.000771 -0.280669   0.091001  \n",
       "1951-10-01  0.000000           0.062500  0.062086 -0.164408   0.000771  \n",
       "...              ...                ...       ...       ...        ...  \n",
       "2020-04-01 -0.841772           2.421053 -0.068548  0.457169   0.059181  \n",
       "2020-07-01  0.000000          -0.323077  0.033397  0.121836  -0.068548  \n",
       "2020-10-01  0.000000          -0.227273  0.118957 -0.224941   0.033397  \n",
       "2021-01-01  0.000000          -0.088235  0.050642 -0.009940   0.118957  \n",
       "2021-04-01  0.000000          -0.048387  0.079888  0.024372   0.050642  \n",
       "\n",
       "[283 rows x 16 columns]"
      ]
     },
     "execution_count": 8,
     "metadata": {},
     "output_type": "execute_result"
    }
   ],
   "source": [
    "prcnt_chg_new = df_full.pct_change()\n",
    "prcnt_chg_new = prcnt_chg_new.dropna()\n",
    "prcnt_chg_new"
   ]
  },
  {
   "cell_type": "markdown",
   "metadata": {},
   "source": [
    "## Preparing Data for LSTM Model"
   ]
  },
  {
   "cell_type": "code",
   "execution_count": 9,
   "metadata": {},
   "outputs": [
    {
     "data": {
      "text/html": [
       "<div>\n",
       "<style scoped>\n",
       "    .dataframe tbody tr th:only-of-type {\n",
       "        vertical-align: middle;\n",
       "    }\n",
       "\n",
       "    .dataframe tbody tr th {\n",
       "        vertical-align: top;\n",
       "    }\n",
       "\n",
       "    .dataframe thead th {\n",
       "        text-align: right;\n",
       "    }\n",
       "</style>\n",
       "<table border=\"1\" class=\"dataframe\">\n",
       "  <thead>\n",
       "    <tr style=\"text-align: right;\">\n",
       "      <th></th>\n",
       "      <th>Open</th>\n",
       "      <th>High</th>\n",
       "      <th>Low</th>\n",
       "      <th>Close</th>\n",
       "      <th>Volume</th>\n",
       "    </tr>\n",
       "    <tr>\n",
       "      <th>Date</th>\n",
       "      <th></th>\n",
       "      <th></th>\n",
       "      <th></th>\n",
       "      <th></th>\n",
       "      <th></th>\n",
       "    </tr>\n",
       "  </thead>\n",
       "  <tbody>\n",
       "    <tr>\n",
       "      <th>1950-04-01</th>\n",
       "      <td>16.983333</td>\n",
       "      <td>17.350000</td>\n",
       "      <td>16.903333</td>\n",
       "      <td>17.186667</td>\n",
       "      <td>2.371296e+07</td>\n",
       "    </tr>\n",
       "    <tr>\n",
       "      <th>1950-07-01</th>\n",
       "      <td>18.110000</td>\n",
       "      <td>18.750000</td>\n",
       "      <td>17.630000</td>\n",
       "      <td>18.180000</td>\n",
       "      <td>2.760741e+07</td>\n",
       "    </tr>\n",
       "    <tr>\n",
       "      <th>1950-10-01</th>\n",
       "      <td>18.070000</td>\n",
       "      <td>18.726667</td>\n",
       "      <td>17.723333</td>\n",
       "      <td>18.570000</td>\n",
       "      <td>2.260370e+07</td>\n",
       "    </tr>\n",
       "    <tr>\n",
       "      <th>1951-01-01</th>\n",
       "      <td>19.636667</td>\n",
       "      <td>20.303333</td>\n",
       "      <td>19.296667</td>\n",
       "      <td>19.816667</td>\n",
       "      <td>3.068148e+07</td>\n",
       "    </tr>\n",
       "    <tr>\n",
       "      <th>1951-04-01</th>\n",
       "      <td>21.463333</td>\n",
       "      <td>21.966667</td>\n",
       "      <td>21.233333</td>\n",
       "      <td>21.620000</td>\n",
       "      <td>3.020555e+07</td>\n",
       "    </tr>\n",
       "    <tr>\n",
       "      <th>...</th>\n",
       "      <td>...</td>\n",
       "      <td>...</td>\n",
       "      <td>...</td>\n",
       "      <td>...</td>\n",
       "      <td>...</td>\n",
       "    </tr>\n",
       "    <tr>\n",
       "      <th>2021-04-01</th>\n",
       "      <td>3779.430000</td>\n",
       "      <td>3938.580000</td>\n",
       "      <td>3703.890000</td>\n",
       "      <td>3832.760000</td>\n",
       "      <td>5.277860e+10</td>\n",
       "    </tr>\n",
       "    <tr>\n",
       "      <th>2021-07-01</th>\n",
       "      <td>4133.760000</td>\n",
       "      <td>4253.083333</td>\n",
       "      <td>4071.353333</td>\n",
       "      <td>4227.593333</td>\n",
       "      <td>4.502311e+10</td>\n",
       "    </tr>\n",
       "    <tr>\n",
       "      <th>2021-10-01</th>\n",
       "      <td>4412.130000</td>\n",
       "      <td>4504.393333</td>\n",
       "      <td>4302.256667</td>\n",
       "      <td>4408.493333</td>\n",
       "      <td>4.207726e+10</td>\n",
       "    </tr>\n",
       "    <tr>\n",
       "      <th>2022-01-01</th>\n",
       "      <td>4510.200000</td>\n",
       "      <td>4720.280000</td>\n",
       "      <td>4444.686667</td>\n",
       "      <td>4646.186667</td>\n",
       "      <td>4.631885e+10</td>\n",
       "    </tr>\n",
       "    <tr>\n",
       "      <th>2022-04-01</th>\n",
       "      <td>4553.616667</td>\n",
       "      <td>4610.236667</td>\n",
       "      <td>4165.046667</td>\n",
       "      <td>4433.720000</td>\n",
       "      <td>4.742697e+10</td>\n",
       "    </tr>\n",
       "  </tbody>\n",
       "</table>\n",
       "<p>289 rows × 5 columns</p>\n",
       "</div>"
      ],
      "text/plain": [
       "                   Open         High          Low        Close        Volume\n",
       "Date                                                                        \n",
       "1950-04-01    16.983333    17.350000    16.903333    17.186667  2.371296e+07\n",
       "1950-07-01    18.110000    18.750000    17.630000    18.180000  2.760741e+07\n",
       "1950-10-01    18.070000    18.726667    17.723333    18.570000  2.260370e+07\n",
       "1951-01-01    19.636667    20.303333    19.296667    19.816667  3.068148e+07\n",
       "1951-04-01    21.463333    21.966667    21.233333    21.620000  3.020555e+07\n",
       "...                 ...          ...          ...          ...           ...\n",
       "2021-04-01  3779.430000  3938.580000  3703.890000  3832.760000  5.277860e+10\n",
       "2021-07-01  4133.760000  4253.083333  4071.353333  4227.593333  4.502311e+10\n",
       "2021-10-01  4412.130000  4504.393333  4302.256667  4408.493333  4.207726e+10\n",
       "2022-01-01  4510.200000  4720.280000  4444.686667  4646.186667  4.631885e+10\n",
       "2022-04-01  4553.616667  4610.236667  4165.046667  4433.720000  4.742697e+10\n",
       "\n",
       "[289 rows x 5 columns]"
      ]
     },
     "execution_count": 9,
     "metadata": {},
     "output_type": "execute_result"
    }
   ],
   "source": [
    "SPX['Date'] = pd.to_datetime(SPX['Date'], format='%d/%m/%Y')\n",
    "SPX.set_index(\"Date\", inplace=True)\n",
    "SPX = SPX.resample(\"Q\", convention='start', origin='start').mean()\n",
    "SPX.index = SPX.index + pd.offsets.MonthBegin(1)\n",
    "SPX"
   ]
  },
  {
   "cell_type": "code",
   "execution_count": 10,
   "metadata": {},
   "outputs": [
    {
     "data": {
      "application/vnd.plotly.v1+json": {
       "config": {
        "plotlyServerURL": "https://plot.ly"
       },
       "data": [
        {
         "name": "Close",
         "type": "scatter",
         "x": [
          "1950-04-01T00:00:00",
          "1950-07-01T00:00:00",
          "1950-10-01T00:00:00",
          "1951-01-01T00:00:00",
          "1951-04-01T00:00:00",
          "1951-07-01T00:00:00",
          "1951-10-01T00:00:00",
          "1952-01-01T00:00:00",
          "1952-04-01T00:00:00",
          "1952-07-01T00:00:00",
          "1952-10-01T00:00:00",
          "1953-01-01T00:00:00",
          "1953-04-01T00:00:00",
          "1953-07-01T00:00:00",
          "1953-10-01T00:00:00",
          "1954-01-01T00:00:00",
          "1954-04-01T00:00:00",
          "1954-07-01T00:00:00",
          "1954-10-01T00:00:00",
          "1955-01-01T00:00:00",
          "1955-04-01T00:00:00",
          "1955-07-01T00:00:00",
          "1955-10-01T00:00:00",
          "1956-01-01T00:00:00",
          "1956-04-01T00:00:00",
          "1956-07-01T00:00:00",
          "1956-10-01T00:00:00",
          "1957-01-01T00:00:00",
          "1957-04-01T00:00:00",
          "1957-07-01T00:00:00",
          "1957-10-01T00:00:00",
          "1958-01-01T00:00:00",
          "1958-04-01T00:00:00",
          "1958-07-01T00:00:00",
          "1958-10-01T00:00:00",
          "1959-01-01T00:00:00",
          "1959-04-01T00:00:00",
          "1959-07-01T00:00:00",
          "1959-10-01T00:00:00",
          "1960-01-01T00:00:00",
          "1960-04-01T00:00:00",
          "1960-07-01T00:00:00",
          "1960-10-01T00:00:00",
          "1961-01-01T00:00:00",
          "1961-04-01T00:00:00",
          "1961-07-01T00:00:00",
          "1961-10-01T00:00:00",
          "1962-01-01T00:00:00",
          "1962-04-01T00:00:00",
          "1962-07-01T00:00:00",
          "1962-10-01T00:00:00",
          "1963-01-01T00:00:00",
          "1963-04-01T00:00:00",
          "1963-07-01T00:00:00",
          "1963-10-01T00:00:00",
          "1964-01-01T00:00:00",
          "1964-04-01T00:00:00",
          "1964-07-01T00:00:00",
          "1964-10-01T00:00:00",
          "1965-01-01T00:00:00",
          "1965-04-01T00:00:00",
          "1965-07-01T00:00:00",
          "1965-10-01T00:00:00",
          "1966-01-01T00:00:00",
          "1966-04-01T00:00:00",
          "1966-07-01T00:00:00",
          "1966-10-01T00:00:00",
          "1967-01-01T00:00:00",
          "1967-04-01T00:00:00",
          "1967-07-01T00:00:00",
          "1967-10-01T00:00:00",
          "1968-01-01T00:00:00",
          "1968-04-01T00:00:00",
          "1968-07-01T00:00:00",
          "1968-10-01T00:00:00",
          "1969-01-01T00:00:00",
          "1969-04-01T00:00:00",
          "1969-07-01T00:00:00",
          "1969-10-01T00:00:00",
          "1970-01-01T00:00:00",
          "1970-04-01T00:00:00",
          "1970-07-01T00:00:00",
          "1970-10-01T00:00:00",
          "1971-01-01T00:00:00",
          "1971-04-01T00:00:00",
          "1971-07-01T00:00:00",
          "1971-10-01T00:00:00",
          "1972-01-01T00:00:00",
          "1972-04-01T00:00:00",
          "1972-07-01T00:00:00",
          "1972-10-01T00:00:00",
          "1973-01-01T00:00:00",
          "1973-04-01T00:00:00",
          "1973-07-01T00:00:00",
          "1973-10-01T00:00:00",
          "1974-01-01T00:00:00",
          "1974-04-01T00:00:00",
          "1974-07-01T00:00:00",
          "1974-10-01T00:00:00",
          "1975-01-01T00:00:00",
          "1975-04-01T00:00:00",
          "1975-07-01T00:00:00",
          "1975-10-01T00:00:00",
          "1976-01-01T00:00:00",
          "1976-04-01T00:00:00",
          "1976-07-01T00:00:00",
          "1976-10-01T00:00:00",
          "1977-01-01T00:00:00",
          "1977-04-01T00:00:00",
          "1977-07-01T00:00:00",
          "1977-10-01T00:00:00",
          "1978-01-01T00:00:00",
          "1978-04-01T00:00:00",
          "1978-07-01T00:00:00",
          "1978-10-01T00:00:00",
          "1979-01-01T00:00:00",
          "1979-04-01T00:00:00",
          "1979-07-01T00:00:00",
          "1979-10-01T00:00:00",
          "1980-01-01T00:00:00",
          "1980-04-01T00:00:00",
          "1980-07-01T00:00:00",
          "1980-10-01T00:00:00",
          "1981-01-01T00:00:00",
          "1981-04-01T00:00:00",
          "1981-07-01T00:00:00",
          "1981-10-01T00:00:00",
          "1982-01-01T00:00:00",
          "1982-04-01T00:00:00",
          "1982-07-01T00:00:00",
          "1982-10-01T00:00:00",
          "1983-01-01T00:00:00",
          "1983-04-01T00:00:00",
          "1983-07-01T00:00:00",
          "1983-10-01T00:00:00",
          "1984-01-01T00:00:00",
          "1984-04-01T00:00:00",
          "1984-07-01T00:00:00",
          "1984-10-01T00:00:00",
          "1985-01-01T00:00:00",
          "1985-04-01T00:00:00",
          "1985-07-01T00:00:00",
          "1985-10-01T00:00:00",
          "1986-01-01T00:00:00",
          "1986-04-01T00:00:00",
          "1986-07-01T00:00:00",
          "1986-10-01T00:00:00",
          "1987-01-01T00:00:00",
          "1987-04-01T00:00:00",
          "1987-07-01T00:00:00",
          "1987-10-01T00:00:00",
          "1988-01-01T00:00:00",
          "1988-04-01T00:00:00",
          "1988-07-01T00:00:00",
          "1988-10-01T00:00:00",
          "1989-01-01T00:00:00",
          "1989-04-01T00:00:00",
          "1989-07-01T00:00:00",
          "1989-10-01T00:00:00",
          "1990-01-01T00:00:00",
          "1990-04-01T00:00:00",
          "1990-07-01T00:00:00",
          "1990-10-01T00:00:00",
          "1991-01-01T00:00:00",
          "1991-04-01T00:00:00",
          "1991-07-01T00:00:00",
          "1991-10-01T00:00:00",
          "1992-01-01T00:00:00",
          "1992-04-01T00:00:00",
          "1992-07-01T00:00:00",
          "1992-10-01T00:00:00",
          "1993-01-01T00:00:00",
          "1993-04-01T00:00:00",
          "1993-07-01T00:00:00",
          "1993-10-01T00:00:00",
          "1994-01-01T00:00:00",
          "1994-04-01T00:00:00",
          "1994-07-01T00:00:00",
          "1994-10-01T00:00:00",
          "1995-01-01T00:00:00",
          "1995-04-01T00:00:00",
          "1995-07-01T00:00:00",
          "1995-10-01T00:00:00",
          "1996-01-01T00:00:00",
          "1996-04-01T00:00:00",
          "1996-07-01T00:00:00",
          "1996-10-01T00:00:00",
          "1997-01-01T00:00:00",
          "1997-04-01T00:00:00",
          "1997-07-01T00:00:00",
          "1997-10-01T00:00:00",
          "1998-01-01T00:00:00",
          "1998-04-01T00:00:00",
          "1998-07-01T00:00:00",
          "1998-10-01T00:00:00",
          "1999-01-01T00:00:00",
          "1999-04-01T00:00:00",
          "1999-07-01T00:00:00",
          "1999-10-01T00:00:00",
          "2000-01-01T00:00:00",
          "2000-04-01T00:00:00",
          "2000-07-01T00:00:00",
          "2000-10-01T00:00:00",
          "2001-01-01T00:00:00",
          "2001-04-01T00:00:00",
          "2001-07-01T00:00:00",
          "2001-10-01T00:00:00",
          "2002-01-01T00:00:00",
          "2002-04-01T00:00:00",
          "2002-07-01T00:00:00",
          "2002-10-01T00:00:00",
          "2003-01-01T00:00:00",
          "2003-04-01T00:00:00",
          "2003-07-01T00:00:00",
          "2003-10-01T00:00:00",
          "2004-01-01T00:00:00",
          "2004-04-01T00:00:00",
          "2004-07-01T00:00:00",
          "2004-10-01T00:00:00",
          "2005-01-01T00:00:00",
          "2005-04-01T00:00:00",
          "2005-07-01T00:00:00",
          "2005-10-01T00:00:00",
          "2006-01-01T00:00:00",
          "2006-04-01T00:00:00",
          "2006-07-01T00:00:00",
          "2006-10-01T00:00:00",
          "2007-01-01T00:00:00",
          "2007-04-01T00:00:00",
          "2007-07-01T00:00:00",
          "2007-10-01T00:00:00",
          "2008-01-01T00:00:00",
          "2008-04-01T00:00:00",
          "2008-07-01T00:00:00",
          "2008-10-01T00:00:00",
          "2009-01-01T00:00:00",
          "2009-04-01T00:00:00",
          "2009-07-01T00:00:00",
          "2009-10-01T00:00:00",
          "2010-01-01T00:00:00",
          "2010-04-01T00:00:00",
          "2010-07-01T00:00:00",
          "2010-10-01T00:00:00",
          "2011-01-01T00:00:00",
          "2011-04-01T00:00:00",
          "2011-07-01T00:00:00",
          "2011-10-01T00:00:00",
          "2012-01-01T00:00:00",
          "2012-04-01T00:00:00",
          "2012-07-01T00:00:00",
          "2012-10-01T00:00:00",
          "2013-01-01T00:00:00",
          "2013-04-01T00:00:00",
          "2013-07-01T00:00:00",
          "2013-10-01T00:00:00",
          "2014-01-01T00:00:00",
          "2014-04-01T00:00:00",
          "2014-07-01T00:00:00",
          "2014-10-01T00:00:00",
          "2015-01-01T00:00:00",
          "2015-04-01T00:00:00",
          "2015-07-01T00:00:00",
          "2015-10-01T00:00:00",
          "2016-01-01T00:00:00",
          "2016-04-01T00:00:00",
          "2016-07-01T00:00:00",
          "2016-10-01T00:00:00",
          "2017-01-01T00:00:00",
          "2017-04-01T00:00:00",
          "2017-07-01T00:00:00",
          "2017-10-01T00:00:00",
          "2018-01-01T00:00:00",
          "2018-04-01T00:00:00",
          "2018-07-01T00:00:00",
          "2018-10-01T00:00:00",
          "2019-01-01T00:00:00",
          "2019-04-01T00:00:00",
          "2019-07-01T00:00:00",
          "2019-10-01T00:00:00",
          "2020-01-01T00:00:00",
          "2020-04-01T00:00:00",
          "2020-07-01T00:00:00",
          "2020-10-01T00:00:00",
          "2021-01-01T00:00:00",
          "2021-04-01T00:00:00",
          "2021-07-01T00:00:00",
          "2021-10-01T00:00:00",
          "2022-01-01T00:00:00",
          "2022-04-01T00:00:00"
         ],
         "xaxis": "x",
         "y": [
          17.186666666666667,
          18.180000000000003,
          18.57,
          19.816666666666666,
          21.62,
          21.636666666666667,
          22.98,
          23.19666666666667,
          23.923333333333336,
          24.046666666666667,
          24.99,
          25.583333333333332,
          25.856666666666666,
          24.433333333333334,
          23.80666666666667,
          24.703333333333333,
          26.39,
          28.886666666666667,
          31.006666666666664,
          33.96666666666667,
          36.656666666666666,
          38.96666666666667,
          43.45666666666667,
          44.44333333333333,
          45.879999999999995,
          46.85,
          47.416666666666664,
          45.776666666666664,
          44.03,
          46.846666666666664,
          45.18333333333334,
          40.92333333333334,
          41.546666666666674,
          44.25666666666667,
          48.333333333333336,
          53.00666666666666,
          55.43333333333334,
          58.24666666666667,
          58.99666666666667,
          58.56333333333333,
          55.69,
          55.70666666666667,
          55.330000000000005,
          55.68,
          63.42666666666667,
          65.50333333333333,
          67.18666666666667,
          70.49666666666667,
          69.45,
          59.873333333333335,
          57.873333333333335,
          60.626666666666665,
          65.68666666666667,
          69.99,
          71.11,
          74.08666666666666,
          77.94,
          80.50666666666666,
          83.06333333333333,
          84.67666666666666,
          87.05,
          87.21666666666665,
          87.46,
          92.15333333333335,
          91.11,
          87.31,
          79.08666666666666,
          80.32666666666667,
          87.86333333333334,
          91.24333333333334,
          95.03333333333335,
          94.58999999999999,
          90.60000000000001,
          98.57333333333334,
          99.75666666666666,
          105.21333333333332,
          100.88333333333333,
          101.62,
          93.48666666666668,
          94.33,
          88.05,
          76.92999999999999,
          81.29,
          87.53333333333335,
          97.64666666666666,
          100.75999999999999,
          97.64999999999999,
          96.77,
          105.90333333333332,
          108.11333333333334,
          109.67666666666666,
          115.43333333333334,
          113.07666666666667,
          105.39333333333333,
          106.96666666666665,
          100.60000000000001,
          95.58999999999999,
          87.86333333333334,
          71.66666666666667,
          70.81,
          80.64333333333333,
          91.21333333333332,
          86.5,
          90.15666666666668,
          101.11333333333333,
          102.03333333333335,
          103.86333333333333,
          104.15333333333332,
          100.08999999999999,
          98.34666666666668,
          97.38333333333333,
          94.08999999999999,
          88.5,
          96.53333333333335,
          102.17,
          94.65333333333335,
          99.26666666666667,
          101.25,
          107.48333333333333,
          105.30666666666666,
          109.96999999999998,
          110.58999999999999,
          123.17,
          134.58333333333334,
          132.27333333333334,
          132.20333333333335,
          123.29666666666667,
          123.59666666666665,
          115.15666666666668,
          112.64333333333333,
          115.67333333333333,
          137.63,
          148.77333333333334,
          164.82,
          164.34333333333333,
          164.96,
          159.88333333333333,
          154.59333333333333,
          161.14666666666668,
          165.63666666666668,
          180.49,
          187.07666666666668,
          187.21,
          201.09,
          225.86666666666667,
          244.57000000000002,
          240.12333333333333,
          245.12333333333333,
          283.32666666666665,
          294.15333333333336,
          323.43,
          243.0566666666667,
          261.26,
          265.66333333333336,
          268.48333333333335,
          276.7966666666667,
          293.73333333333335,
          316.0466666666667,
          348.89333333333326,
          346.5833333333333,
          333.63666666666666,
          350.01666666666665,
          328.25333333333333,
          318.81333333333333,
          362.0733333333333,
          378.77666666666664,
          390.3666666666666,
          394.92,
          408.39000000000004,
          412.81333333333333,
          418.68,
          428.58,
          444.60999999999996,
          446.96999999999997,
          456.8733333333333,
          465.3566666666666,
          464.84,
          450.56,
          465.4866666666667,
          461.77,
          486.17333333333335,
          530.9533333333334,
          569.4499999999999,
          600.9333333333333,
          640.65,
          664.64,
          659.7566666666667,
          734.3433333333332,
          778.0333333333333,
          844.9200000000001,
          933.6866666666666,
          946.8166666666666,
          1043.79,
          1112.1366666666665,
          1031.6533333333334,
          1163.8433333333335,
          1268.1133333333335,
          1336.5766666666666,
          1310.6133333333335,
          1407.0833333333333,
          1419.82,
          1442.5566666666666,
          1461.6733333333334,
          1354.8733333333332,
          1254.75,
          1243.3566666666666,
          1128.3266666666666,
          1114.99,
          1128.11,
          1044.6266666666668,
          880.9900000000001,
          900.63,
          848.3433333333332,
          951.6700000000001,
          998.0966666666667,
          1073.61,
          1134.0933333333335,
          1122.9399999999998,
          1106.8466666666666,
          1171.98,
          1188.4866666666667,
          1179.8933333333332,
          1227.7733333333333,
          1234.9266666666665,
          1285.1833333333334,
          1283.6333333333332,
          1305.4399999999998,
          1398.9533333333336,
          1421.97,
          1505.4466666666667,
          1485.3366666666668,
          1499.6266666666668,
          1343.96,
          1355.3233333333335,
          1238.8566666666666,
          922.7466666666666,
          786.2800000000001,
          903.7566666666667,
          1021.7266666666666,
          1082.3066666666666,
          1115.93,
          1102.2700000000002,
          1097.3766666666668,
          1207.1499999999999,
          1313.0566666666666,
          1343.1499999999999,
          1214.1966666666667,
          1252.62,
          1362.1866666666667,
          1356.8,
          1408.8566666666666,
          1418.176666666667,
          1527.3266666666666,
          1611.53,
          1666.75,
          1803.57,
          1838.1266666666668,
          1922.5833333333333,
          1968.7766666666666,
          2048.17,
          2055.793333333333,
          2085.3366666666666,
          1998.6833333333334,
          2067.903333333333,
          1977.4033333333334,
          2087.0400000000004,
          2170.94,
          2187.93,
          2335.0766666666664,
          2406.47,
          2487.1033333333335,
          2632.15,
          2726.17,
          2690.5633333333335,
          2877.263333333334,
          2659.5866666666666,
          2774.33,
          2879.883333333333,
          2961.193333333333,
          3136.44,
          2921.443333333333,
          3019.0099999999998,
          3378.1433333333334,
          3549.22,
          3832.7599999999998,
          4227.593333333333,
          4408.493333333333,
          4646.186666666667,
          4433.72
         ],
         "yaxis": "y"
        },
        {
         "name": "Volume",
         "type": "scatter",
         "x": [
          "1950-04-01T00:00:00",
          "1950-07-01T00:00:00",
          "1950-10-01T00:00:00",
          "1951-01-01T00:00:00",
          "1951-04-01T00:00:00",
          "1951-07-01T00:00:00",
          "1951-10-01T00:00:00",
          "1952-01-01T00:00:00",
          "1952-04-01T00:00:00",
          "1952-07-01T00:00:00",
          "1952-10-01T00:00:00",
          "1953-01-01T00:00:00",
          "1953-04-01T00:00:00",
          "1953-07-01T00:00:00",
          "1953-10-01T00:00:00",
          "1954-01-01T00:00:00",
          "1954-04-01T00:00:00",
          "1954-07-01T00:00:00",
          "1954-10-01T00:00:00",
          "1955-01-01T00:00:00",
          "1955-04-01T00:00:00",
          "1955-07-01T00:00:00",
          "1955-10-01T00:00:00",
          "1956-01-01T00:00:00",
          "1956-04-01T00:00:00",
          "1956-07-01T00:00:00",
          "1956-10-01T00:00:00",
          "1957-01-01T00:00:00",
          "1957-04-01T00:00:00",
          "1957-07-01T00:00:00",
          "1957-10-01T00:00:00",
          "1958-01-01T00:00:00",
          "1958-04-01T00:00:00",
          "1958-07-01T00:00:00",
          "1958-10-01T00:00:00",
          "1959-01-01T00:00:00",
          "1959-04-01T00:00:00",
          "1959-07-01T00:00:00",
          "1959-10-01T00:00:00",
          "1960-01-01T00:00:00",
          "1960-04-01T00:00:00",
          "1960-07-01T00:00:00",
          "1960-10-01T00:00:00",
          "1961-01-01T00:00:00",
          "1961-04-01T00:00:00",
          "1961-07-01T00:00:00",
          "1961-10-01T00:00:00",
          "1962-01-01T00:00:00",
          "1962-04-01T00:00:00",
          "1962-07-01T00:00:00",
          "1962-10-01T00:00:00",
          "1963-01-01T00:00:00",
          "1963-04-01T00:00:00",
          "1963-07-01T00:00:00",
          "1963-10-01T00:00:00",
          "1964-01-01T00:00:00",
          "1964-04-01T00:00:00",
          "1964-07-01T00:00:00",
          "1964-10-01T00:00:00",
          "1965-01-01T00:00:00",
          "1965-04-01T00:00:00",
          "1965-07-01T00:00:00",
          "1965-10-01T00:00:00",
          "1966-01-01T00:00:00",
          "1966-04-01T00:00:00",
          "1966-07-01T00:00:00",
          "1966-10-01T00:00:00",
          "1967-01-01T00:00:00",
          "1967-04-01T00:00:00",
          "1967-07-01T00:00:00",
          "1967-10-01T00:00:00",
          "1968-01-01T00:00:00",
          "1968-04-01T00:00:00",
          "1968-07-01T00:00:00",
          "1968-10-01T00:00:00",
          "1969-01-01T00:00:00",
          "1969-04-01T00:00:00",
          "1969-07-01T00:00:00",
          "1969-10-01T00:00:00",
          "1970-01-01T00:00:00",
          "1970-04-01T00:00:00",
          "1970-07-01T00:00:00",
          "1970-10-01T00:00:00",
          "1971-01-01T00:00:00",
          "1971-04-01T00:00:00",
          "1971-07-01T00:00:00",
          "1971-10-01T00:00:00",
          "1972-01-01T00:00:00",
          "1972-04-01T00:00:00",
          "1972-07-01T00:00:00",
          "1972-10-01T00:00:00",
          "1973-01-01T00:00:00",
          "1973-04-01T00:00:00",
          "1973-07-01T00:00:00",
          "1973-10-01T00:00:00",
          "1974-01-01T00:00:00",
          "1974-04-01T00:00:00",
          "1974-07-01T00:00:00",
          "1974-10-01T00:00:00",
          "1975-01-01T00:00:00",
          "1975-04-01T00:00:00",
          "1975-07-01T00:00:00",
          "1975-10-01T00:00:00",
          "1976-01-01T00:00:00",
          "1976-04-01T00:00:00",
          "1976-07-01T00:00:00",
          "1976-10-01T00:00:00",
          "1977-01-01T00:00:00",
          "1977-04-01T00:00:00",
          "1977-07-01T00:00:00",
          "1977-10-01T00:00:00",
          "1978-01-01T00:00:00",
          "1978-04-01T00:00:00",
          "1978-07-01T00:00:00",
          "1978-10-01T00:00:00",
          "1979-01-01T00:00:00",
          "1979-04-01T00:00:00",
          "1979-07-01T00:00:00",
          "1979-10-01T00:00:00",
          "1980-01-01T00:00:00",
          "1980-04-01T00:00:00",
          "1980-07-01T00:00:00",
          "1980-10-01T00:00:00",
          "1981-01-01T00:00:00",
          "1981-04-01T00:00:00",
          "1981-07-01T00:00:00",
          "1981-10-01T00:00:00",
          "1982-01-01T00:00:00",
          "1982-04-01T00:00:00",
          "1982-07-01T00:00:00",
          "1982-10-01T00:00:00",
          "1983-01-01T00:00:00",
          "1983-04-01T00:00:00",
          "1983-07-01T00:00:00",
          "1983-10-01T00:00:00",
          "1984-01-01T00:00:00",
          "1984-04-01T00:00:00",
          "1984-07-01T00:00:00",
          "1984-10-01T00:00:00",
          "1985-01-01T00:00:00",
          "1985-04-01T00:00:00",
          "1985-07-01T00:00:00",
          "1985-10-01T00:00:00",
          "1986-01-01T00:00:00",
          "1986-04-01T00:00:00",
          "1986-07-01T00:00:00",
          "1986-10-01T00:00:00",
          "1987-01-01T00:00:00",
          "1987-04-01T00:00:00",
          "1987-07-01T00:00:00",
          "1987-10-01T00:00:00",
          "1988-01-01T00:00:00",
          "1988-04-01T00:00:00",
          "1988-07-01T00:00:00",
          "1988-10-01T00:00:00",
          "1989-01-01T00:00:00",
          "1989-04-01T00:00:00",
          "1989-07-01T00:00:00",
          "1989-10-01T00:00:00",
          "1990-01-01T00:00:00",
          "1990-04-01T00:00:00",
          "1990-07-01T00:00:00",
          "1990-10-01T00:00:00",
          "1991-01-01T00:00:00",
          "1991-04-01T00:00:00",
          "1991-07-01T00:00:00",
          "1991-10-01T00:00:00",
          "1992-01-01T00:00:00",
          "1992-04-01T00:00:00",
          "1992-07-01T00:00:00",
          "1992-10-01T00:00:00",
          "1993-01-01T00:00:00",
          "1993-04-01T00:00:00",
          "1993-07-01T00:00:00",
          "1993-10-01T00:00:00",
          "1994-01-01T00:00:00",
          "1994-04-01T00:00:00",
          "1994-07-01T00:00:00",
          "1994-10-01T00:00:00",
          "1995-01-01T00:00:00",
          "1995-04-01T00:00:00",
          "1995-07-01T00:00:00",
          "1995-10-01T00:00:00",
          "1996-01-01T00:00:00",
          "1996-04-01T00:00:00",
          "1996-07-01T00:00:00",
          "1996-10-01T00:00:00",
          "1997-01-01T00:00:00",
          "1997-04-01T00:00:00",
          "1997-07-01T00:00:00",
          "1997-10-01T00:00:00",
          "1998-01-01T00:00:00",
          "1998-04-01T00:00:00",
          "1998-07-01T00:00:00",
          "1998-10-01T00:00:00",
          "1999-01-01T00:00:00",
          "1999-04-01T00:00:00",
          "1999-07-01T00:00:00",
          "1999-10-01T00:00:00",
          "2000-01-01T00:00:00",
          "2000-04-01T00:00:00",
          "2000-07-01T00:00:00",
          "2000-10-01T00:00:00",
          "2001-01-01T00:00:00",
          "2001-04-01T00:00:00",
          "2001-07-01T00:00:00",
          "2001-10-01T00:00:00",
          "2002-01-01T00:00:00",
          "2002-04-01T00:00:00",
          "2002-07-01T00:00:00",
          "2002-10-01T00:00:00",
          "2003-01-01T00:00:00",
          "2003-04-01T00:00:00",
          "2003-07-01T00:00:00",
          "2003-10-01T00:00:00",
          "2004-01-01T00:00:00",
          "2004-04-01T00:00:00",
          "2004-07-01T00:00:00",
          "2004-10-01T00:00:00",
          "2005-01-01T00:00:00",
          "2005-04-01T00:00:00",
          "2005-07-01T00:00:00",
          "2005-10-01T00:00:00",
          "2006-01-01T00:00:00",
          "2006-04-01T00:00:00",
          "2006-07-01T00:00:00",
          "2006-10-01T00:00:00",
          "2007-01-01T00:00:00",
          "2007-04-01T00:00:00",
          "2007-07-01T00:00:00",
          "2007-10-01T00:00:00",
          "2008-01-01T00:00:00",
          "2008-04-01T00:00:00",
          "2008-07-01T00:00:00",
          "2008-10-01T00:00:00",
          "2009-01-01T00:00:00",
          "2009-04-01T00:00:00",
          "2009-07-01T00:00:00",
          "2009-10-01T00:00:00",
          "2010-01-01T00:00:00",
          "2010-04-01T00:00:00",
          "2010-07-01T00:00:00",
          "2010-10-01T00:00:00",
          "2011-01-01T00:00:00",
          "2011-04-01T00:00:00",
          "2011-07-01T00:00:00",
          "2011-10-01T00:00:00",
          "2012-01-01T00:00:00",
          "2012-04-01T00:00:00",
          "2012-07-01T00:00:00",
          "2012-10-01T00:00:00",
          "2013-01-01T00:00:00",
          "2013-04-01T00:00:00",
          "2013-07-01T00:00:00",
          "2013-10-01T00:00:00",
          "2014-01-01T00:00:00",
          "2014-04-01T00:00:00",
          "2014-07-01T00:00:00",
          "2014-10-01T00:00:00",
          "2015-01-01T00:00:00",
          "2015-04-01T00:00:00",
          "2015-07-01T00:00:00",
          "2015-10-01T00:00:00",
          "2016-01-01T00:00:00",
          "2016-04-01T00:00:00",
          "2016-07-01T00:00:00",
          "2016-10-01T00:00:00",
          "2017-01-01T00:00:00",
          "2017-04-01T00:00:00",
          "2017-07-01T00:00:00",
          "2017-10-01T00:00:00",
          "2018-01-01T00:00:00",
          "2018-04-01T00:00:00",
          "2018-07-01T00:00:00",
          "2018-10-01T00:00:00",
          "2019-01-01T00:00:00",
          "2019-04-01T00:00:00",
          "2019-07-01T00:00:00",
          "2019-10-01T00:00:00",
          "2020-01-01T00:00:00",
          "2020-04-01T00:00:00",
          "2020-07-01T00:00:00",
          "2020-10-01T00:00:00",
          "2021-01-01T00:00:00",
          "2021-04-01T00:00:00",
          "2021-07-01T00:00:00",
          "2021-10-01T00:00:00",
          "2022-01-01T00:00:00",
          "2022-04-01T00:00:00"
         ],
         "xaxis": "x",
         "y": [
          23712962.333333332,
          27607407.333333332,
          22603703.333333332,
          30681482.333333332,
          30205554.666666668,
          21727777.666666668,
          18155554.666666668,
          20477779,
          19403704.333333332,
          15585185.333333334,
          12794444.333333334,
          17894445.333333332,
          19766667.666666668,
          15959258.666666666,
          13570372,
          16388888.333333334,
          20505555.666666668,
          23635185,
          27770369.666666668,
          34011111.333333336,
          37266665.333333336,
          29140740.666666668,
          27842593,
          25833333.666666668,
          28488889.666666668,
          26757407.666666668,
          23577776.333333332,
          24107406.666666668,
          22461111.333333332,
          26725925,
          23427777,
          30851850.666666668,
          25314814,
          29811110.333333332,
          37716666,
          45427777.333333336,
          42862963,
          39092593,
          33231481.666666668,
          36674074,
          35209259.666666664,
          37512963.333333336,
          33338888.666666668,
          35872222.666666664,
          54961110.666666664,
          50331481,
          38175926.666666664,
          45024075.333333336,
          39881481.666666664,
          51190741,
          40268518.666666664,
          47329629.666666664,
          47379630,
          55914814.333333336,
          50848148.666666664,
          58335184.333333336,
          58979629,
          59035184.666666664,
          54562962.666666664,
          56333332.666666664,
          64118518,
          66198150,
          64703704.333333336,
          93009259.66666667,
          100011111.66666667,
          92203703.66666667,
          74494445.33333333,
          84640740.66666667,
          113888889.33333333,
          114566666,
          116572222,
          123272221.33333333,
          116622223,
          156424073.33333334,
          123096296.33333333,
          146579630.33333334,
          124666666.33333333,
          134933334,
          120200001.33333333,
          147418517.33333334,
          122657407,
          131066666.66666667,
          138837037,
          153129630.66666666,
          205474073.33333334,
          187505557,
          155274074,
          172994446,
          214703703.66666666,
          188583335.66666666,
          165188888.33333334,
          197703703.33333334,
          195433333.33333334,
          163694445.33333334,
          168761111,
          223551852,
          172140741.33333334,
          143474073,
          154488889,
          181303704,
          242555556,
          251081482.33333334,
          184864814.66666666,
          191355554.66666666,
          326214814.3333333,
          215814816,
          213924074.66666666,
          236474073.66666666,
          247175925,
          243338889,
          235148149,
          251688889.33333334,
          239688889.33333334,
          395859259,
          384950000,
          312850000.6666667,
          322451853,
          366685185,
          411061111,
          411442592.6666667,
          553929629.3333334,
          420133332.6666667,
          563914814,
          563990740,
          545622222.6666666,
          579605556.6666666,
          524751853.3333333,
          545361111.6666666,
          594300000,
          606199999.3333334,
          808518517.6666666,
          1038459258.6666666,
          995364815.3333334,
          1058122220.3333334,
          932668518.3333334,
          1010757408,
          1111738889.3333333,
          1012953703.6666666,
          1103292593,
          1046020369.3333334,
          1300262962,
          1194299998.3333333,
          1156746296,
          1443146294.6666667,
          1665316666.6666667,
          1587081481.6666667,
          1647796296.3333333,
          1707118518.3333333,
          2128014814.6666667,
          2026740740.6666667,
          2176296297,
          2520514815.6666665,
          2081650000.3333333,
          1999785184.6666667,
          1800998149,
          1682014816,
          1898709259,
          2027992591.3333333,
          1895027779,
          1899675927.6666667,
          1858981481.6666667,
          1782255556.3333333,
          1866953704,
          1840462961.6666667,
          2202098148.6666665,
          2039931481,
          1936366666,
          2217650000,
          2522246296.3333335,
          2262898147.6666665,
          2211646295.3333335,
          2505912961.6666665,
          3053750000,
          3056705556,
          3031009259,
          3260792592.6666665,
          3649166667.3333335,
          3196972223.3333335,
          3246614814.6666665,
          3508790741,
          3884177777,
          3966364814.6666665,
          3982853703.6666665,
          4322779630.666667,
          4985594444.666667,
          4764362963.666667,
          4498935184.666667,
          5103090740.666667,
          5828244443.333333,
          5818422221,
          6286522223.666667,
          6694400001,
          7057401852,
          7163920370.666667,
          8514894446,
          8635996296.666666,
          9031825926.333334,
          9348635186.666666,
          8812996296.333334,
          10529168518.666666,
          12696777779.333334,
          11433900000,
          11165018518.333334,
          12980462964.333334,
          14311261111,
          13830355555.666666,
          13366333333.333334,
          15075898149,
          15251296296.666666,
          15825168518.333334,
          18379783332.666668,
          17231650000.333332,
          15937946296,
          17007612963,
          15995329629.666666,
          15666824074.333334,
          17482129628.333332,
          16382925926,
          15315235184.333334,
          17235885185,
          18483399999.666668,
          22792648147.666668,
          23013383332.666668,
          25306072222,
          26477153704.333332,
          28239725925.666668,
          27006533333.666668,
          29577098147.333332,
          32621007406.333332,
          34687651851.666664,
          40653498148.333336,
          42053925925.333336,
          50037155555,
          48811694444.333336,
          65047018517.666664,
          71919946296,
          73782683333.33333,
          70948779630.33333,
          62035287037,
          53316268517,
          51702309259.333336,
          65650266666,
          48167742590.333336,
          47717012963.666664,
          44610414815.333336,
          45406762964,
          54131140741,
          47607620370.333336,
          44787579630,
          45049007407.333336,
          39476277776.666664,
          38820335185,
          39564648148,
          42313340741.666664,
          36867414814.333336,
          38006372221.666664,
          40274542593.333336,
          36759781482,
          35437375925,
          44084824074.333336,
          41255824074.666664,
          38974564814.333336,
          44914212963,
          45451435185.666664,
          51499768518.666664,
          45715053704,
          41187185185.666664,
          43842153703.666664,
          40961735185.666664,
          41828764815,
          37059890741.333336,
          38758522222.333336,
          43112838890,
          41241774074,
          36346753703.333336,
          47209372222.333336,
          42440988889.666664,
          40249324074.666664,
          41470600001.666664,
          41073790741,
          59851442591,
          67143491702,
          52040181958,
          51522877124.666664,
          52778597690.333336,
          45023108218.333336,
          42077255921,
          46318846241.333336,
          47426971122.666664
         ],
         "yaxis": "y2"
        }
       ],
       "layout": {
        "template": {
         "data": {
          "bar": [
           {
            "error_x": {
             "color": "#2a3f5f"
            },
            "error_y": {
             "color": "#2a3f5f"
            },
            "marker": {
             "line": {
              "color": "#E5ECF6",
              "width": 0.5
             },
             "pattern": {
              "fillmode": "overlay",
              "size": 10,
              "solidity": 0.2
             }
            },
            "type": "bar"
           }
          ],
          "barpolar": [
           {
            "marker": {
             "line": {
              "color": "#E5ECF6",
              "width": 0.5
             },
             "pattern": {
              "fillmode": "overlay",
              "size": 10,
              "solidity": 0.2
             }
            },
            "type": "barpolar"
           }
          ],
          "carpet": [
           {
            "aaxis": {
             "endlinecolor": "#2a3f5f",
             "gridcolor": "white",
             "linecolor": "white",
             "minorgridcolor": "white",
             "startlinecolor": "#2a3f5f"
            },
            "baxis": {
             "endlinecolor": "#2a3f5f",
             "gridcolor": "white",
             "linecolor": "white",
             "minorgridcolor": "white",
             "startlinecolor": "#2a3f5f"
            },
            "type": "carpet"
           }
          ],
          "choropleth": [
           {
            "colorbar": {
             "outlinewidth": 0,
             "ticks": ""
            },
            "type": "choropleth"
           }
          ],
          "contour": [
           {
            "colorbar": {
             "outlinewidth": 0,
             "ticks": ""
            },
            "colorscale": [
             [
              0,
              "#0d0887"
             ],
             [
              0.1111111111111111,
              "#46039f"
             ],
             [
              0.2222222222222222,
              "#7201a8"
             ],
             [
              0.3333333333333333,
              "#9c179e"
             ],
             [
              0.4444444444444444,
              "#bd3786"
             ],
             [
              0.5555555555555556,
              "#d8576b"
             ],
             [
              0.6666666666666666,
              "#ed7953"
             ],
             [
              0.7777777777777778,
              "#fb9f3a"
             ],
             [
              0.8888888888888888,
              "#fdca26"
             ],
             [
              1,
              "#f0f921"
             ]
            ],
            "type": "contour"
           }
          ],
          "contourcarpet": [
           {
            "colorbar": {
             "outlinewidth": 0,
             "ticks": ""
            },
            "type": "contourcarpet"
           }
          ],
          "heatmap": [
           {
            "colorbar": {
             "outlinewidth": 0,
             "ticks": ""
            },
            "colorscale": [
             [
              0,
              "#0d0887"
             ],
             [
              0.1111111111111111,
              "#46039f"
             ],
             [
              0.2222222222222222,
              "#7201a8"
             ],
             [
              0.3333333333333333,
              "#9c179e"
             ],
             [
              0.4444444444444444,
              "#bd3786"
             ],
             [
              0.5555555555555556,
              "#d8576b"
             ],
             [
              0.6666666666666666,
              "#ed7953"
             ],
             [
              0.7777777777777778,
              "#fb9f3a"
             ],
             [
              0.8888888888888888,
              "#fdca26"
             ],
             [
              1,
              "#f0f921"
             ]
            ],
            "type": "heatmap"
           }
          ],
          "heatmapgl": [
           {
            "colorbar": {
             "outlinewidth": 0,
             "ticks": ""
            },
            "colorscale": [
             [
              0,
              "#0d0887"
             ],
             [
              0.1111111111111111,
              "#46039f"
             ],
             [
              0.2222222222222222,
              "#7201a8"
             ],
             [
              0.3333333333333333,
              "#9c179e"
             ],
             [
              0.4444444444444444,
              "#bd3786"
             ],
             [
              0.5555555555555556,
              "#d8576b"
             ],
             [
              0.6666666666666666,
              "#ed7953"
             ],
             [
              0.7777777777777778,
              "#fb9f3a"
             ],
             [
              0.8888888888888888,
              "#fdca26"
             ],
             [
              1,
              "#f0f921"
             ]
            ],
            "type": "heatmapgl"
           }
          ],
          "histogram": [
           {
            "marker": {
             "pattern": {
              "fillmode": "overlay",
              "size": 10,
              "solidity": 0.2
             }
            },
            "type": "histogram"
           }
          ],
          "histogram2d": [
           {
            "colorbar": {
             "outlinewidth": 0,
             "ticks": ""
            },
            "colorscale": [
             [
              0,
              "#0d0887"
             ],
             [
              0.1111111111111111,
              "#46039f"
             ],
             [
              0.2222222222222222,
              "#7201a8"
             ],
             [
              0.3333333333333333,
              "#9c179e"
             ],
             [
              0.4444444444444444,
              "#bd3786"
             ],
             [
              0.5555555555555556,
              "#d8576b"
             ],
             [
              0.6666666666666666,
              "#ed7953"
             ],
             [
              0.7777777777777778,
              "#fb9f3a"
             ],
             [
              0.8888888888888888,
              "#fdca26"
             ],
             [
              1,
              "#f0f921"
             ]
            ],
            "type": "histogram2d"
           }
          ],
          "histogram2dcontour": [
           {
            "colorbar": {
             "outlinewidth": 0,
             "ticks": ""
            },
            "colorscale": [
             [
              0,
              "#0d0887"
             ],
             [
              0.1111111111111111,
              "#46039f"
             ],
             [
              0.2222222222222222,
              "#7201a8"
             ],
             [
              0.3333333333333333,
              "#9c179e"
             ],
             [
              0.4444444444444444,
              "#bd3786"
             ],
             [
              0.5555555555555556,
              "#d8576b"
             ],
             [
              0.6666666666666666,
              "#ed7953"
             ],
             [
              0.7777777777777778,
              "#fb9f3a"
             ],
             [
              0.8888888888888888,
              "#fdca26"
             ],
             [
              1,
              "#f0f921"
             ]
            ],
            "type": "histogram2dcontour"
           }
          ],
          "mesh3d": [
           {
            "colorbar": {
             "outlinewidth": 0,
             "ticks": ""
            },
            "type": "mesh3d"
           }
          ],
          "parcoords": [
           {
            "line": {
             "colorbar": {
              "outlinewidth": 0,
              "ticks": ""
             }
            },
            "type": "parcoords"
           }
          ],
          "pie": [
           {
            "automargin": true,
            "type": "pie"
           }
          ],
          "scatter": [
           {
            "marker": {
             "colorbar": {
              "outlinewidth": 0,
              "ticks": ""
             }
            },
            "type": "scatter"
           }
          ],
          "scatter3d": [
           {
            "line": {
             "colorbar": {
              "outlinewidth": 0,
              "ticks": ""
             }
            },
            "marker": {
             "colorbar": {
              "outlinewidth": 0,
              "ticks": ""
             }
            },
            "type": "scatter3d"
           }
          ],
          "scattercarpet": [
           {
            "marker": {
             "colorbar": {
              "outlinewidth": 0,
              "ticks": ""
             }
            },
            "type": "scattercarpet"
           }
          ],
          "scattergeo": [
           {
            "marker": {
             "colorbar": {
              "outlinewidth": 0,
              "ticks": ""
             }
            },
            "type": "scattergeo"
           }
          ],
          "scattergl": [
           {
            "marker": {
             "colorbar": {
              "outlinewidth": 0,
              "ticks": ""
             }
            },
            "type": "scattergl"
           }
          ],
          "scattermapbox": [
           {
            "marker": {
             "colorbar": {
              "outlinewidth": 0,
              "ticks": ""
             }
            },
            "type": "scattermapbox"
           }
          ],
          "scatterpolar": [
           {
            "marker": {
             "colorbar": {
              "outlinewidth": 0,
              "ticks": ""
             }
            },
            "type": "scatterpolar"
           }
          ],
          "scatterpolargl": [
           {
            "marker": {
             "colorbar": {
              "outlinewidth": 0,
              "ticks": ""
             }
            },
            "type": "scatterpolargl"
           }
          ],
          "scatterternary": [
           {
            "marker": {
             "colorbar": {
              "outlinewidth": 0,
              "ticks": ""
             }
            },
            "type": "scatterternary"
           }
          ],
          "surface": [
           {
            "colorbar": {
             "outlinewidth": 0,
             "ticks": ""
            },
            "colorscale": [
             [
              0,
              "#0d0887"
             ],
             [
              0.1111111111111111,
              "#46039f"
             ],
             [
              0.2222222222222222,
              "#7201a8"
             ],
             [
              0.3333333333333333,
              "#9c179e"
             ],
             [
              0.4444444444444444,
              "#bd3786"
             ],
             [
              0.5555555555555556,
              "#d8576b"
             ],
             [
              0.6666666666666666,
              "#ed7953"
             ],
             [
              0.7777777777777778,
              "#fb9f3a"
             ],
             [
              0.8888888888888888,
              "#fdca26"
             ],
             [
              1,
              "#f0f921"
             ]
            ],
            "type": "surface"
           }
          ],
          "table": [
           {
            "cells": {
             "fill": {
              "color": "#EBF0F8"
             },
             "line": {
              "color": "white"
             }
            },
            "header": {
             "fill": {
              "color": "#C8D4E3"
             },
             "line": {
              "color": "white"
             }
            },
            "type": "table"
           }
          ]
         },
         "layout": {
          "annotationdefaults": {
           "arrowcolor": "#2a3f5f",
           "arrowhead": 0,
           "arrowwidth": 1
          },
          "autotypenumbers": "strict",
          "coloraxis": {
           "colorbar": {
            "outlinewidth": 0,
            "ticks": ""
           }
          },
          "colorscale": {
           "diverging": [
            [
             0,
             "#8e0152"
            ],
            [
             0.1,
             "#c51b7d"
            ],
            [
             0.2,
             "#de77ae"
            ],
            [
             0.3,
             "#f1b6da"
            ],
            [
             0.4,
             "#fde0ef"
            ],
            [
             0.5,
             "#f7f7f7"
            ],
            [
             0.6,
             "#e6f5d0"
            ],
            [
             0.7,
             "#b8e186"
            ],
            [
             0.8,
             "#7fbc41"
            ],
            [
             0.9,
             "#4d9221"
            ],
            [
             1,
             "#276419"
            ]
           ],
           "sequential": [
            [
             0,
             "#0d0887"
            ],
            [
             0.1111111111111111,
             "#46039f"
            ],
            [
             0.2222222222222222,
             "#7201a8"
            ],
            [
             0.3333333333333333,
             "#9c179e"
            ],
            [
             0.4444444444444444,
             "#bd3786"
            ],
            [
             0.5555555555555556,
             "#d8576b"
            ],
            [
             0.6666666666666666,
             "#ed7953"
            ],
            [
             0.7777777777777778,
             "#fb9f3a"
            ],
            [
             0.8888888888888888,
             "#fdca26"
            ],
            [
             1,
             "#f0f921"
            ]
           ],
           "sequentialminus": [
            [
             0,
             "#0d0887"
            ],
            [
             0.1111111111111111,
             "#46039f"
            ],
            [
             0.2222222222222222,
             "#7201a8"
            ],
            [
             0.3333333333333333,
             "#9c179e"
            ],
            [
             0.4444444444444444,
             "#bd3786"
            ],
            [
             0.5555555555555556,
             "#d8576b"
            ],
            [
             0.6666666666666666,
             "#ed7953"
            ],
            [
             0.7777777777777778,
             "#fb9f3a"
            ],
            [
             0.8888888888888888,
             "#fdca26"
            ],
            [
             1,
             "#f0f921"
            ]
           ]
          },
          "colorway": [
           "#636efa",
           "#EF553B",
           "#00cc96",
           "#ab63fa",
           "#FFA15A",
           "#19d3f3",
           "#FF6692",
           "#B6E880",
           "#FF97FF",
           "#FECB52"
          ],
          "font": {
           "color": "#2a3f5f"
          },
          "geo": {
           "bgcolor": "white",
           "lakecolor": "white",
           "landcolor": "#E5ECF6",
           "showlakes": true,
           "showland": true,
           "subunitcolor": "white"
          },
          "hoverlabel": {
           "align": "left"
          },
          "hovermode": "closest",
          "mapbox": {
           "style": "light"
          },
          "paper_bgcolor": "white",
          "plot_bgcolor": "#E5ECF6",
          "polar": {
           "angularaxis": {
            "gridcolor": "white",
            "linecolor": "white",
            "ticks": ""
           },
           "bgcolor": "#E5ECF6",
           "radialaxis": {
            "gridcolor": "white",
            "linecolor": "white",
            "ticks": ""
           }
          },
          "scene": {
           "xaxis": {
            "backgroundcolor": "#E5ECF6",
            "gridcolor": "white",
            "gridwidth": 2,
            "linecolor": "white",
            "showbackground": true,
            "ticks": "",
            "zerolinecolor": "white"
           },
           "yaxis": {
            "backgroundcolor": "#E5ECF6",
            "gridcolor": "white",
            "gridwidth": 2,
            "linecolor": "white",
            "showbackground": true,
            "ticks": "",
            "zerolinecolor": "white"
           },
           "zaxis": {
            "backgroundcolor": "#E5ECF6",
            "gridcolor": "white",
            "gridwidth": 2,
            "linecolor": "white",
            "showbackground": true,
            "ticks": "",
            "zerolinecolor": "white"
           }
          },
          "shapedefaults": {
           "line": {
            "color": "#2a3f5f"
           }
          },
          "ternary": {
           "aaxis": {
            "gridcolor": "white",
            "linecolor": "white",
            "ticks": ""
           },
           "baxis": {
            "gridcolor": "white",
            "linecolor": "white",
            "ticks": ""
           },
           "bgcolor": "#E5ECF6",
           "caxis": {
            "gridcolor": "white",
            "linecolor": "white",
            "ticks": ""
           }
          },
          "title": {
           "x": 0.05
          },
          "xaxis": {
           "automargin": true,
           "gridcolor": "white",
           "linecolor": "white",
           "ticks": "",
           "title": {
            "standoff": 15
           },
           "zerolinecolor": "white",
           "zerolinewidth": 2
          },
          "yaxis": {
           "automargin": true,
           "gridcolor": "white",
           "linecolor": "white",
           "ticks": "",
           "title": {
            "standoff": 15
           },
           "zerolinecolor": "white",
           "zerolinewidth": 2
          }
         }
        },
        "xaxis": {
         "anchor": "y",
         "domain": [
          0,
          0.94
         ],
         "title": {
          "text": "Date"
         }
        },
        "yaxis": {
         "anchor": "x",
         "domain": [
          0,
          1
         ],
         "title": {
          "text": "<b>Close</b>"
         }
        },
        "yaxis2": {
         "anchor": "x",
         "overlaying": "y",
         "side": "right",
         "title": {
          "text": "<b>Volume</b>"
         }
        }
       }
      }
     },
     "metadata": {},
     "output_type": "display_data"
    }
   ],
   "source": [
    "# Create figure with secondary y-axis\n",
    "fig = make_subplots(specs=[[{\"secondary_y\": True}]])\n",
    "\n",
    "# Add traces\n",
    "fig.add_trace(\n",
    "    go.Scatter(x=SPX.index, y=SPX[\"Close\"], name=\"Close\"),\n",
    "    secondary_y=False,\n",
    ")\n",
    "\n",
    "fig.add_trace(\n",
    "    go.Scatter(x=SPX.index, y=SPX[\"Volume\"], name=\"Volume\"),\n",
    "    secondary_y=True,\n",
    ")\n",
    "\n",
    "# Set x-axis title\n",
    "fig.update_xaxes(title_text=\"Date\")\n",
    "\n",
    "# Set y-axes titles\n",
    "fig.update_yaxes(title_text=\"<b>Close</b>\", secondary_y=False)\n",
    "fig.update_yaxes(title_text=\"<b>Volume</b>\", secondary_y=True)\n",
    "\n",
    "fig.show()"
   ]
  },
  {
   "cell_type": "markdown",
   "metadata": {},
   "source": [
    "## Create the Multi-Step LSTM Model"
   ]
  },
  {
   "cell_type": "code",
   "execution_count": 11,
   "metadata": {},
   "outputs": [
    {
     "name": "stdout",
     "output_type": "stream",
     "text": [
      "Epoch 1/100\n",
      "54/54 [==============================] - 3s 8ms/step - loss: 0.0363\n",
      "Epoch 2/100\n",
      "54/54 [==============================] - 1s 11ms/step - loss: 0.0259\n",
      "Epoch 3/100\n",
      "54/54 [==============================] - 1s 12ms/step - loss: 0.0157\n",
      "Epoch 4/100\n",
      "54/54 [==============================] - 1s 11ms/step - loss: 0.0087\n",
      "Epoch 5/100\n",
      "54/54 [==============================] - 1s 11ms/step - loss: 0.0049\n",
      "Epoch 6/100\n",
      "54/54 [==============================] - 1s 12ms/step - loss: 0.0031\n",
      "Epoch 7/100\n",
      "54/54 [==============================] - 1s 12ms/step - loss: 0.0024\n",
      "Epoch 8/100\n",
      "54/54 [==============================] - 1s 11ms/step - loss: 0.0019\n",
      "Epoch 9/100\n",
      "54/54 [==============================] - 1s 10ms/step - loss: 0.0018\n",
      "Epoch 10/100\n",
      "54/54 [==============================] - 1s 10ms/step - loss: 0.0017\n",
      "Epoch 11/100\n",
      "54/54 [==============================] - 1s 10ms/step - loss: 0.0015\n",
      "Epoch 12/100\n",
      "54/54 [==============================] - 1s 10ms/step - loss: 0.0018\n",
      "Epoch 13/100\n",
      "54/54 [==============================] - 1s 10ms/step - loss: 0.0015\n",
      "Epoch 14/100\n",
      "54/54 [==============================] - 1s 10ms/step - loss: 0.0015\n",
      "Epoch 15/100\n",
      "54/54 [==============================] - 1s 10ms/step - loss: 0.0016\n",
      "Epoch 16/100\n",
      "54/54 [==============================] - 1s 12ms/step - loss: 0.0016\n",
      "Epoch 17/100\n",
      "54/54 [==============================] - 1s 11ms/step - loss: 0.0015\n",
      "Epoch 18/100\n",
      "54/54 [==============================] - 1s 11ms/step - loss: 0.0015\n",
      "Epoch 19/100\n",
      "54/54 [==============================] - 1s 10ms/step - loss: 0.0015\n",
      "Epoch 20/100\n",
      "54/54 [==============================] - 1s 10ms/step - loss: 0.0015\n",
      "Epoch 21/100\n",
      "54/54 [==============================] - 1s 10ms/step - loss: 0.0015\n",
      "Epoch 22/100\n",
      "54/54 [==============================] - 1s 10ms/step - loss: 0.0015\n",
      "Epoch 23/100\n",
      "54/54 [==============================] - 1s 11ms/step - loss: 0.0017\n",
      "Epoch 24/100\n",
      "54/54 [==============================] - 1s 11ms/step - loss: 0.0016\n",
      "Epoch 25/100\n",
      "54/54 [==============================] - 1s 11ms/step - loss: 0.0016\n",
      "Epoch 26/100\n",
      "54/54 [==============================] - 0s 9ms/step - loss: 0.0015\n",
      "Epoch 27/100\n",
      "54/54 [==============================] - 1s 10ms/step - loss: 0.0014\n",
      "Epoch 28/100\n",
      "54/54 [==============================] - 0s 8ms/step - loss: 0.0014\n",
      "Epoch 29/100\n",
      "54/54 [==============================] - 1s 11ms/step - loss: 0.0016\n",
      "Epoch 30/100\n",
      "54/54 [==============================] - 1s 10ms/step - loss: 0.0015\n",
      "Epoch 31/100\n",
      "54/54 [==============================] - 1s 10ms/step - loss: 0.0014\n",
      "Epoch 32/100\n",
      "54/54 [==============================] - 1s 10ms/step - loss: 0.0017\n",
      "Epoch 33/100\n",
      "54/54 [==============================] - 1s 10ms/step - loss: 0.0017\n",
      "Epoch 34/100\n",
      "54/54 [==============================] - 1s 10ms/step - loss: 0.0016\n",
      "Epoch 35/100\n",
      "54/54 [==============================] - 1s 10ms/step - loss: 0.0017\n",
      "Epoch 36/100\n",
      "54/54 [==============================] - 1s 11ms/step - loss: 0.0014\n",
      "Epoch 37/100\n",
      "54/54 [==============================] - 1s 11ms/step - loss: 0.0014\n",
      "Epoch 38/100\n",
      "54/54 [==============================] - 1s 11ms/step - loss: 0.0014\n",
      "Epoch 39/100\n",
      "54/54 [==============================] - 1s 11ms/step - loss: 0.0013\n",
      "Epoch 40/100\n",
      "54/54 [==============================] - 1s 11ms/step - loss: 0.0012\n",
      "Epoch 41/100\n",
      "54/54 [==============================] - 1s 10ms/step - loss: 0.0012\n",
      "Epoch 42/100\n",
      "54/54 [==============================] - 0s 9ms/step - loss: 0.0011\n",
      "Epoch 43/100\n",
      "54/54 [==============================] - 1s 11ms/step - loss: 0.0010\n",
      "Epoch 44/100\n",
      "54/54 [==============================] - 1s 10ms/step - loss: 0.0011\n",
      "Epoch 45/100\n",
      "54/54 [==============================] - 1s 10ms/step - loss: 0.0011\n",
      "Epoch 46/100\n",
      "54/54 [==============================] - 1s 10ms/step - loss: 0.0011\n",
      "Epoch 47/100\n",
      "54/54 [==============================] - 1s 10ms/step - loss: 0.0010\n",
      "Epoch 48/100\n",
      "54/54 [==============================] - 1s 10ms/step - loss: 0.0010\n",
      "Epoch 49/100\n",
      "54/54 [==============================] - 1s 9ms/step - loss: 9.5357e-04\n",
      "Epoch 50/100\n",
      "54/54 [==============================] - 1s 10ms/step - loss: 9.9761e-04\n",
      "Epoch 51/100\n",
      "54/54 [==============================] - 1s 10ms/step - loss: 0.0011\n",
      "Epoch 52/100\n",
      "54/54 [==============================] - 1s 10ms/step - loss: 0.0010\n",
      "Epoch 53/100\n",
      "54/54 [==============================] - 1s 11ms/step - loss: 9.5516e-04\n",
      "Epoch 54/100\n",
      "54/54 [==============================] - 1s 11ms/step - loss: 8.7837e-04\n",
      "Epoch 55/100\n",
      "54/54 [==============================] - 1s 10ms/step - loss: 0.0010\n",
      "Epoch 56/100\n",
      "54/54 [==============================] - 1s 11ms/step - loss: 8.8817e-04\n",
      "Epoch 57/100\n",
      "54/54 [==============================] - 1s 10ms/step - loss: 9.0231e-04\n",
      "Epoch 58/100\n",
      "54/54 [==============================] - 1s 11ms/step - loss: 8.4721e-04\n",
      "Epoch 59/100\n",
      "54/54 [==============================] - 1s 11ms/step - loss: 8.5434e-04\n",
      "Epoch 60/100\n",
      "54/54 [==============================] - 1s 12ms/step - loss: 8.9514e-04\n",
      "Epoch 61/100\n",
      "54/54 [==============================] - 1s 11ms/step - loss: 9.9511e-04\n",
      "Epoch 62/100\n",
      "54/54 [==============================] - 1s 11ms/step - loss: 8.0074e-04\n",
      "Epoch 63/100\n",
      "54/54 [==============================] - 1s 11ms/step - loss: 9.6997e-04\n",
      "Epoch 64/100\n",
      "54/54 [==============================] - 1s 11ms/step - loss: 8.2545e-04\n",
      "Epoch 65/100\n",
      "54/54 [==============================] - 1s 10ms/step - loss: 8.1491e-04\n",
      "Epoch 66/100\n",
      "54/54 [==============================] - 0s 9ms/step - loss: 8.7110e-04\n",
      "Epoch 67/100\n",
      "54/54 [==============================] - 1s 11ms/step - loss: 8.3077e-04\n",
      "Epoch 68/100\n",
      "54/54 [==============================] - 1s 11ms/step - loss: 8.4034e-04\n",
      "Epoch 69/100\n",
      "54/54 [==============================] - ETA: 0s - loss: 8.3484e-0 - 1s 11ms/step - loss: 8.3492e-04\n",
      "Epoch 70/100\n",
      "54/54 [==============================] - 1s 10ms/step - loss: 7.7653e-04\n",
      "Epoch 71/100\n",
      "54/54 [==============================] - 1s 10ms/step - loss: 8.4671e-04\n",
      "Epoch 72/100\n",
      "54/54 [==============================] - 1s 12ms/step - loss: 7.6093e-04\n",
      "Epoch 73/100\n",
      "54/54 [==============================] - 1s 11ms/step - loss: 8.9012e-04\n",
      "Epoch 74/100\n",
      "54/54 [==============================] - 1s 11ms/step - loss: 7.9598e-04\n",
      "Epoch 75/100\n",
      "54/54 [==============================] - 1s 11ms/step - loss: 7.6582e-04\n",
      "Epoch 76/100\n",
      "54/54 [==============================] - 1s 11ms/step - loss: 7.9693e-04\n",
      "Epoch 77/100\n",
      "54/54 [==============================] - 1s 9ms/step - loss: 8.5639e-04\n",
      "Epoch 78/100\n",
      "54/54 [==============================] - 1s 10ms/step - loss: 7.7990e-04\n",
      "Epoch 79/100\n",
      "54/54 [==============================] - 1s 9ms/step - loss: 0.0011\n",
      "Epoch 80/100\n",
      "54/54 [==============================] - 1s 10ms/step - loss: 8.4959e-04\n",
      "Epoch 81/100\n",
      "54/54 [==============================] - 1s 10ms/step - loss: 7.6680e-04\n",
      "Epoch 82/100\n",
      "54/54 [==============================] - 1s 10ms/step - loss: 8.3853e-04\n",
      "Epoch 83/100\n",
      "54/54 [==============================] - 1s 11ms/step - loss: 7.9993e-04\n",
      "Epoch 84/100\n",
      "54/54 [==============================] - 1s 10ms/step - loss: 8.8669e-04\n",
      "Epoch 85/100\n",
      "54/54 [==============================] - 1s 11ms/step - loss: 8.1011e-04\n",
      "Epoch 86/100\n",
      "54/54 [==============================] - 1s 11ms/step - loss: 7.4707e-04\n",
      "Epoch 87/100\n",
      "54/54 [==============================] - 1s 10ms/step - loss: 7.7050e-04\n",
      "Epoch 88/100\n",
      "54/54 [==============================] - 0s 9ms/step - loss: 7.4868e-04\n",
      "Epoch 89/100\n",
      "54/54 [==============================] - 0s 9ms/step - loss: 8.9693e-04\n",
      "Epoch 90/100\n",
      "54/54 [==============================] - 0s 9ms/step - loss: 7.9621e-04\n",
      "Epoch 91/100\n",
      "54/54 [==============================] - 0s 9ms/step - loss: 7.4757e-04\n",
      "Epoch 92/100\n",
      "54/54 [==============================] - 0s 9ms/step - loss: 7.9321e-04\n",
      "Epoch 93/100\n",
      "54/54 [==============================] - 1s 9ms/step - loss: 7.8017e-04\n",
      "Epoch 94/100\n",
      "54/54 [==============================] - 0s 9ms/step - loss: 8.6502e-04\n",
      "Epoch 95/100\n",
      "54/54 [==============================] - 0s 9ms/step - loss: 8.7622e-04\n",
      "Epoch 96/100\n",
      "54/54 [==============================] - 0s 9ms/step - loss: 7.2129e-04\n",
      "Epoch 97/100\n",
      "54/54 [==============================] - 0s 9ms/step - loss: 6.9712e-04\n",
      "Epoch 98/100\n",
      "54/54 [==============================] - 1s 9ms/step - loss: 7.3950e-04\n",
      "Epoch 99/100\n",
      "54/54 [==============================] - 0s 9ms/step - loss: 7.7794e-04\n",
      "Epoch 100/100\n",
      "54/54 [==============================] - 0s 9ms/step - loss: 8.5196e-04\n",
      "############### Total Time Taken:  1 Minutes #############\n"
     ]
    }
   ],
   "source": [
    "TimeSteps = 10  # next few day's Price Prediction is based on last how many past day's prices\n",
    "FutureTimeSteps = 5 # How many days in future you want to predict the prices\n",
    "\n",
    "price = SPX[['Close']].values\n",
    "\n",
    "# Feature Scaling for fast training of neural networks\n",
    "from sklearn.preprocessing import StandardScaler, MinMaxScaler\n",
    " \n",
    "# Standardise or normalise data so it better fits into model\n",
    "#sc = StandardScaler()\n",
    "sc = MinMaxScaler()\n",
    "DataScaler = sc.fit(price)\n",
    "X = DataScaler.transform(price)\n",
    "X = X.reshape(X.shape[0],)\n",
    "\n",
    "# split into samples\n",
    "X_samples = list()\n",
    "y_samples = list()\n",
    "NumerOfRows = len(X)\n",
    " \n",
    "# Iterate thru the values to create combinations\n",
    "for i in range(TimeSteps , NumerOfRows-FutureTimeSteps , 1):\n",
    "    x_sample = X[i-TimeSteps:i]\n",
    "    y_sample = X[i:i+FutureTimeSteps]\n",
    "    X_samples.append(x_sample)\n",
    "    y_samples.append(y_sample)\n",
    "\n",
    "################################################\n",
    " \n",
    "# Reshape the Input as a 3D (samples, Time Steps, Features)\n",
    "X_data = np.array(X_samples)\n",
    "X_data = X_data.reshape(X_data.shape[0],X_data.shape[1], 1)\n",
    "# Don't reshape y as a 3D data  as it is supposed to be a single column only\n",
    "y_data = np.array(y_samples)\n",
    "\n",
    "\n",
    "# Choosing the number of testing data records\n",
    "TestingRecords = 5\n",
    "# Splitting the data into train and test\n",
    "X_train = X_data[:-TestingRecords]\n",
    "X_test = X_data[-TestingRecords:]\n",
    "y_train = y_data[:-TestingRecords]\n",
    "y_test = y_data[-TestingRecords:]\n",
    "\n",
    "# Defining Input shapes for LSTM\n",
    "TimeSteps = X_train.shape[1]\n",
    "TotalFeatures = X_train.shape[2]\n",
    "\n",
    "\n",
    "# Importing the Keras libraries and packages\n",
    "from keras.models import Sequential\n",
    "from keras.layers import Dense\n",
    "from keras.layers import LSTM\n",
    "\n",
    "# Initialising the RNN\n",
    "regressor = Sequential()\n",
    "\n",
    "# Adding the First input hidden layer and the LSTM layer\n",
    "# return_sequences = True, means the output of every time step to be shared with hidden next layer\n",
    "regressor.add(LSTM(units = 10, activation = 'relu', input_shape = (TimeSteps, TotalFeatures), return_sequences=True))\n",
    "\n",
    "\n",
    "# Adding the Second hidden layer and the LSTM layer\n",
    "regressor.add(LSTM(units = 5, activation = 'relu', input_shape = (TimeSteps, TotalFeatures), return_sequences=True))\n",
    "\n",
    "# Adding the Third hidden layer and the LSTM layer\n",
    "regressor.add(LSTM(units = 5, activation = 'relu', return_sequences=False ))\n",
    "\n",
    "\n",
    "# Adding the output layer\n",
    "# Notice the number of neurons in the dense layer is now the number of future time steps \n",
    "# Based on the number of future days we want to predict\n",
    "regressor.add(Dense(units = FutureTimeSteps))\n",
    "\n",
    "# Compiling the RNN\n",
    "regressor.compile(optimizer = 'adam', loss = 'mean_squared_error')\n",
    "\n",
    "###################################################################\n",
    "\n",
    "import time\n",
    "# Measuring the time taken by the model to train\n",
    "StartTime = time.time()\n",
    "\n",
    "# Fitting the RNN to the Training set\n",
    "regressor.fit(X_train, y_train, batch_size = 5, epochs = 100)\n",
    "\n",
    "EndTime = time.time()\n",
    "print(\"############### Total Time Taken: \", round((EndTime-StartTime)/60), 'Minutes #############')"
   ]
  },
  {
   "cell_type": "markdown",
   "metadata": {},
   "source": [
    "## Finding Model's Accuracy"
   ]
  },
  {
   "cell_type": "code",
   "execution_count": 12,
   "metadata": {},
   "outputs": [
    {
     "name": "stdout",
     "output_type": "stream",
     "text": [
      "#### Predicted Prices ####\n",
      "[[3156.5195 3248.17   3322.5413 3291.4902 3474.8398]\n",
      " [3323.4197 3438.5107 3531.268  3462.4626 3685.9148]\n",
      " [3321.0396 3406.14   3462.326  3457.1636 3706.1587]\n",
      " [3241.8809 3315.3984 3359.929  3374.5652 3618.9036]\n",
      " [3521.3347 3658.4119 3761.79   3662.1301 3962.2373]]\n",
      "\n",
      "#### Original Prices ####\n",
      "[[3136.44       2921.44333333 3019.01       3378.14333333 3549.22      ]\n",
      " [2921.44333333 3019.01       3378.14333333 3549.22       3832.76      ]\n",
      " [3019.01       3378.14333333 3549.22       3832.76       4227.59333333]\n",
      " [3378.14333333 3549.22       3832.76       4227.59333333 4408.49333333]\n",
      " [3549.22       3832.76       4227.59333333 4408.49333333 4646.18666667]]\n"
     ]
    },
    {
     "data": {
      "application/vnd.plotly.v1+json": {
       "config": {
        "plotlyServerURL": "https://plot.ly"
       },
       "data": [
        {
         "name": "Predicted Price",
         "type": "scatter",
         "x": [
          "2016-04-01T00:00:00.000000000",
          "2016-07-01T00:00:00.000000000",
          "2016-10-01T00:00:00.000000000",
          "2017-01-01T00:00:00.000000000",
          "2017-04-01T00:00:00.000000000"
         ],
         "xaxis": "x",
         "y": [
          3156.51953125,
          3248.169921875,
          3322.541259765625,
          3291.490234375,
          3474.83984375
         ],
         "yaxis": "y"
        },
        {
         "name": "Actual Price",
         "type": "scatter",
         "x": [
          "2016-04-01T00:00:00.000000000",
          "2016-07-01T00:00:00.000000000",
          "2016-10-01T00:00:00.000000000",
          "2017-01-01T00:00:00.000000000",
          "2017-04-01T00:00:00.000000000"
         ],
         "xaxis": "x",
         "y": [
          3136.44,
          2921.443333333333,
          3019.0099999999998,
          3378.1433333333334,
          3549.22
         ],
         "yaxis": "y"
        },
        {
         "name": "Trading Volume",
         "opacity": 0.3,
         "type": "scatter",
         "x": [
          "2016-04-01T00:00:00.000000000",
          "2016-07-01T00:00:00.000000000",
          "2016-10-01T00:00:00.000000000",
          "2017-01-01T00:00:00.000000000",
          "2017-04-01T00:00:00.000000000"
         ],
         "xaxis": "x",
         "y": [
          51499768518.666664,
          45715053704,
          41187185185.666664,
          43842153703.666664,
          40961735185.666664
         ],
         "yaxis": "y2"
        }
       ],
       "layout": {
        "template": {
         "data": {
          "bar": [
           {
            "error_x": {
             "color": "#2a3f5f"
            },
            "error_y": {
             "color": "#2a3f5f"
            },
            "marker": {
             "line": {
              "color": "#E5ECF6",
              "width": 0.5
             },
             "pattern": {
              "fillmode": "overlay",
              "size": 10,
              "solidity": 0.2
             }
            },
            "type": "bar"
           }
          ],
          "barpolar": [
           {
            "marker": {
             "line": {
              "color": "#E5ECF6",
              "width": 0.5
             },
             "pattern": {
              "fillmode": "overlay",
              "size": 10,
              "solidity": 0.2
             }
            },
            "type": "barpolar"
           }
          ],
          "carpet": [
           {
            "aaxis": {
             "endlinecolor": "#2a3f5f",
             "gridcolor": "white",
             "linecolor": "white",
             "minorgridcolor": "white",
             "startlinecolor": "#2a3f5f"
            },
            "baxis": {
             "endlinecolor": "#2a3f5f",
             "gridcolor": "white",
             "linecolor": "white",
             "minorgridcolor": "white",
             "startlinecolor": "#2a3f5f"
            },
            "type": "carpet"
           }
          ],
          "choropleth": [
           {
            "colorbar": {
             "outlinewidth": 0,
             "ticks": ""
            },
            "type": "choropleth"
           }
          ],
          "contour": [
           {
            "colorbar": {
             "outlinewidth": 0,
             "ticks": ""
            },
            "colorscale": [
             [
              0,
              "#0d0887"
             ],
             [
              0.1111111111111111,
              "#46039f"
             ],
             [
              0.2222222222222222,
              "#7201a8"
             ],
             [
              0.3333333333333333,
              "#9c179e"
             ],
             [
              0.4444444444444444,
              "#bd3786"
             ],
             [
              0.5555555555555556,
              "#d8576b"
             ],
             [
              0.6666666666666666,
              "#ed7953"
             ],
             [
              0.7777777777777778,
              "#fb9f3a"
             ],
             [
              0.8888888888888888,
              "#fdca26"
             ],
             [
              1,
              "#f0f921"
             ]
            ],
            "type": "contour"
           }
          ],
          "contourcarpet": [
           {
            "colorbar": {
             "outlinewidth": 0,
             "ticks": ""
            },
            "type": "contourcarpet"
           }
          ],
          "heatmap": [
           {
            "colorbar": {
             "outlinewidth": 0,
             "ticks": ""
            },
            "colorscale": [
             [
              0,
              "#0d0887"
             ],
             [
              0.1111111111111111,
              "#46039f"
             ],
             [
              0.2222222222222222,
              "#7201a8"
             ],
             [
              0.3333333333333333,
              "#9c179e"
             ],
             [
              0.4444444444444444,
              "#bd3786"
             ],
             [
              0.5555555555555556,
              "#d8576b"
             ],
             [
              0.6666666666666666,
              "#ed7953"
             ],
             [
              0.7777777777777778,
              "#fb9f3a"
             ],
             [
              0.8888888888888888,
              "#fdca26"
             ],
             [
              1,
              "#f0f921"
             ]
            ],
            "type": "heatmap"
           }
          ],
          "heatmapgl": [
           {
            "colorbar": {
             "outlinewidth": 0,
             "ticks": ""
            },
            "colorscale": [
             [
              0,
              "#0d0887"
             ],
             [
              0.1111111111111111,
              "#46039f"
             ],
             [
              0.2222222222222222,
              "#7201a8"
             ],
             [
              0.3333333333333333,
              "#9c179e"
             ],
             [
              0.4444444444444444,
              "#bd3786"
             ],
             [
              0.5555555555555556,
              "#d8576b"
             ],
             [
              0.6666666666666666,
              "#ed7953"
             ],
             [
              0.7777777777777778,
              "#fb9f3a"
             ],
             [
              0.8888888888888888,
              "#fdca26"
             ],
             [
              1,
              "#f0f921"
             ]
            ],
            "type": "heatmapgl"
           }
          ],
          "histogram": [
           {
            "marker": {
             "pattern": {
              "fillmode": "overlay",
              "size": 10,
              "solidity": 0.2
             }
            },
            "type": "histogram"
           }
          ],
          "histogram2d": [
           {
            "colorbar": {
             "outlinewidth": 0,
             "ticks": ""
            },
            "colorscale": [
             [
              0,
              "#0d0887"
             ],
             [
              0.1111111111111111,
              "#46039f"
             ],
             [
              0.2222222222222222,
              "#7201a8"
             ],
             [
              0.3333333333333333,
              "#9c179e"
             ],
             [
              0.4444444444444444,
              "#bd3786"
             ],
             [
              0.5555555555555556,
              "#d8576b"
             ],
             [
              0.6666666666666666,
              "#ed7953"
             ],
             [
              0.7777777777777778,
              "#fb9f3a"
             ],
             [
              0.8888888888888888,
              "#fdca26"
             ],
             [
              1,
              "#f0f921"
             ]
            ],
            "type": "histogram2d"
           }
          ],
          "histogram2dcontour": [
           {
            "colorbar": {
             "outlinewidth": 0,
             "ticks": ""
            },
            "colorscale": [
             [
              0,
              "#0d0887"
             ],
             [
              0.1111111111111111,
              "#46039f"
             ],
             [
              0.2222222222222222,
              "#7201a8"
             ],
             [
              0.3333333333333333,
              "#9c179e"
             ],
             [
              0.4444444444444444,
              "#bd3786"
             ],
             [
              0.5555555555555556,
              "#d8576b"
             ],
             [
              0.6666666666666666,
              "#ed7953"
             ],
             [
              0.7777777777777778,
              "#fb9f3a"
             ],
             [
              0.8888888888888888,
              "#fdca26"
             ],
             [
              1,
              "#f0f921"
             ]
            ],
            "type": "histogram2dcontour"
           }
          ],
          "mesh3d": [
           {
            "colorbar": {
             "outlinewidth": 0,
             "ticks": ""
            },
            "type": "mesh3d"
           }
          ],
          "parcoords": [
           {
            "line": {
             "colorbar": {
              "outlinewidth": 0,
              "ticks": ""
             }
            },
            "type": "parcoords"
           }
          ],
          "pie": [
           {
            "automargin": true,
            "type": "pie"
           }
          ],
          "scatter": [
           {
            "marker": {
             "colorbar": {
              "outlinewidth": 0,
              "ticks": ""
             }
            },
            "type": "scatter"
           }
          ],
          "scatter3d": [
           {
            "line": {
             "colorbar": {
              "outlinewidth": 0,
              "ticks": ""
             }
            },
            "marker": {
             "colorbar": {
              "outlinewidth": 0,
              "ticks": ""
             }
            },
            "type": "scatter3d"
           }
          ],
          "scattercarpet": [
           {
            "marker": {
             "colorbar": {
              "outlinewidth": 0,
              "ticks": ""
             }
            },
            "type": "scattercarpet"
           }
          ],
          "scattergeo": [
           {
            "marker": {
             "colorbar": {
              "outlinewidth": 0,
              "ticks": ""
             }
            },
            "type": "scattergeo"
           }
          ],
          "scattergl": [
           {
            "marker": {
             "colorbar": {
              "outlinewidth": 0,
              "ticks": ""
             }
            },
            "type": "scattergl"
           }
          ],
          "scattermapbox": [
           {
            "marker": {
             "colorbar": {
              "outlinewidth": 0,
              "ticks": ""
             }
            },
            "type": "scattermapbox"
           }
          ],
          "scatterpolar": [
           {
            "marker": {
             "colorbar": {
              "outlinewidth": 0,
              "ticks": ""
             }
            },
            "type": "scatterpolar"
           }
          ],
          "scatterpolargl": [
           {
            "marker": {
             "colorbar": {
              "outlinewidth": 0,
              "ticks": ""
             }
            },
            "type": "scatterpolargl"
           }
          ],
          "scatterternary": [
           {
            "marker": {
             "colorbar": {
              "outlinewidth": 0,
              "ticks": ""
             }
            },
            "type": "scatterternary"
           }
          ],
          "surface": [
           {
            "colorbar": {
             "outlinewidth": 0,
             "ticks": ""
            },
            "colorscale": [
             [
              0,
              "#0d0887"
             ],
             [
              0.1111111111111111,
              "#46039f"
             ],
             [
              0.2222222222222222,
              "#7201a8"
             ],
             [
              0.3333333333333333,
              "#9c179e"
             ],
             [
              0.4444444444444444,
              "#bd3786"
             ],
             [
              0.5555555555555556,
              "#d8576b"
             ],
             [
              0.6666666666666666,
              "#ed7953"
             ],
             [
              0.7777777777777778,
              "#fb9f3a"
             ],
             [
              0.8888888888888888,
              "#fdca26"
             ],
             [
              1,
              "#f0f921"
             ]
            ],
            "type": "surface"
           }
          ],
          "table": [
           {
            "cells": {
             "fill": {
              "color": "#EBF0F8"
             },
             "line": {
              "color": "white"
             }
            },
            "header": {
             "fill": {
              "color": "#C8D4E3"
             },
             "line": {
              "color": "white"
             }
            },
            "type": "table"
           }
          ]
         },
         "layout": {
          "annotationdefaults": {
           "arrowcolor": "#2a3f5f",
           "arrowhead": 0,
           "arrowwidth": 1
          },
          "autotypenumbers": "strict",
          "coloraxis": {
           "colorbar": {
            "outlinewidth": 0,
            "ticks": ""
           }
          },
          "colorscale": {
           "diverging": [
            [
             0,
             "#8e0152"
            ],
            [
             0.1,
             "#c51b7d"
            ],
            [
             0.2,
             "#de77ae"
            ],
            [
             0.3,
             "#f1b6da"
            ],
            [
             0.4,
             "#fde0ef"
            ],
            [
             0.5,
             "#f7f7f7"
            ],
            [
             0.6,
             "#e6f5d0"
            ],
            [
             0.7,
             "#b8e186"
            ],
            [
             0.8,
             "#7fbc41"
            ],
            [
             0.9,
             "#4d9221"
            ],
            [
             1,
             "#276419"
            ]
           ],
           "sequential": [
            [
             0,
             "#0d0887"
            ],
            [
             0.1111111111111111,
             "#46039f"
            ],
            [
             0.2222222222222222,
             "#7201a8"
            ],
            [
             0.3333333333333333,
             "#9c179e"
            ],
            [
             0.4444444444444444,
             "#bd3786"
            ],
            [
             0.5555555555555556,
             "#d8576b"
            ],
            [
             0.6666666666666666,
             "#ed7953"
            ],
            [
             0.7777777777777778,
             "#fb9f3a"
            ],
            [
             0.8888888888888888,
             "#fdca26"
            ],
            [
             1,
             "#f0f921"
            ]
           ],
           "sequentialminus": [
            [
             0,
             "#0d0887"
            ],
            [
             0.1111111111111111,
             "#46039f"
            ],
            [
             0.2222222222222222,
             "#7201a8"
            ],
            [
             0.3333333333333333,
             "#9c179e"
            ],
            [
             0.4444444444444444,
             "#bd3786"
            ],
            [
             0.5555555555555556,
             "#d8576b"
            ],
            [
             0.6666666666666666,
             "#ed7953"
            ],
            [
             0.7777777777777778,
             "#fb9f3a"
            ],
            [
             0.8888888888888888,
             "#fdca26"
            ],
            [
             1,
             "#f0f921"
            ]
           ]
          },
          "colorway": [
           "#636efa",
           "#EF553B",
           "#00cc96",
           "#ab63fa",
           "#FFA15A",
           "#19d3f3",
           "#FF6692",
           "#B6E880",
           "#FF97FF",
           "#FECB52"
          ],
          "font": {
           "color": "#2a3f5f"
          },
          "geo": {
           "bgcolor": "white",
           "lakecolor": "white",
           "landcolor": "#E5ECF6",
           "showlakes": true,
           "showland": true,
           "subunitcolor": "white"
          },
          "hoverlabel": {
           "align": "left"
          },
          "hovermode": "closest",
          "mapbox": {
           "style": "light"
          },
          "paper_bgcolor": "white",
          "plot_bgcolor": "#E5ECF6",
          "polar": {
           "angularaxis": {
            "gridcolor": "white",
            "linecolor": "white",
            "ticks": ""
           },
           "bgcolor": "#E5ECF6",
           "radialaxis": {
            "gridcolor": "white",
            "linecolor": "white",
            "ticks": ""
           }
          },
          "scene": {
           "xaxis": {
            "backgroundcolor": "#E5ECF6",
            "gridcolor": "white",
            "gridwidth": 2,
            "linecolor": "white",
            "showbackground": true,
            "ticks": "",
            "zerolinecolor": "white"
           },
           "yaxis": {
            "backgroundcolor": "#E5ECF6",
            "gridcolor": "white",
            "gridwidth": 2,
            "linecolor": "white",
            "showbackground": true,
            "ticks": "",
            "zerolinecolor": "white"
           },
           "zaxis": {
            "backgroundcolor": "#E5ECF6",
            "gridcolor": "white",
            "gridwidth": 2,
            "linecolor": "white",
            "showbackground": true,
            "ticks": "",
            "zerolinecolor": "white"
           }
          },
          "shapedefaults": {
           "line": {
            "color": "#2a3f5f"
           }
          },
          "ternary": {
           "aaxis": {
            "gridcolor": "white",
            "linecolor": "white",
            "ticks": ""
           },
           "baxis": {
            "gridcolor": "white",
            "linecolor": "white",
            "ticks": ""
           },
           "bgcolor": "#E5ECF6",
           "caxis": {
            "gridcolor": "white",
            "linecolor": "white",
            "ticks": ""
           }
          },
          "title": {
           "x": 0.05
          },
          "xaxis": {
           "automargin": true,
           "gridcolor": "white",
           "linecolor": "white",
           "ticks": "",
           "title": {
            "standoff": 15
           },
           "zerolinecolor": "white",
           "zerolinewidth": 2
          },
          "yaxis": {
           "automargin": true,
           "gridcolor": "white",
           "linecolor": "white",
           "ticks": "",
           "title": {
            "standoff": 15
           },
           "zerolinecolor": "white",
           "zerolinewidth": 2
          }
         }
        },
        "title": {
         "text": "### Accuracy of the predictions:94.69% ###"
        },
        "xaxis": {
         "anchor": "y",
         "domain": [
          0,
          0.94
         ],
         "title": {
          "text": "<b>Date</b>"
         }
        },
        "yaxis": {
         "anchor": "x",
         "domain": [
          0,
          1
         ],
         "title": {
          "text": "<b>Price</b>"
         }
        },
        "yaxis2": {
         "anchor": "x",
         "overlaying": "y",
         "side": "right",
         "title": {
          "text": "<b>Trading Volume</b>"
         }
        }
       }
      }
     },
     "metadata": {},
     "output_type": "display_data"
    },
    {
     "data": {
      "application/vnd.plotly.v1+json": {
       "config": {
        "plotlyServerURL": "https://plot.ly"
       },
       "data": [
        {
         "name": "Predicted Price",
         "type": "scatter",
         "x": [
          "2017-07-01T00:00:00.000000000",
          "2017-10-01T00:00:00.000000000",
          "2018-01-01T00:00:00.000000000",
          "2018-04-01T00:00:00.000000000",
          "2018-07-01T00:00:00.000000000"
         ],
         "xaxis": "x",
         "y": [
          3323.419677734375,
          3438.5107421875,
          3531.26806640625,
          3462.462646484375,
          3685.914794921875
         ],
         "yaxis": "y"
        },
        {
         "name": "Actual Price",
         "type": "scatter",
         "x": [
          "2017-07-01T00:00:00.000000000",
          "2017-10-01T00:00:00.000000000",
          "2018-01-01T00:00:00.000000000",
          "2018-04-01T00:00:00.000000000",
          "2018-07-01T00:00:00.000000000"
         ],
         "xaxis": "x",
         "y": [
          2921.443333333333,
          3019.0099999999998,
          3378.1433333333334,
          3549.22,
          3832.7599999999998
         ],
         "yaxis": "y"
        },
        {
         "name": "Trading Volume",
         "opacity": 0.3,
         "type": "scatter",
         "x": [
          "2017-07-01T00:00:00.000000000",
          "2017-10-01T00:00:00.000000000",
          "2018-01-01T00:00:00.000000000",
          "2018-04-01T00:00:00.000000000",
          "2018-07-01T00:00:00.000000000"
         ],
         "xaxis": "x",
         "y": [
          41828764815,
          37059890741.333336,
          38758522222.333336,
          43112838890,
          41241774074
         ],
         "yaxis": "y2"
        }
       ],
       "layout": {
        "template": {
         "data": {
          "bar": [
           {
            "error_x": {
             "color": "#2a3f5f"
            },
            "error_y": {
             "color": "#2a3f5f"
            },
            "marker": {
             "line": {
              "color": "#E5ECF6",
              "width": 0.5
             },
             "pattern": {
              "fillmode": "overlay",
              "size": 10,
              "solidity": 0.2
             }
            },
            "type": "bar"
           }
          ],
          "barpolar": [
           {
            "marker": {
             "line": {
              "color": "#E5ECF6",
              "width": 0.5
             },
             "pattern": {
              "fillmode": "overlay",
              "size": 10,
              "solidity": 0.2
             }
            },
            "type": "barpolar"
           }
          ],
          "carpet": [
           {
            "aaxis": {
             "endlinecolor": "#2a3f5f",
             "gridcolor": "white",
             "linecolor": "white",
             "minorgridcolor": "white",
             "startlinecolor": "#2a3f5f"
            },
            "baxis": {
             "endlinecolor": "#2a3f5f",
             "gridcolor": "white",
             "linecolor": "white",
             "minorgridcolor": "white",
             "startlinecolor": "#2a3f5f"
            },
            "type": "carpet"
           }
          ],
          "choropleth": [
           {
            "colorbar": {
             "outlinewidth": 0,
             "ticks": ""
            },
            "type": "choropleth"
           }
          ],
          "contour": [
           {
            "colorbar": {
             "outlinewidth": 0,
             "ticks": ""
            },
            "colorscale": [
             [
              0,
              "#0d0887"
             ],
             [
              0.1111111111111111,
              "#46039f"
             ],
             [
              0.2222222222222222,
              "#7201a8"
             ],
             [
              0.3333333333333333,
              "#9c179e"
             ],
             [
              0.4444444444444444,
              "#bd3786"
             ],
             [
              0.5555555555555556,
              "#d8576b"
             ],
             [
              0.6666666666666666,
              "#ed7953"
             ],
             [
              0.7777777777777778,
              "#fb9f3a"
             ],
             [
              0.8888888888888888,
              "#fdca26"
             ],
             [
              1,
              "#f0f921"
             ]
            ],
            "type": "contour"
           }
          ],
          "contourcarpet": [
           {
            "colorbar": {
             "outlinewidth": 0,
             "ticks": ""
            },
            "type": "contourcarpet"
           }
          ],
          "heatmap": [
           {
            "colorbar": {
             "outlinewidth": 0,
             "ticks": ""
            },
            "colorscale": [
             [
              0,
              "#0d0887"
             ],
             [
              0.1111111111111111,
              "#46039f"
             ],
             [
              0.2222222222222222,
              "#7201a8"
             ],
             [
              0.3333333333333333,
              "#9c179e"
             ],
             [
              0.4444444444444444,
              "#bd3786"
             ],
             [
              0.5555555555555556,
              "#d8576b"
             ],
             [
              0.6666666666666666,
              "#ed7953"
             ],
             [
              0.7777777777777778,
              "#fb9f3a"
             ],
             [
              0.8888888888888888,
              "#fdca26"
             ],
             [
              1,
              "#f0f921"
             ]
            ],
            "type": "heatmap"
           }
          ],
          "heatmapgl": [
           {
            "colorbar": {
             "outlinewidth": 0,
             "ticks": ""
            },
            "colorscale": [
             [
              0,
              "#0d0887"
             ],
             [
              0.1111111111111111,
              "#46039f"
             ],
             [
              0.2222222222222222,
              "#7201a8"
             ],
             [
              0.3333333333333333,
              "#9c179e"
             ],
             [
              0.4444444444444444,
              "#bd3786"
             ],
             [
              0.5555555555555556,
              "#d8576b"
             ],
             [
              0.6666666666666666,
              "#ed7953"
             ],
             [
              0.7777777777777778,
              "#fb9f3a"
             ],
             [
              0.8888888888888888,
              "#fdca26"
             ],
             [
              1,
              "#f0f921"
             ]
            ],
            "type": "heatmapgl"
           }
          ],
          "histogram": [
           {
            "marker": {
             "pattern": {
              "fillmode": "overlay",
              "size": 10,
              "solidity": 0.2
             }
            },
            "type": "histogram"
           }
          ],
          "histogram2d": [
           {
            "colorbar": {
             "outlinewidth": 0,
             "ticks": ""
            },
            "colorscale": [
             [
              0,
              "#0d0887"
             ],
             [
              0.1111111111111111,
              "#46039f"
             ],
             [
              0.2222222222222222,
              "#7201a8"
             ],
             [
              0.3333333333333333,
              "#9c179e"
             ],
             [
              0.4444444444444444,
              "#bd3786"
             ],
             [
              0.5555555555555556,
              "#d8576b"
             ],
             [
              0.6666666666666666,
              "#ed7953"
             ],
             [
              0.7777777777777778,
              "#fb9f3a"
             ],
             [
              0.8888888888888888,
              "#fdca26"
             ],
             [
              1,
              "#f0f921"
             ]
            ],
            "type": "histogram2d"
           }
          ],
          "histogram2dcontour": [
           {
            "colorbar": {
             "outlinewidth": 0,
             "ticks": ""
            },
            "colorscale": [
             [
              0,
              "#0d0887"
             ],
             [
              0.1111111111111111,
              "#46039f"
             ],
             [
              0.2222222222222222,
              "#7201a8"
             ],
             [
              0.3333333333333333,
              "#9c179e"
             ],
             [
              0.4444444444444444,
              "#bd3786"
             ],
             [
              0.5555555555555556,
              "#d8576b"
             ],
             [
              0.6666666666666666,
              "#ed7953"
             ],
             [
              0.7777777777777778,
              "#fb9f3a"
             ],
             [
              0.8888888888888888,
              "#fdca26"
             ],
             [
              1,
              "#f0f921"
             ]
            ],
            "type": "histogram2dcontour"
           }
          ],
          "mesh3d": [
           {
            "colorbar": {
             "outlinewidth": 0,
             "ticks": ""
            },
            "type": "mesh3d"
           }
          ],
          "parcoords": [
           {
            "line": {
             "colorbar": {
              "outlinewidth": 0,
              "ticks": ""
             }
            },
            "type": "parcoords"
           }
          ],
          "pie": [
           {
            "automargin": true,
            "type": "pie"
           }
          ],
          "scatter": [
           {
            "marker": {
             "colorbar": {
              "outlinewidth": 0,
              "ticks": ""
             }
            },
            "type": "scatter"
           }
          ],
          "scatter3d": [
           {
            "line": {
             "colorbar": {
              "outlinewidth": 0,
              "ticks": ""
             }
            },
            "marker": {
             "colorbar": {
              "outlinewidth": 0,
              "ticks": ""
             }
            },
            "type": "scatter3d"
           }
          ],
          "scattercarpet": [
           {
            "marker": {
             "colorbar": {
              "outlinewidth": 0,
              "ticks": ""
             }
            },
            "type": "scattercarpet"
           }
          ],
          "scattergeo": [
           {
            "marker": {
             "colorbar": {
              "outlinewidth": 0,
              "ticks": ""
             }
            },
            "type": "scattergeo"
           }
          ],
          "scattergl": [
           {
            "marker": {
             "colorbar": {
              "outlinewidth": 0,
              "ticks": ""
             }
            },
            "type": "scattergl"
           }
          ],
          "scattermapbox": [
           {
            "marker": {
             "colorbar": {
              "outlinewidth": 0,
              "ticks": ""
             }
            },
            "type": "scattermapbox"
           }
          ],
          "scatterpolar": [
           {
            "marker": {
             "colorbar": {
              "outlinewidth": 0,
              "ticks": ""
             }
            },
            "type": "scatterpolar"
           }
          ],
          "scatterpolargl": [
           {
            "marker": {
             "colorbar": {
              "outlinewidth": 0,
              "ticks": ""
             }
            },
            "type": "scatterpolargl"
           }
          ],
          "scatterternary": [
           {
            "marker": {
             "colorbar": {
              "outlinewidth": 0,
              "ticks": ""
             }
            },
            "type": "scatterternary"
           }
          ],
          "surface": [
           {
            "colorbar": {
             "outlinewidth": 0,
             "ticks": ""
            },
            "colorscale": [
             [
              0,
              "#0d0887"
             ],
             [
              0.1111111111111111,
              "#46039f"
             ],
             [
              0.2222222222222222,
              "#7201a8"
             ],
             [
              0.3333333333333333,
              "#9c179e"
             ],
             [
              0.4444444444444444,
              "#bd3786"
             ],
             [
              0.5555555555555556,
              "#d8576b"
             ],
             [
              0.6666666666666666,
              "#ed7953"
             ],
             [
              0.7777777777777778,
              "#fb9f3a"
             ],
             [
              0.8888888888888888,
              "#fdca26"
             ],
             [
              1,
              "#f0f921"
             ]
            ],
            "type": "surface"
           }
          ],
          "table": [
           {
            "cells": {
             "fill": {
              "color": "#EBF0F8"
             },
             "line": {
              "color": "white"
             }
            },
            "header": {
             "fill": {
              "color": "#C8D4E3"
             },
             "line": {
              "color": "white"
             }
            },
            "type": "table"
           }
          ]
         },
         "layout": {
          "annotationdefaults": {
           "arrowcolor": "#2a3f5f",
           "arrowhead": 0,
           "arrowwidth": 1
          },
          "autotypenumbers": "strict",
          "coloraxis": {
           "colorbar": {
            "outlinewidth": 0,
            "ticks": ""
           }
          },
          "colorscale": {
           "diverging": [
            [
             0,
             "#8e0152"
            ],
            [
             0.1,
             "#c51b7d"
            ],
            [
             0.2,
             "#de77ae"
            ],
            [
             0.3,
             "#f1b6da"
            ],
            [
             0.4,
             "#fde0ef"
            ],
            [
             0.5,
             "#f7f7f7"
            ],
            [
             0.6,
             "#e6f5d0"
            ],
            [
             0.7,
             "#b8e186"
            ],
            [
             0.8,
             "#7fbc41"
            ],
            [
             0.9,
             "#4d9221"
            ],
            [
             1,
             "#276419"
            ]
           ],
           "sequential": [
            [
             0,
             "#0d0887"
            ],
            [
             0.1111111111111111,
             "#46039f"
            ],
            [
             0.2222222222222222,
             "#7201a8"
            ],
            [
             0.3333333333333333,
             "#9c179e"
            ],
            [
             0.4444444444444444,
             "#bd3786"
            ],
            [
             0.5555555555555556,
             "#d8576b"
            ],
            [
             0.6666666666666666,
             "#ed7953"
            ],
            [
             0.7777777777777778,
             "#fb9f3a"
            ],
            [
             0.8888888888888888,
             "#fdca26"
            ],
            [
             1,
             "#f0f921"
            ]
           ],
           "sequentialminus": [
            [
             0,
             "#0d0887"
            ],
            [
             0.1111111111111111,
             "#46039f"
            ],
            [
             0.2222222222222222,
             "#7201a8"
            ],
            [
             0.3333333333333333,
             "#9c179e"
            ],
            [
             0.4444444444444444,
             "#bd3786"
            ],
            [
             0.5555555555555556,
             "#d8576b"
            ],
            [
             0.6666666666666666,
             "#ed7953"
            ],
            [
             0.7777777777777778,
             "#fb9f3a"
            ],
            [
             0.8888888888888888,
             "#fdca26"
            ],
            [
             1,
             "#f0f921"
            ]
           ]
          },
          "colorway": [
           "#636efa",
           "#EF553B",
           "#00cc96",
           "#ab63fa",
           "#FFA15A",
           "#19d3f3",
           "#FF6692",
           "#B6E880",
           "#FF97FF",
           "#FECB52"
          ],
          "font": {
           "color": "#2a3f5f"
          },
          "geo": {
           "bgcolor": "white",
           "lakecolor": "white",
           "landcolor": "#E5ECF6",
           "showlakes": true,
           "showland": true,
           "subunitcolor": "white"
          },
          "hoverlabel": {
           "align": "left"
          },
          "hovermode": "closest",
          "mapbox": {
           "style": "light"
          },
          "paper_bgcolor": "white",
          "plot_bgcolor": "#E5ECF6",
          "polar": {
           "angularaxis": {
            "gridcolor": "white",
            "linecolor": "white",
            "ticks": ""
           },
           "bgcolor": "#E5ECF6",
           "radialaxis": {
            "gridcolor": "white",
            "linecolor": "white",
            "ticks": ""
           }
          },
          "scene": {
           "xaxis": {
            "backgroundcolor": "#E5ECF6",
            "gridcolor": "white",
            "gridwidth": 2,
            "linecolor": "white",
            "showbackground": true,
            "ticks": "",
            "zerolinecolor": "white"
           },
           "yaxis": {
            "backgroundcolor": "#E5ECF6",
            "gridcolor": "white",
            "gridwidth": 2,
            "linecolor": "white",
            "showbackground": true,
            "ticks": "",
            "zerolinecolor": "white"
           },
           "zaxis": {
            "backgroundcolor": "#E5ECF6",
            "gridcolor": "white",
            "gridwidth": 2,
            "linecolor": "white",
            "showbackground": true,
            "ticks": "",
            "zerolinecolor": "white"
           }
          },
          "shapedefaults": {
           "line": {
            "color": "#2a3f5f"
           }
          },
          "ternary": {
           "aaxis": {
            "gridcolor": "white",
            "linecolor": "white",
            "ticks": ""
           },
           "baxis": {
            "gridcolor": "white",
            "linecolor": "white",
            "ticks": ""
           },
           "bgcolor": "#E5ECF6",
           "caxis": {
            "gridcolor": "white",
            "linecolor": "white",
            "ticks": ""
           }
          },
          "title": {
           "x": 0.05
          },
          "xaxis": {
           "automargin": true,
           "gridcolor": "white",
           "linecolor": "white",
           "ticks": "",
           "title": {
            "standoff": 15
           },
           "zerolinecolor": "white",
           "zerolinewidth": 2
          },
          "yaxis": {
           "automargin": true,
           "gridcolor": "white",
           "linecolor": "white",
           "ticks": "",
           "title": {
            "standoff": 15
           },
           "zerolinecolor": "white",
           "zerolinewidth": 2
          }
         }
        },
        "title": {
         "text": "### Accuracy of the predictions:92.31% ###"
        },
        "xaxis": {
         "anchor": "y",
         "domain": [
          0,
          0.94
         ],
         "title": {
          "text": "<b>Date</b>"
         }
        },
        "yaxis": {
         "anchor": "x",
         "domain": [
          0,
          1
         ],
         "title": {
          "text": "<b>Price</b>"
         }
        },
        "yaxis2": {
         "anchor": "x",
         "overlaying": "y",
         "side": "right",
         "title": {
          "text": "<b>Trading Volume</b>"
         }
        }
       }
      }
     },
     "metadata": {},
     "output_type": "display_data"
    },
    {
     "data": {
      "application/vnd.plotly.v1+json": {
       "config": {
        "plotlyServerURL": "https://plot.ly"
       },
       "data": [
        {
         "name": "Predicted Price",
         "type": "scatter",
         "x": [
          "2018-10-01T00:00:00.000000000",
          "2019-01-01T00:00:00.000000000",
          "2019-04-01T00:00:00.000000000",
          "2019-07-01T00:00:00.000000000",
          "2019-10-01T00:00:00.000000000"
         ],
         "xaxis": "x",
         "y": [
          3321.03955078125,
          3406.139892578125,
          3462.325927734375,
          3457.16357421875,
          3706.15869140625
         ],
         "yaxis": "y"
        },
        {
         "name": "Actual Price",
         "type": "scatter",
         "x": [
          "2018-10-01T00:00:00.000000000",
          "2019-01-01T00:00:00.000000000",
          "2019-04-01T00:00:00.000000000",
          "2019-07-01T00:00:00.000000000",
          "2019-10-01T00:00:00.000000000"
         ],
         "xaxis": "x",
         "y": [
          3019.0099999999998,
          3378.1433333333334,
          3549.22,
          3832.7599999999998,
          4227.593333333333
         ],
         "yaxis": "y"
        },
        {
         "name": "Trading Volume",
         "opacity": 0.3,
         "type": "scatter",
         "x": [
          "2018-10-01T00:00:00.000000000",
          "2019-01-01T00:00:00.000000000",
          "2019-04-01T00:00:00.000000000",
          "2019-07-01T00:00:00.000000000",
          "2019-10-01T00:00:00.000000000"
         ],
         "xaxis": "x",
         "y": [
          36346753703.333336,
          47209372222.333336,
          42440988889.666664,
          40249324074.666664,
          41470600001.666664
         ],
         "yaxis": "y2"
        }
       ],
       "layout": {
        "template": {
         "data": {
          "bar": [
           {
            "error_x": {
             "color": "#2a3f5f"
            },
            "error_y": {
             "color": "#2a3f5f"
            },
            "marker": {
             "line": {
              "color": "#E5ECF6",
              "width": 0.5
             },
             "pattern": {
              "fillmode": "overlay",
              "size": 10,
              "solidity": 0.2
             }
            },
            "type": "bar"
           }
          ],
          "barpolar": [
           {
            "marker": {
             "line": {
              "color": "#E5ECF6",
              "width": 0.5
             },
             "pattern": {
              "fillmode": "overlay",
              "size": 10,
              "solidity": 0.2
             }
            },
            "type": "barpolar"
           }
          ],
          "carpet": [
           {
            "aaxis": {
             "endlinecolor": "#2a3f5f",
             "gridcolor": "white",
             "linecolor": "white",
             "minorgridcolor": "white",
             "startlinecolor": "#2a3f5f"
            },
            "baxis": {
             "endlinecolor": "#2a3f5f",
             "gridcolor": "white",
             "linecolor": "white",
             "minorgridcolor": "white",
             "startlinecolor": "#2a3f5f"
            },
            "type": "carpet"
           }
          ],
          "choropleth": [
           {
            "colorbar": {
             "outlinewidth": 0,
             "ticks": ""
            },
            "type": "choropleth"
           }
          ],
          "contour": [
           {
            "colorbar": {
             "outlinewidth": 0,
             "ticks": ""
            },
            "colorscale": [
             [
              0,
              "#0d0887"
             ],
             [
              0.1111111111111111,
              "#46039f"
             ],
             [
              0.2222222222222222,
              "#7201a8"
             ],
             [
              0.3333333333333333,
              "#9c179e"
             ],
             [
              0.4444444444444444,
              "#bd3786"
             ],
             [
              0.5555555555555556,
              "#d8576b"
             ],
             [
              0.6666666666666666,
              "#ed7953"
             ],
             [
              0.7777777777777778,
              "#fb9f3a"
             ],
             [
              0.8888888888888888,
              "#fdca26"
             ],
             [
              1,
              "#f0f921"
             ]
            ],
            "type": "contour"
           }
          ],
          "contourcarpet": [
           {
            "colorbar": {
             "outlinewidth": 0,
             "ticks": ""
            },
            "type": "contourcarpet"
           }
          ],
          "heatmap": [
           {
            "colorbar": {
             "outlinewidth": 0,
             "ticks": ""
            },
            "colorscale": [
             [
              0,
              "#0d0887"
             ],
             [
              0.1111111111111111,
              "#46039f"
             ],
             [
              0.2222222222222222,
              "#7201a8"
             ],
             [
              0.3333333333333333,
              "#9c179e"
             ],
             [
              0.4444444444444444,
              "#bd3786"
             ],
             [
              0.5555555555555556,
              "#d8576b"
             ],
             [
              0.6666666666666666,
              "#ed7953"
             ],
             [
              0.7777777777777778,
              "#fb9f3a"
             ],
             [
              0.8888888888888888,
              "#fdca26"
             ],
             [
              1,
              "#f0f921"
             ]
            ],
            "type": "heatmap"
           }
          ],
          "heatmapgl": [
           {
            "colorbar": {
             "outlinewidth": 0,
             "ticks": ""
            },
            "colorscale": [
             [
              0,
              "#0d0887"
             ],
             [
              0.1111111111111111,
              "#46039f"
             ],
             [
              0.2222222222222222,
              "#7201a8"
             ],
             [
              0.3333333333333333,
              "#9c179e"
             ],
             [
              0.4444444444444444,
              "#bd3786"
             ],
             [
              0.5555555555555556,
              "#d8576b"
             ],
             [
              0.6666666666666666,
              "#ed7953"
             ],
             [
              0.7777777777777778,
              "#fb9f3a"
             ],
             [
              0.8888888888888888,
              "#fdca26"
             ],
             [
              1,
              "#f0f921"
             ]
            ],
            "type": "heatmapgl"
           }
          ],
          "histogram": [
           {
            "marker": {
             "pattern": {
              "fillmode": "overlay",
              "size": 10,
              "solidity": 0.2
             }
            },
            "type": "histogram"
           }
          ],
          "histogram2d": [
           {
            "colorbar": {
             "outlinewidth": 0,
             "ticks": ""
            },
            "colorscale": [
             [
              0,
              "#0d0887"
             ],
             [
              0.1111111111111111,
              "#46039f"
             ],
             [
              0.2222222222222222,
              "#7201a8"
             ],
             [
              0.3333333333333333,
              "#9c179e"
             ],
             [
              0.4444444444444444,
              "#bd3786"
             ],
             [
              0.5555555555555556,
              "#d8576b"
             ],
             [
              0.6666666666666666,
              "#ed7953"
             ],
             [
              0.7777777777777778,
              "#fb9f3a"
             ],
             [
              0.8888888888888888,
              "#fdca26"
             ],
             [
              1,
              "#f0f921"
             ]
            ],
            "type": "histogram2d"
           }
          ],
          "histogram2dcontour": [
           {
            "colorbar": {
             "outlinewidth": 0,
             "ticks": ""
            },
            "colorscale": [
             [
              0,
              "#0d0887"
             ],
             [
              0.1111111111111111,
              "#46039f"
             ],
             [
              0.2222222222222222,
              "#7201a8"
             ],
             [
              0.3333333333333333,
              "#9c179e"
             ],
             [
              0.4444444444444444,
              "#bd3786"
             ],
             [
              0.5555555555555556,
              "#d8576b"
             ],
             [
              0.6666666666666666,
              "#ed7953"
             ],
             [
              0.7777777777777778,
              "#fb9f3a"
             ],
             [
              0.8888888888888888,
              "#fdca26"
             ],
             [
              1,
              "#f0f921"
             ]
            ],
            "type": "histogram2dcontour"
           }
          ],
          "mesh3d": [
           {
            "colorbar": {
             "outlinewidth": 0,
             "ticks": ""
            },
            "type": "mesh3d"
           }
          ],
          "parcoords": [
           {
            "line": {
             "colorbar": {
              "outlinewidth": 0,
              "ticks": ""
             }
            },
            "type": "parcoords"
           }
          ],
          "pie": [
           {
            "automargin": true,
            "type": "pie"
           }
          ],
          "scatter": [
           {
            "marker": {
             "colorbar": {
              "outlinewidth": 0,
              "ticks": ""
             }
            },
            "type": "scatter"
           }
          ],
          "scatter3d": [
           {
            "line": {
             "colorbar": {
              "outlinewidth": 0,
              "ticks": ""
             }
            },
            "marker": {
             "colorbar": {
              "outlinewidth": 0,
              "ticks": ""
             }
            },
            "type": "scatter3d"
           }
          ],
          "scattercarpet": [
           {
            "marker": {
             "colorbar": {
              "outlinewidth": 0,
              "ticks": ""
             }
            },
            "type": "scattercarpet"
           }
          ],
          "scattergeo": [
           {
            "marker": {
             "colorbar": {
              "outlinewidth": 0,
              "ticks": ""
             }
            },
            "type": "scattergeo"
           }
          ],
          "scattergl": [
           {
            "marker": {
             "colorbar": {
              "outlinewidth": 0,
              "ticks": ""
             }
            },
            "type": "scattergl"
           }
          ],
          "scattermapbox": [
           {
            "marker": {
             "colorbar": {
              "outlinewidth": 0,
              "ticks": ""
             }
            },
            "type": "scattermapbox"
           }
          ],
          "scatterpolar": [
           {
            "marker": {
             "colorbar": {
              "outlinewidth": 0,
              "ticks": ""
             }
            },
            "type": "scatterpolar"
           }
          ],
          "scatterpolargl": [
           {
            "marker": {
             "colorbar": {
              "outlinewidth": 0,
              "ticks": ""
             }
            },
            "type": "scatterpolargl"
           }
          ],
          "scatterternary": [
           {
            "marker": {
             "colorbar": {
              "outlinewidth": 0,
              "ticks": ""
             }
            },
            "type": "scatterternary"
           }
          ],
          "surface": [
           {
            "colorbar": {
             "outlinewidth": 0,
             "ticks": ""
            },
            "colorscale": [
             [
              0,
              "#0d0887"
             ],
             [
              0.1111111111111111,
              "#46039f"
             ],
             [
              0.2222222222222222,
              "#7201a8"
             ],
             [
              0.3333333333333333,
              "#9c179e"
             ],
             [
              0.4444444444444444,
              "#bd3786"
             ],
             [
              0.5555555555555556,
              "#d8576b"
             ],
             [
              0.6666666666666666,
              "#ed7953"
             ],
             [
              0.7777777777777778,
              "#fb9f3a"
             ],
             [
              0.8888888888888888,
              "#fdca26"
             ],
             [
              1,
              "#f0f921"
             ]
            ],
            "type": "surface"
           }
          ],
          "table": [
           {
            "cells": {
             "fill": {
              "color": "#EBF0F8"
             },
             "line": {
              "color": "white"
             }
            },
            "header": {
             "fill": {
              "color": "#C8D4E3"
             },
             "line": {
              "color": "white"
             }
            },
            "type": "table"
           }
          ]
         },
         "layout": {
          "annotationdefaults": {
           "arrowcolor": "#2a3f5f",
           "arrowhead": 0,
           "arrowwidth": 1
          },
          "autotypenumbers": "strict",
          "coloraxis": {
           "colorbar": {
            "outlinewidth": 0,
            "ticks": ""
           }
          },
          "colorscale": {
           "diverging": [
            [
             0,
             "#8e0152"
            ],
            [
             0.1,
             "#c51b7d"
            ],
            [
             0.2,
             "#de77ae"
            ],
            [
             0.3,
             "#f1b6da"
            ],
            [
             0.4,
             "#fde0ef"
            ],
            [
             0.5,
             "#f7f7f7"
            ],
            [
             0.6,
             "#e6f5d0"
            ],
            [
             0.7,
             "#b8e186"
            ],
            [
             0.8,
             "#7fbc41"
            ],
            [
             0.9,
             "#4d9221"
            ],
            [
             1,
             "#276419"
            ]
           ],
           "sequential": [
            [
             0,
             "#0d0887"
            ],
            [
             0.1111111111111111,
             "#46039f"
            ],
            [
             0.2222222222222222,
             "#7201a8"
            ],
            [
             0.3333333333333333,
             "#9c179e"
            ],
            [
             0.4444444444444444,
             "#bd3786"
            ],
            [
             0.5555555555555556,
             "#d8576b"
            ],
            [
             0.6666666666666666,
             "#ed7953"
            ],
            [
             0.7777777777777778,
             "#fb9f3a"
            ],
            [
             0.8888888888888888,
             "#fdca26"
            ],
            [
             1,
             "#f0f921"
            ]
           ],
           "sequentialminus": [
            [
             0,
             "#0d0887"
            ],
            [
             0.1111111111111111,
             "#46039f"
            ],
            [
             0.2222222222222222,
             "#7201a8"
            ],
            [
             0.3333333333333333,
             "#9c179e"
            ],
            [
             0.4444444444444444,
             "#bd3786"
            ],
            [
             0.5555555555555556,
             "#d8576b"
            ],
            [
             0.6666666666666666,
             "#ed7953"
            ],
            [
             0.7777777777777778,
             "#fb9f3a"
            ],
            [
             0.8888888888888888,
             "#fdca26"
            ],
            [
             1,
             "#f0f921"
            ]
           ]
          },
          "colorway": [
           "#636efa",
           "#EF553B",
           "#00cc96",
           "#ab63fa",
           "#FFA15A",
           "#19d3f3",
           "#FF6692",
           "#B6E880",
           "#FF97FF",
           "#FECB52"
          ],
          "font": {
           "color": "#2a3f5f"
          },
          "geo": {
           "bgcolor": "white",
           "lakecolor": "white",
           "landcolor": "#E5ECF6",
           "showlakes": true,
           "showland": true,
           "subunitcolor": "white"
          },
          "hoverlabel": {
           "align": "left"
          },
          "hovermode": "closest",
          "mapbox": {
           "style": "light"
          },
          "paper_bgcolor": "white",
          "plot_bgcolor": "#E5ECF6",
          "polar": {
           "angularaxis": {
            "gridcolor": "white",
            "linecolor": "white",
            "ticks": ""
           },
           "bgcolor": "#E5ECF6",
           "radialaxis": {
            "gridcolor": "white",
            "linecolor": "white",
            "ticks": ""
           }
          },
          "scene": {
           "xaxis": {
            "backgroundcolor": "#E5ECF6",
            "gridcolor": "white",
            "gridwidth": 2,
            "linecolor": "white",
            "showbackground": true,
            "ticks": "",
            "zerolinecolor": "white"
           },
           "yaxis": {
            "backgroundcolor": "#E5ECF6",
            "gridcolor": "white",
            "gridwidth": 2,
            "linecolor": "white",
            "showbackground": true,
            "ticks": "",
            "zerolinecolor": "white"
           },
           "zaxis": {
            "backgroundcolor": "#E5ECF6",
            "gridcolor": "white",
            "gridwidth": 2,
            "linecolor": "white",
            "showbackground": true,
            "ticks": "",
            "zerolinecolor": "white"
           }
          },
          "shapedefaults": {
           "line": {
            "color": "#2a3f5f"
           }
          },
          "ternary": {
           "aaxis": {
            "gridcolor": "white",
            "linecolor": "white",
            "ticks": ""
           },
           "baxis": {
            "gridcolor": "white",
            "linecolor": "white",
            "ticks": ""
           },
           "bgcolor": "#E5ECF6",
           "caxis": {
            "gridcolor": "white",
            "linecolor": "white",
            "ticks": ""
           }
          },
          "title": {
           "x": 0.05
          },
          "xaxis": {
           "automargin": true,
           "gridcolor": "white",
           "linecolor": "white",
           "ticks": "",
           "title": {
            "standoff": 15
           },
           "zerolinecolor": "white",
           "zerolinewidth": 2
          },
          "yaxis": {
           "automargin": true,
           "gridcolor": "white",
           "linecolor": "white",
           "ticks": "",
           "title": {
            "standoff": 15
           },
           "zerolinecolor": "white",
           "zerolinewidth": 2
          }
         }
        },
        "title": {
         "text": "### Accuracy of the predictions:92.92% ###"
        },
        "xaxis": {
         "anchor": "y",
         "domain": [
          0,
          0.94
         ],
         "title": {
          "text": "<b>Date</b>"
         }
        },
        "yaxis": {
         "anchor": "x",
         "domain": [
          0,
          1
         ],
         "title": {
          "text": "<b>Price</b>"
         }
        },
        "yaxis2": {
         "anchor": "x",
         "overlaying": "y",
         "side": "right",
         "title": {
          "text": "<b>Trading Volume</b>"
         }
        }
       }
      }
     },
     "metadata": {},
     "output_type": "display_data"
    },
    {
     "data": {
      "application/vnd.plotly.v1+json": {
       "config": {
        "plotlyServerURL": "https://plot.ly"
       },
       "data": [
        {
         "name": "Predicted Price",
         "type": "scatter",
         "x": [
          "2020-01-01T00:00:00.000000000",
          "2020-04-01T00:00:00.000000000",
          "2020-07-01T00:00:00.000000000",
          "2020-10-01T00:00:00.000000000",
          "2021-01-01T00:00:00.000000000"
         ],
         "xaxis": "x",
         "y": [
          3241.880859375,
          3315.3984375,
          3359.928955078125,
          3374.565185546875,
          3618.903564453125
         ],
         "yaxis": "y"
        },
        {
         "name": "Actual Price",
         "type": "scatter",
         "x": [
          "2020-01-01T00:00:00.000000000",
          "2020-04-01T00:00:00.000000000",
          "2020-07-01T00:00:00.000000000",
          "2020-10-01T00:00:00.000000000",
          "2021-01-01T00:00:00.000000000"
         ],
         "xaxis": "x",
         "y": [
          3378.1433333333334,
          3549.22,
          3832.7599999999998,
          4227.593333333333,
          4408.493333333333
         ],
         "yaxis": "y"
        },
        {
         "name": "Trading Volume",
         "opacity": 0.3,
         "type": "scatter",
         "x": [
          "2020-01-01T00:00:00.000000000",
          "2020-04-01T00:00:00.000000000",
          "2020-07-01T00:00:00.000000000",
          "2020-10-01T00:00:00.000000000",
          "2021-01-01T00:00:00.000000000"
         ],
         "xaxis": "x",
         "y": [
          41073790741,
          59851442591,
          67143491702,
          52040181958,
          51522877124.666664
         ],
         "yaxis": "y2"
        }
       ],
       "layout": {
        "template": {
         "data": {
          "bar": [
           {
            "error_x": {
             "color": "#2a3f5f"
            },
            "error_y": {
             "color": "#2a3f5f"
            },
            "marker": {
             "line": {
              "color": "#E5ECF6",
              "width": 0.5
             },
             "pattern": {
              "fillmode": "overlay",
              "size": 10,
              "solidity": 0.2
             }
            },
            "type": "bar"
           }
          ],
          "barpolar": [
           {
            "marker": {
             "line": {
              "color": "#E5ECF6",
              "width": 0.5
             },
             "pattern": {
              "fillmode": "overlay",
              "size": 10,
              "solidity": 0.2
             }
            },
            "type": "barpolar"
           }
          ],
          "carpet": [
           {
            "aaxis": {
             "endlinecolor": "#2a3f5f",
             "gridcolor": "white",
             "linecolor": "white",
             "minorgridcolor": "white",
             "startlinecolor": "#2a3f5f"
            },
            "baxis": {
             "endlinecolor": "#2a3f5f",
             "gridcolor": "white",
             "linecolor": "white",
             "minorgridcolor": "white",
             "startlinecolor": "#2a3f5f"
            },
            "type": "carpet"
           }
          ],
          "choropleth": [
           {
            "colorbar": {
             "outlinewidth": 0,
             "ticks": ""
            },
            "type": "choropleth"
           }
          ],
          "contour": [
           {
            "colorbar": {
             "outlinewidth": 0,
             "ticks": ""
            },
            "colorscale": [
             [
              0,
              "#0d0887"
             ],
             [
              0.1111111111111111,
              "#46039f"
             ],
             [
              0.2222222222222222,
              "#7201a8"
             ],
             [
              0.3333333333333333,
              "#9c179e"
             ],
             [
              0.4444444444444444,
              "#bd3786"
             ],
             [
              0.5555555555555556,
              "#d8576b"
             ],
             [
              0.6666666666666666,
              "#ed7953"
             ],
             [
              0.7777777777777778,
              "#fb9f3a"
             ],
             [
              0.8888888888888888,
              "#fdca26"
             ],
             [
              1,
              "#f0f921"
             ]
            ],
            "type": "contour"
           }
          ],
          "contourcarpet": [
           {
            "colorbar": {
             "outlinewidth": 0,
             "ticks": ""
            },
            "type": "contourcarpet"
           }
          ],
          "heatmap": [
           {
            "colorbar": {
             "outlinewidth": 0,
             "ticks": ""
            },
            "colorscale": [
             [
              0,
              "#0d0887"
             ],
             [
              0.1111111111111111,
              "#46039f"
             ],
             [
              0.2222222222222222,
              "#7201a8"
             ],
             [
              0.3333333333333333,
              "#9c179e"
             ],
             [
              0.4444444444444444,
              "#bd3786"
             ],
             [
              0.5555555555555556,
              "#d8576b"
             ],
             [
              0.6666666666666666,
              "#ed7953"
             ],
             [
              0.7777777777777778,
              "#fb9f3a"
             ],
             [
              0.8888888888888888,
              "#fdca26"
             ],
             [
              1,
              "#f0f921"
             ]
            ],
            "type": "heatmap"
           }
          ],
          "heatmapgl": [
           {
            "colorbar": {
             "outlinewidth": 0,
             "ticks": ""
            },
            "colorscale": [
             [
              0,
              "#0d0887"
             ],
             [
              0.1111111111111111,
              "#46039f"
             ],
             [
              0.2222222222222222,
              "#7201a8"
             ],
             [
              0.3333333333333333,
              "#9c179e"
             ],
             [
              0.4444444444444444,
              "#bd3786"
             ],
             [
              0.5555555555555556,
              "#d8576b"
             ],
             [
              0.6666666666666666,
              "#ed7953"
             ],
             [
              0.7777777777777778,
              "#fb9f3a"
             ],
             [
              0.8888888888888888,
              "#fdca26"
             ],
             [
              1,
              "#f0f921"
             ]
            ],
            "type": "heatmapgl"
           }
          ],
          "histogram": [
           {
            "marker": {
             "pattern": {
              "fillmode": "overlay",
              "size": 10,
              "solidity": 0.2
             }
            },
            "type": "histogram"
           }
          ],
          "histogram2d": [
           {
            "colorbar": {
             "outlinewidth": 0,
             "ticks": ""
            },
            "colorscale": [
             [
              0,
              "#0d0887"
             ],
             [
              0.1111111111111111,
              "#46039f"
             ],
             [
              0.2222222222222222,
              "#7201a8"
             ],
             [
              0.3333333333333333,
              "#9c179e"
             ],
             [
              0.4444444444444444,
              "#bd3786"
             ],
             [
              0.5555555555555556,
              "#d8576b"
             ],
             [
              0.6666666666666666,
              "#ed7953"
             ],
             [
              0.7777777777777778,
              "#fb9f3a"
             ],
             [
              0.8888888888888888,
              "#fdca26"
             ],
             [
              1,
              "#f0f921"
             ]
            ],
            "type": "histogram2d"
           }
          ],
          "histogram2dcontour": [
           {
            "colorbar": {
             "outlinewidth": 0,
             "ticks": ""
            },
            "colorscale": [
             [
              0,
              "#0d0887"
             ],
             [
              0.1111111111111111,
              "#46039f"
             ],
             [
              0.2222222222222222,
              "#7201a8"
             ],
             [
              0.3333333333333333,
              "#9c179e"
             ],
             [
              0.4444444444444444,
              "#bd3786"
             ],
             [
              0.5555555555555556,
              "#d8576b"
             ],
             [
              0.6666666666666666,
              "#ed7953"
             ],
             [
              0.7777777777777778,
              "#fb9f3a"
             ],
             [
              0.8888888888888888,
              "#fdca26"
             ],
             [
              1,
              "#f0f921"
             ]
            ],
            "type": "histogram2dcontour"
           }
          ],
          "mesh3d": [
           {
            "colorbar": {
             "outlinewidth": 0,
             "ticks": ""
            },
            "type": "mesh3d"
           }
          ],
          "parcoords": [
           {
            "line": {
             "colorbar": {
              "outlinewidth": 0,
              "ticks": ""
             }
            },
            "type": "parcoords"
           }
          ],
          "pie": [
           {
            "automargin": true,
            "type": "pie"
           }
          ],
          "scatter": [
           {
            "marker": {
             "colorbar": {
              "outlinewidth": 0,
              "ticks": ""
             }
            },
            "type": "scatter"
           }
          ],
          "scatter3d": [
           {
            "line": {
             "colorbar": {
              "outlinewidth": 0,
              "ticks": ""
             }
            },
            "marker": {
             "colorbar": {
              "outlinewidth": 0,
              "ticks": ""
             }
            },
            "type": "scatter3d"
           }
          ],
          "scattercarpet": [
           {
            "marker": {
             "colorbar": {
              "outlinewidth": 0,
              "ticks": ""
             }
            },
            "type": "scattercarpet"
           }
          ],
          "scattergeo": [
           {
            "marker": {
             "colorbar": {
              "outlinewidth": 0,
              "ticks": ""
             }
            },
            "type": "scattergeo"
           }
          ],
          "scattergl": [
           {
            "marker": {
             "colorbar": {
              "outlinewidth": 0,
              "ticks": ""
             }
            },
            "type": "scattergl"
           }
          ],
          "scattermapbox": [
           {
            "marker": {
             "colorbar": {
              "outlinewidth": 0,
              "ticks": ""
             }
            },
            "type": "scattermapbox"
           }
          ],
          "scatterpolar": [
           {
            "marker": {
             "colorbar": {
              "outlinewidth": 0,
              "ticks": ""
             }
            },
            "type": "scatterpolar"
           }
          ],
          "scatterpolargl": [
           {
            "marker": {
             "colorbar": {
              "outlinewidth": 0,
              "ticks": ""
             }
            },
            "type": "scatterpolargl"
           }
          ],
          "scatterternary": [
           {
            "marker": {
             "colorbar": {
              "outlinewidth": 0,
              "ticks": ""
             }
            },
            "type": "scatterternary"
           }
          ],
          "surface": [
           {
            "colorbar": {
             "outlinewidth": 0,
             "ticks": ""
            },
            "colorscale": [
             [
              0,
              "#0d0887"
             ],
             [
              0.1111111111111111,
              "#46039f"
             ],
             [
              0.2222222222222222,
              "#7201a8"
             ],
             [
              0.3333333333333333,
              "#9c179e"
             ],
             [
              0.4444444444444444,
              "#bd3786"
             ],
             [
              0.5555555555555556,
              "#d8576b"
             ],
             [
              0.6666666666666666,
              "#ed7953"
             ],
             [
              0.7777777777777778,
              "#fb9f3a"
             ],
             [
              0.8888888888888888,
              "#fdca26"
             ],
             [
              1,
              "#f0f921"
             ]
            ],
            "type": "surface"
           }
          ],
          "table": [
           {
            "cells": {
             "fill": {
              "color": "#EBF0F8"
             },
             "line": {
              "color": "white"
             }
            },
            "header": {
             "fill": {
              "color": "#C8D4E3"
             },
             "line": {
              "color": "white"
             }
            },
            "type": "table"
           }
          ]
         },
         "layout": {
          "annotationdefaults": {
           "arrowcolor": "#2a3f5f",
           "arrowhead": 0,
           "arrowwidth": 1
          },
          "autotypenumbers": "strict",
          "coloraxis": {
           "colorbar": {
            "outlinewidth": 0,
            "ticks": ""
           }
          },
          "colorscale": {
           "diverging": [
            [
             0,
             "#8e0152"
            ],
            [
             0.1,
             "#c51b7d"
            ],
            [
             0.2,
             "#de77ae"
            ],
            [
             0.3,
             "#f1b6da"
            ],
            [
             0.4,
             "#fde0ef"
            ],
            [
             0.5,
             "#f7f7f7"
            ],
            [
             0.6,
             "#e6f5d0"
            ],
            [
             0.7,
             "#b8e186"
            ],
            [
             0.8,
             "#7fbc41"
            ],
            [
             0.9,
             "#4d9221"
            ],
            [
             1,
             "#276419"
            ]
           ],
           "sequential": [
            [
             0,
             "#0d0887"
            ],
            [
             0.1111111111111111,
             "#46039f"
            ],
            [
             0.2222222222222222,
             "#7201a8"
            ],
            [
             0.3333333333333333,
             "#9c179e"
            ],
            [
             0.4444444444444444,
             "#bd3786"
            ],
            [
             0.5555555555555556,
             "#d8576b"
            ],
            [
             0.6666666666666666,
             "#ed7953"
            ],
            [
             0.7777777777777778,
             "#fb9f3a"
            ],
            [
             0.8888888888888888,
             "#fdca26"
            ],
            [
             1,
             "#f0f921"
            ]
           ],
           "sequentialminus": [
            [
             0,
             "#0d0887"
            ],
            [
             0.1111111111111111,
             "#46039f"
            ],
            [
             0.2222222222222222,
             "#7201a8"
            ],
            [
             0.3333333333333333,
             "#9c179e"
            ],
            [
             0.4444444444444444,
             "#bd3786"
            ],
            [
             0.5555555555555556,
             "#d8576b"
            ],
            [
             0.6666666666666666,
             "#ed7953"
            ],
            [
             0.7777777777777778,
             "#fb9f3a"
            ],
            [
             0.8888888888888888,
             "#fdca26"
            ],
            [
             1,
             "#f0f921"
            ]
           ]
          },
          "colorway": [
           "#636efa",
           "#EF553B",
           "#00cc96",
           "#ab63fa",
           "#FFA15A",
           "#19d3f3",
           "#FF6692",
           "#B6E880",
           "#FF97FF",
           "#FECB52"
          ],
          "font": {
           "color": "#2a3f5f"
          },
          "geo": {
           "bgcolor": "white",
           "lakecolor": "white",
           "landcolor": "#E5ECF6",
           "showlakes": true,
           "showland": true,
           "subunitcolor": "white"
          },
          "hoverlabel": {
           "align": "left"
          },
          "hovermode": "closest",
          "mapbox": {
           "style": "light"
          },
          "paper_bgcolor": "white",
          "plot_bgcolor": "#E5ECF6",
          "polar": {
           "angularaxis": {
            "gridcolor": "white",
            "linecolor": "white",
            "ticks": ""
           },
           "bgcolor": "#E5ECF6",
           "radialaxis": {
            "gridcolor": "white",
            "linecolor": "white",
            "ticks": ""
           }
          },
          "scene": {
           "xaxis": {
            "backgroundcolor": "#E5ECF6",
            "gridcolor": "white",
            "gridwidth": 2,
            "linecolor": "white",
            "showbackground": true,
            "ticks": "",
            "zerolinecolor": "white"
           },
           "yaxis": {
            "backgroundcolor": "#E5ECF6",
            "gridcolor": "white",
            "gridwidth": 2,
            "linecolor": "white",
            "showbackground": true,
            "ticks": "",
            "zerolinecolor": "white"
           },
           "zaxis": {
            "backgroundcolor": "#E5ECF6",
            "gridcolor": "white",
            "gridwidth": 2,
            "linecolor": "white",
            "showbackground": true,
            "ticks": "",
            "zerolinecolor": "white"
           }
          },
          "shapedefaults": {
           "line": {
            "color": "#2a3f5f"
           }
          },
          "ternary": {
           "aaxis": {
            "gridcolor": "white",
            "linecolor": "white",
            "ticks": ""
           },
           "baxis": {
            "gridcolor": "white",
            "linecolor": "white",
            "ticks": ""
           },
           "bgcolor": "#E5ECF6",
           "caxis": {
            "gridcolor": "white",
            "linecolor": "white",
            "ticks": ""
           }
          },
          "title": {
           "x": 0.05
          },
          "xaxis": {
           "automargin": true,
           "gridcolor": "white",
           "linecolor": "white",
           "ticks": "",
           "title": {
            "standoff": 15
           },
           "zerolinecolor": "white",
           "zerolinewidth": 2
          },
          "yaxis": {
           "automargin": true,
           "gridcolor": "white",
           "linecolor": "white",
           "ticks": "",
           "title": {
            "standoff": 15
           },
           "zerolinecolor": "white",
           "zerolinewidth": 2
          }
         }
        },
        "title": {
         "text": "### Accuracy of the predictions:87.78999999999999% ###"
        },
        "xaxis": {
         "anchor": "y",
         "domain": [
          0,
          0.94
         ],
         "title": {
          "text": "<b>Date</b>"
         }
        },
        "yaxis": {
         "anchor": "x",
         "domain": [
          0,
          1
         ],
         "title": {
          "text": "<b>Price</b>"
         }
        },
        "yaxis2": {
         "anchor": "x",
         "overlaying": "y",
         "side": "right",
         "title": {
          "text": "<b>Trading Volume</b>"
         }
        }
       }
      }
     },
     "metadata": {},
     "output_type": "display_data"
    },
    {
     "data": {
      "application/vnd.plotly.v1+json": {
       "config": {
        "plotlyServerURL": "https://plot.ly"
       },
       "data": [
        {
         "name": "Predicted Price",
         "type": "scatter",
         "x": [
          "2021-04-01T00:00:00.000000000",
          "2021-07-01T00:00:00.000000000",
          "2021-10-01T00:00:00.000000000",
          "2022-01-01T00:00:00.000000000",
          "2022-04-01T00:00:00.000000000"
         ],
         "xaxis": "x",
         "y": [
          3521.334716796875,
          3658.411865234375,
          3761.7900390625,
          3662.130126953125,
          3962.2373046875
         ],
         "yaxis": "y"
        },
        {
         "name": "Actual Price",
         "type": "scatter",
         "x": [
          "2021-04-01T00:00:00.000000000",
          "2021-07-01T00:00:00.000000000",
          "2021-10-01T00:00:00.000000000",
          "2022-01-01T00:00:00.000000000",
          "2022-04-01T00:00:00.000000000"
         ],
         "xaxis": "x",
         "y": [
          3549.22,
          3832.7599999999998,
          4227.593333333333,
          4408.493333333333,
          4646.1866666666665
         ],
         "yaxis": "y"
        },
        {
         "name": "Trading Volume",
         "opacity": 0.3,
         "type": "scatter",
         "x": [
          "2021-04-01T00:00:00.000000000",
          "2021-07-01T00:00:00.000000000",
          "2021-10-01T00:00:00.000000000",
          "2022-01-01T00:00:00.000000000",
          "2022-04-01T00:00:00.000000000"
         ],
         "xaxis": "x",
         "y": [
          52778597690.333336,
          45023108218.333336,
          42077255921,
          46318846241.333336,
          47426971122.666664
         ],
         "yaxis": "y2"
        }
       ],
       "layout": {
        "template": {
         "data": {
          "bar": [
           {
            "error_x": {
             "color": "#2a3f5f"
            },
            "error_y": {
             "color": "#2a3f5f"
            },
            "marker": {
             "line": {
              "color": "#E5ECF6",
              "width": 0.5
             },
             "pattern": {
              "fillmode": "overlay",
              "size": 10,
              "solidity": 0.2
             }
            },
            "type": "bar"
           }
          ],
          "barpolar": [
           {
            "marker": {
             "line": {
              "color": "#E5ECF6",
              "width": 0.5
             },
             "pattern": {
              "fillmode": "overlay",
              "size": 10,
              "solidity": 0.2
             }
            },
            "type": "barpolar"
           }
          ],
          "carpet": [
           {
            "aaxis": {
             "endlinecolor": "#2a3f5f",
             "gridcolor": "white",
             "linecolor": "white",
             "minorgridcolor": "white",
             "startlinecolor": "#2a3f5f"
            },
            "baxis": {
             "endlinecolor": "#2a3f5f",
             "gridcolor": "white",
             "linecolor": "white",
             "minorgridcolor": "white",
             "startlinecolor": "#2a3f5f"
            },
            "type": "carpet"
           }
          ],
          "choropleth": [
           {
            "colorbar": {
             "outlinewidth": 0,
             "ticks": ""
            },
            "type": "choropleth"
           }
          ],
          "contour": [
           {
            "colorbar": {
             "outlinewidth": 0,
             "ticks": ""
            },
            "colorscale": [
             [
              0,
              "#0d0887"
             ],
             [
              0.1111111111111111,
              "#46039f"
             ],
             [
              0.2222222222222222,
              "#7201a8"
             ],
             [
              0.3333333333333333,
              "#9c179e"
             ],
             [
              0.4444444444444444,
              "#bd3786"
             ],
             [
              0.5555555555555556,
              "#d8576b"
             ],
             [
              0.6666666666666666,
              "#ed7953"
             ],
             [
              0.7777777777777778,
              "#fb9f3a"
             ],
             [
              0.8888888888888888,
              "#fdca26"
             ],
             [
              1,
              "#f0f921"
             ]
            ],
            "type": "contour"
           }
          ],
          "contourcarpet": [
           {
            "colorbar": {
             "outlinewidth": 0,
             "ticks": ""
            },
            "type": "contourcarpet"
           }
          ],
          "heatmap": [
           {
            "colorbar": {
             "outlinewidth": 0,
             "ticks": ""
            },
            "colorscale": [
             [
              0,
              "#0d0887"
             ],
             [
              0.1111111111111111,
              "#46039f"
             ],
             [
              0.2222222222222222,
              "#7201a8"
             ],
             [
              0.3333333333333333,
              "#9c179e"
             ],
             [
              0.4444444444444444,
              "#bd3786"
             ],
             [
              0.5555555555555556,
              "#d8576b"
             ],
             [
              0.6666666666666666,
              "#ed7953"
             ],
             [
              0.7777777777777778,
              "#fb9f3a"
             ],
             [
              0.8888888888888888,
              "#fdca26"
             ],
             [
              1,
              "#f0f921"
             ]
            ],
            "type": "heatmap"
           }
          ],
          "heatmapgl": [
           {
            "colorbar": {
             "outlinewidth": 0,
             "ticks": ""
            },
            "colorscale": [
             [
              0,
              "#0d0887"
             ],
             [
              0.1111111111111111,
              "#46039f"
             ],
             [
              0.2222222222222222,
              "#7201a8"
             ],
             [
              0.3333333333333333,
              "#9c179e"
             ],
             [
              0.4444444444444444,
              "#bd3786"
             ],
             [
              0.5555555555555556,
              "#d8576b"
             ],
             [
              0.6666666666666666,
              "#ed7953"
             ],
             [
              0.7777777777777778,
              "#fb9f3a"
             ],
             [
              0.8888888888888888,
              "#fdca26"
             ],
             [
              1,
              "#f0f921"
             ]
            ],
            "type": "heatmapgl"
           }
          ],
          "histogram": [
           {
            "marker": {
             "pattern": {
              "fillmode": "overlay",
              "size": 10,
              "solidity": 0.2
             }
            },
            "type": "histogram"
           }
          ],
          "histogram2d": [
           {
            "colorbar": {
             "outlinewidth": 0,
             "ticks": ""
            },
            "colorscale": [
             [
              0,
              "#0d0887"
             ],
             [
              0.1111111111111111,
              "#46039f"
             ],
             [
              0.2222222222222222,
              "#7201a8"
             ],
             [
              0.3333333333333333,
              "#9c179e"
             ],
             [
              0.4444444444444444,
              "#bd3786"
             ],
             [
              0.5555555555555556,
              "#d8576b"
             ],
             [
              0.6666666666666666,
              "#ed7953"
             ],
             [
              0.7777777777777778,
              "#fb9f3a"
             ],
             [
              0.8888888888888888,
              "#fdca26"
             ],
             [
              1,
              "#f0f921"
             ]
            ],
            "type": "histogram2d"
           }
          ],
          "histogram2dcontour": [
           {
            "colorbar": {
             "outlinewidth": 0,
             "ticks": ""
            },
            "colorscale": [
             [
              0,
              "#0d0887"
             ],
             [
              0.1111111111111111,
              "#46039f"
             ],
             [
              0.2222222222222222,
              "#7201a8"
             ],
             [
              0.3333333333333333,
              "#9c179e"
             ],
             [
              0.4444444444444444,
              "#bd3786"
             ],
             [
              0.5555555555555556,
              "#d8576b"
             ],
             [
              0.6666666666666666,
              "#ed7953"
             ],
             [
              0.7777777777777778,
              "#fb9f3a"
             ],
             [
              0.8888888888888888,
              "#fdca26"
             ],
             [
              1,
              "#f0f921"
             ]
            ],
            "type": "histogram2dcontour"
           }
          ],
          "mesh3d": [
           {
            "colorbar": {
             "outlinewidth": 0,
             "ticks": ""
            },
            "type": "mesh3d"
           }
          ],
          "parcoords": [
           {
            "line": {
             "colorbar": {
              "outlinewidth": 0,
              "ticks": ""
             }
            },
            "type": "parcoords"
           }
          ],
          "pie": [
           {
            "automargin": true,
            "type": "pie"
           }
          ],
          "scatter": [
           {
            "marker": {
             "colorbar": {
              "outlinewidth": 0,
              "ticks": ""
             }
            },
            "type": "scatter"
           }
          ],
          "scatter3d": [
           {
            "line": {
             "colorbar": {
              "outlinewidth": 0,
              "ticks": ""
             }
            },
            "marker": {
             "colorbar": {
              "outlinewidth": 0,
              "ticks": ""
             }
            },
            "type": "scatter3d"
           }
          ],
          "scattercarpet": [
           {
            "marker": {
             "colorbar": {
              "outlinewidth": 0,
              "ticks": ""
             }
            },
            "type": "scattercarpet"
           }
          ],
          "scattergeo": [
           {
            "marker": {
             "colorbar": {
              "outlinewidth": 0,
              "ticks": ""
             }
            },
            "type": "scattergeo"
           }
          ],
          "scattergl": [
           {
            "marker": {
             "colorbar": {
              "outlinewidth": 0,
              "ticks": ""
             }
            },
            "type": "scattergl"
           }
          ],
          "scattermapbox": [
           {
            "marker": {
             "colorbar": {
              "outlinewidth": 0,
              "ticks": ""
             }
            },
            "type": "scattermapbox"
           }
          ],
          "scatterpolar": [
           {
            "marker": {
             "colorbar": {
              "outlinewidth": 0,
              "ticks": ""
             }
            },
            "type": "scatterpolar"
           }
          ],
          "scatterpolargl": [
           {
            "marker": {
             "colorbar": {
              "outlinewidth": 0,
              "ticks": ""
             }
            },
            "type": "scatterpolargl"
           }
          ],
          "scatterternary": [
           {
            "marker": {
             "colorbar": {
              "outlinewidth": 0,
              "ticks": ""
             }
            },
            "type": "scatterternary"
           }
          ],
          "surface": [
           {
            "colorbar": {
             "outlinewidth": 0,
             "ticks": ""
            },
            "colorscale": [
             [
              0,
              "#0d0887"
             ],
             [
              0.1111111111111111,
              "#46039f"
             ],
             [
              0.2222222222222222,
              "#7201a8"
             ],
             [
              0.3333333333333333,
              "#9c179e"
             ],
             [
              0.4444444444444444,
              "#bd3786"
             ],
             [
              0.5555555555555556,
              "#d8576b"
             ],
             [
              0.6666666666666666,
              "#ed7953"
             ],
             [
              0.7777777777777778,
              "#fb9f3a"
             ],
             [
              0.8888888888888888,
              "#fdca26"
             ],
             [
              1,
              "#f0f921"
             ]
            ],
            "type": "surface"
           }
          ],
          "table": [
           {
            "cells": {
             "fill": {
              "color": "#EBF0F8"
             },
             "line": {
              "color": "white"
             }
            },
            "header": {
             "fill": {
              "color": "#C8D4E3"
             },
             "line": {
              "color": "white"
             }
            },
            "type": "table"
           }
          ]
         },
         "layout": {
          "annotationdefaults": {
           "arrowcolor": "#2a3f5f",
           "arrowhead": 0,
           "arrowwidth": 1
          },
          "autotypenumbers": "strict",
          "coloraxis": {
           "colorbar": {
            "outlinewidth": 0,
            "ticks": ""
           }
          },
          "colorscale": {
           "diverging": [
            [
             0,
             "#8e0152"
            ],
            [
             0.1,
             "#c51b7d"
            ],
            [
             0.2,
             "#de77ae"
            ],
            [
             0.3,
             "#f1b6da"
            ],
            [
             0.4,
             "#fde0ef"
            ],
            [
             0.5,
             "#f7f7f7"
            ],
            [
             0.6,
             "#e6f5d0"
            ],
            [
             0.7,
             "#b8e186"
            ],
            [
             0.8,
             "#7fbc41"
            ],
            [
             0.9,
             "#4d9221"
            ],
            [
             1,
             "#276419"
            ]
           ],
           "sequential": [
            [
             0,
             "#0d0887"
            ],
            [
             0.1111111111111111,
             "#46039f"
            ],
            [
             0.2222222222222222,
             "#7201a8"
            ],
            [
             0.3333333333333333,
             "#9c179e"
            ],
            [
             0.4444444444444444,
             "#bd3786"
            ],
            [
             0.5555555555555556,
             "#d8576b"
            ],
            [
             0.6666666666666666,
             "#ed7953"
            ],
            [
             0.7777777777777778,
             "#fb9f3a"
            ],
            [
             0.8888888888888888,
             "#fdca26"
            ],
            [
             1,
             "#f0f921"
            ]
           ],
           "sequentialminus": [
            [
             0,
             "#0d0887"
            ],
            [
             0.1111111111111111,
             "#46039f"
            ],
            [
             0.2222222222222222,
             "#7201a8"
            ],
            [
             0.3333333333333333,
             "#9c179e"
            ],
            [
             0.4444444444444444,
             "#bd3786"
            ],
            [
             0.5555555555555556,
             "#d8576b"
            ],
            [
             0.6666666666666666,
             "#ed7953"
            ],
            [
             0.7777777777777778,
             "#fb9f3a"
            ],
            [
             0.8888888888888888,
             "#fdca26"
            ],
            [
             1,
             "#f0f921"
            ]
           ]
          },
          "colorway": [
           "#636efa",
           "#EF553B",
           "#00cc96",
           "#ab63fa",
           "#FFA15A",
           "#19d3f3",
           "#FF6692",
           "#B6E880",
           "#FF97FF",
           "#FECB52"
          ],
          "font": {
           "color": "#2a3f5f"
          },
          "geo": {
           "bgcolor": "white",
           "lakecolor": "white",
           "landcolor": "#E5ECF6",
           "showlakes": true,
           "showland": true,
           "subunitcolor": "white"
          },
          "hoverlabel": {
           "align": "left"
          },
          "hovermode": "closest",
          "mapbox": {
           "style": "light"
          },
          "paper_bgcolor": "white",
          "plot_bgcolor": "#E5ECF6",
          "polar": {
           "angularaxis": {
            "gridcolor": "white",
            "linecolor": "white",
            "ticks": ""
           },
           "bgcolor": "#E5ECF6",
           "radialaxis": {
            "gridcolor": "white",
            "linecolor": "white",
            "ticks": ""
           }
          },
          "scene": {
           "xaxis": {
            "backgroundcolor": "#E5ECF6",
            "gridcolor": "white",
            "gridwidth": 2,
            "linecolor": "white",
            "showbackground": true,
            "ticks": "",
            "zerolinecolor": "white"
           },
           "yaxis": {
            "backgroundcolor": "#E5ECF6",
            "gridcolor": "white",
            "gridwidth": 2,
            "linecolor": "white",
            "showbackground": true,
            "ticks": "",
            "zerolinecolor": "white"
           },
           "zaxis": {
            "backgroundcolor": "#E5ECF6",
            "gridcolor": "white",
            "gridwidth": 2,
            "linecolor": "white",
            "showbackground": true,
            "ticks": "",
            "zerolinecolor": "white"
           }
          },
          "shapedefaults": {
           "line": {
            "color": "#2a3f5f"
           }
          },
          "ternary": {
           "aaxis": {
            "gridcolor": "white",
            "linecolor": "white",
            "ticks": ""
           },
           "baxis": {
            "gridcolor": "white",
            "linecolor": "white",
            "ticks": ""
           },
           "bgcolor": "#E5ECF6",
           "caxis": {
            "gridcolor": "white",
            "linecolor": "white",
            "ticks": ""
           }
          },
          "title": {
           "x": 0.05
          },
          "xaxis": {
           "automargin": true,
           "gridcolor": "white",
           "linecolor": "white",
           "ticks": "",
           "title": {
            "standoff": 15
           },
           "zerolinecolor": "white",
           "zerolinewidth": 2
          },
          "yaxis": {
           "automargin": true,
           "gridcolor": "white",
           "linecolor": "white",
           "ticks": "",
           "title": {
            "standoff": 15
           },
           "zerolinecolor": "white",
           "zerolinewidth": 2
          }
         }
        },
        "title": {
         "text": "### Accuracy of the predictions:90.4% ###"
        },
        "xaxis": {
         "anchor": "y",
         "domain": [
          0,
          0.94
         ],
         "title": {
          "text": "<b>Date</b>"
         }
        },
        "yaxis": {
         "anchor": "x",
         "domain": [
          0,
          1
         ],
         "title": {
          "text": "<b>Price</b>"
         }
        },
        "yaxis2": {
         "anchor": "x",
         "overlaying": "y",
         "side": "right",
         "title": {
          "text": "<b>Trading Volume</b>"
         }
        }
       }
      }
     },
     "metadata": {},
     "output_type": "display_data"
    }
   ],
   "source": [
    "# Making predictions on test data\n",
    "X_test = X_data[-TestingRecords:]\n",
    "predicted_Price = regressor.predict(X_test)\n",
    "predicted_Price = DataScaler.inverse_transform(predicted_Price)\n",
    "print('#### Predicted Prices ####')\n",
    "print(predicted_Price)\n",
    "\n",
    "# Getting the original price values for testing data\n",
    "orig = y_test\n",
    "orig = DataScaler.inverse_transform(y_test)\n",
    "print('\\n#### Original Prices ####')\n",
    "print(orig)\n",
    "\n",
    "for i in range(len(orig)):\n",
    "    fig = make_subplots(specs=[[{\"secondary_y\": True}]])\n",
    "    \n",
    "    Prediction = predicted_Price[i]\n",
    "    Original = orig[i]\n",
    "    \n",
    "    startDateIndex=(FutureTimeSteps*TestingRecords)-FutureTimeSteps*(i+1)\n",
    "    endDateIndex=(FutureTimeSteps*TestingRecords)-FutureTimeSteps*(i+1) + FutureTimeSteps\n",
    "    TotalRows=SPX.shape[0]\n",
    "    Date = (range(FutureTimeSteps), SPX.iloc[TotalRows-endDateIndex : TotalRows-(startDateIndex) , :].index)[1].values\n",
    "    Volume = (range(FutureTimeSteps), SPX.iloc[TotalRows-endDateIndex : TotalRows-(startDateIndex) , :]['Volume'])[1].values\n",
    "    \n",
    "    # Visualising the results\n",
    "    fig.add_trace(\n",
    "        go.Scatter(x=Date, y=Prediction, name=\"Predicted Price\"), secondary_y=False)\n",
    "    \n",
    "    fig.add_trace(\n",
    "        go.Scatter(x=Date, y=Original, name=\"Actual Price\"), secondary_y=False)\n",
    "    \n",
    "    fig.add_trace(\n",
    "        go.Scatter(x=Date, y=Volume, name=\"Trading Volume\", opacity=0.3), secondary_y=True)\n",
    "    \n",
    "    fig.update_layout(\n",
    "        title_text='### Accuracy of the predictions:' + str(100 - (100*(abs(Original-Prediction)/Original)).mean().round(2)) + '% ###'\n",
    "    )\n",
    "\n",
    "    fig.update_xaxes(title_text=\"<b>Date</b>\")\n",
    "    fig.update_yaxes(title_text=\"<b>Price</b>\", secondary_y=False)\n",
    "    fig.update_yaxes(title_text=\"<b>Trading Volume</b>\", secondary_y=True)\n",
    "    \n",
    "    fig.show()"
   ]
  },
  {
   "cell_type": "markdown",
   "metadata": {},
   "source": [
    "## Testing Model on Existing Prices"
   ]
  },
  {
   "cell_type": "code",
   "execution_count": 13,
   "metadata": {},
   "outputs": [
    {
     "name": "stdout",
     "output_type": "stream",
     "text": [
      "[3.63467537e+10 4.72093722e+10 4.24409889e+10 4.02493241e+10\n",
      " 4.14706000e+10 4.10737907e+10 5.98514426e+10 6.71434917e+10\n",
      " 5.20401820e+10 5.15228771e+10 5.27785977e+10 4.50231082e+10\n",
      " 4.20772559e+10 4.63188462e+10 4.74269711e+10]\n"
     ]
    },
    {
     "data": {
      "application/vnd.plotly.v1+json": {
       "config": {
        "plotlyServerURL": "https://plot.ly"
       },
       "data": [
        {
         "name": "Last 10 Steps' Price",
         "type": "scatter",
         "x": [
          "2018-10-01T00:00:00.000000000",
          "2019-01-01T00:00:00.000000000",
          "2019-04-01T00:00:00.000000000",
          "2019-07-01T00:00:00.000000000",
          "2019-10-01T00:00:00.000000000",
          "2020-01-01T00:00:00.000000000",
          "2020-04-01T00:00:00.000000000",
          "2020-07-01T00:00:00.000000000",
          "2020-10-01T00:00:00.000000000",
          "2021-01-01T00:00:00.000000000"
         ],
         "xaxis": "x",
         "y": [
          2877.263333333334,
          2659.5866666666666,
          2774.33,
          2879.883333333333,
          2961.193333333333,
          3136.44,
          2921.443333333333,
          3019.0099999999998,
          3378.1433333333334,
          3549.22
         ],
         "yaxis": "y"
        },
        {
         "name": "Predicted Price",
         "type": "scatter",
         "x": [
          "2021-04-01T00:00:00.000000000",
          "2021-07-01T00:00:00.000000000",
          "2021-10-01T00:00:00.000000000",
          "2022-01-01T00:00:00.000000000",
          "2022-04-01T00:00:00.000000000"
         ],
         "xaxis": "x",
         "y": [
          3792.848876953125,
          3973.96826171875,
          4111.3505859375,
          3938.897216796875,
          4317.55712890625
         ],
         "yaxis": "y"
        },
        {
         "name": "Actual Price",
         "type": "scatter",
         "x": [
          "2021-04-01T00:00:00.000000000",
          "2021-07-01T00:00:00.000000000",
          "2021-10-01T00:00:00.000000000",
          "2022-01-01T00:00:00.000000000",
          "2022-04-01T00:00:00.000000000"
         ],
         "xaxis": "x",
         "y": [
          3832.7599999999998,
          4227.593333333333,
          4408.493333333333,
          4646.186666666667,
          4433.72
         ],
         "yaxis": "y"
        },
        {
         "name": "Trading Volume",
         "opacity": 0.3,
         "type": "scatter",
         "x": [
          "2018-10-01T00:00:00.000000000",
          "2019-01-01T00:00:00.000000000",
          "2019-04-01T00:00:00.000000000",
          "2019-07-01T00:00:00.000000000",
          "2019-10-01T00:00:00.000000000",
          "2020-01-01T00:00:00.000000000",
          "2020-04-01T00:00:00.000000000",
          "2020-07-01T00:00:00.000000000",
          "2020-10-01T00:00:00.000000000",
          "2021-01-01T00:00:00.000000000",
          "2021-04-01T00:00:00.000000000",
          "2021-07-01T00:00:00.000000000",
          "2021-10-01T00:00:00.000000000",
          "2022-01-01T00:00:00.000000000",
          "2022-04-01T00:00:00.000000000"
         ],
         "xaxis": "x",
         "y": [
          36346753703.333336,
          47209372222.333336,
          42440988889.666664,
          40249324074.666664,
          41470600001.666664,
          41073790741,
          59851442591,
          67143491702,
          52040181958,
          51522877124.666664,
          52778597690.333336,
          45023108218.333336,
          42077255921,
          46318846241.333336,
          47426971122.666664
         ],
         "yaxis": "y2"
        }
       ],
       "layout": {
        "template": {
         "data": {
          "bar": [
           {
            "error_x": {
             "color": "#2a3f5f"
            },
            "error_y": {
             "color": "#2a3f5f"
            },
            "marker": {
             "line": {
              "color": "#E5ECF6",
              "width": 0.5
             },
             "pattern": {
              "fillmode": "overlay",
              "size": 10,
              "solidity": 0.2
             }
            },
            "type": "bar"
           }
          ],
          "barpolar": [
           {
            "marker": {
             "line": {
              "color": "#E5ECF6",
              "width": 0.5
             },
             "pattern": {
              "fillmode": "overlay",
              "size": 10,
              "solidity": 0.2
             }
            },
            "type": "barpolar"
           }
          ],
          "carpet": [
           {
            "aaxis": {
             "endlinecolor": "#2a3f5f",
             "gridcolor": "white",
             "linecolor": "white",
             "minorgridcolor": "white",
             "startlinecolor": "#2a3f5f"
            },
            "baxis": {
             "endlinecolor": "#2a3f5f",
             "gridcolor": "white",
             "linecolor": "white",
             "minorgridcolor": "white",
             "startlinecolor": "#2a3f5f"
            },
            "type": "carpet"
           }
          ],
          "choropleth": [
           {
            "colorbar": {
             "outlinewidth": 0,
             "ticks": ""
            },
            "type": "choropleth"
           }
          ],
          "contour": [
           {
            "colorbar": {
             "outlinewidth": 0,
             "ticks": ""
            },
            "colorscale": [
             [
              0,
              "#0d0887"
             ],
             [
              0.1111111111111111,
              "#46039f"
             ],
             [
              0.2222222222222222,
              "#7201a8"
             ],
             [
              0.3333333333333333,
              "#9c179e"
             ],
             [
              0.4444444444444444,
              "#bd3786"
             ],
             [
              0.5555555555555556,
              "#d8576b"
             ],
             [
              0.6666666666666666,
              "#ed7953"
             ],
             [
              0.7777777777777778,
              "#fb9f3a"
             ],
             [
              0.8888888888888888,
              "#fdca26"
             ],
             [
              1,
              "#f0f921"
             ]
            ],
            "type": "contour"
           }
          ],
          "contourcarpet": [
           {
            "colorbar": {
             "outlinewidth": 0,
             "ticks": ""
            },
            "type": "contourcarpet"
           }
          ],
          "heatmap": [
           {
            "colorbar": {
             "outlinewidth": 0,
             "ticks": ""
            },
            "colorscale": [
             [
              0,
              "#0d0887"
             ],
             [
              0.1111111111111111,
              "#46039f"
             ],
             [
              0.2222222222222222,
              "#7201a8"
             ],
             [
              0.3333333333333333,
              "#9c179e"
             ],
             [
              0.4444444444444444,
              "#bd3786"
             ],
             [
              0.5555555555555556,
              "#d8576b"
             ],
             [
              0.6666666666666666,
              "#ed7953"
             ],
             [
              0.7777777777777778,
              "#fb9f3a"
             ],
             [
              0.8888888888888888,
              "#fdca26"
             ],
             [
              1,
              "#f0f921"
             ]
            ],
            "type": "heatmap"
           }
          ],
          "heatmapgl": [
           {
            "colorbar": {
             "outlinewidth": 0,
             "ticks": ""
            },
            "colorscale": [
             [
              0,
              "#0d0887"
             ],
             [
              0.1111111111111111,
              "#46039f"
             ],
             [
              0.2222222222222222,
              "#7201a8"
             ],
             [
              0.3333333333333333,
              "#9c179e"
             ],
             [
              0.4444444444444444,
              "#bd3786"
             ],
             [
              0.5555555555555556,
              "#d8576b"
             ],
             [
              0.6666666666666666,
              "#ed7953"
             ],
             [
              0.7777777777777778,
              "#fb9f3a"
             ],
             [
              0.8888888888888888,
              "#fdca26"
             ],
             [
              1,
              "#f0f921"
             ]
            ],
            "type": "heatmapgl"
           }
          ],
          "histogram": [
           {
            "marker": {
             "pattern": {
              "fillmode": "overlay",
              "size": 10,
              "solidity": 0.2
             }
            },
            "type": "histogram"
           }
          ],
          "histogram2d": [
           {
            "colorbar": {
             "outlinewidth": 0,
             "ticks": ""
            },
            "colorscale": [
             [
              0,
              "#0d0887"
             ],
             [
              0.1111111111111111,
              "#46039f"
             ],
             [
              0.2222222222222222,
              "#7201a8"
             ],
             [
              0.3333333333333333,
              "#9c179e"
             ],
             [
              0.4444444444444444,
              "#bd3786"
             ],
             [
              0.5555555555555556,
              "#d8576b"
             ],
             [
              0.6666666666666666,
              "#ed7953"
             ],
             [
              0.7777777777777778,
              "#fb9f3a"
             ],
             [
              0.8888888888888888,
              "#fdca26"
             ],
             [
              1,
              "#f0f921"
             ]
            ],
            "type": "histogram2d"
           }
          ],
          "histogram2dcontour": [
           {
            "colorbar": {
             "outlinewidth": 0,
             "ticks": ""
            },
            "colorscale": [
             [
              0,
              "#0d0887"
             ],
             [
              0.1111111111111111,
              "#46039f"
             ],
             [
              0.2222222222222222,
              "#7201a8"
             ],
             [
              0.3333333333333333,
              "#9c179e"
             ],
             [
              0.4444444444444444,
              "#bd3786"
             ],
             [
              0.5555555555555556,
              "#d8576b"
             ],
             [
              0.6666666666666666,
              "#ed7953"
             ],
             [
              0.7777777777777778,
              "#fb9f3a"
             ],
             [
              0.8888888888888888,
              "#fdca26"
             ],
             [
              1,
              "#f0f921"
             ]
            ],
            "type": "histogram2dcontour"
           }
          ],
          "mesh3d": [
           {
            "colorbar": {
             "outlinewidth": 0,
             "ticks": ""
            },
            "type": "mesh3d"
           }
          ],
          "parcoords": [
           {
            "line": {
             "colorbar": {
              "outlinewidth": 0,
              "ticks": ""
             }
            },
            "type": "parcoords"
           }
          ],
          "pie": [
           {
            "automargin": true,
            "type": "pie"
           }
          ],
          "scatter": [
           {
            "marker": {
             "colorbar": {
              "outlinewidth": 0,
              "ticks": ""
             }
            },
            "type": "scatter"
           }
          ],
          "scatter3d": [
           {
            "line": {
             "colorbar": {
              "outlinewidth": 0,
              "ticks": ""
             }
            },
            "marker": {
             "colorbar": {
              "outlinewidth": 0,
              "ticks": ""
             }
            },
            "type": "scatter3d"
           }
          ],
          "scattercarpet": [
           {
            "marker": {
             "colorbar": {
              "outlinewidth": 0,
              "ticks": ""
             }
            },
            "type": "scattercarpet"
           }
          ],
          "scattergeo": [
           {
            "marker": {
             "colorbar": {
              "outlinewidth": 0,
              "ticks": ""
             }
            },
            "type": "scattergeo"
           }
          ],
          "scattergl": [
           {
            "marker": {
             "colorbar": {
              "outlinewidth": 0,
              "ticks": ""
             }
            },
            "type": "scattergl"
           }
          ],
          "scattermapbox": [
           {
            "marker": {
             "colorbar": {
              "outlinewidth": 0,
              "ticks": ""
             }
            },
            "type": "scattermapbox"
           }
          ],
          "scatterpolar": [
           {
            "marker": {
             "colorbar": {
              "outlinewidth": 0,
              "ticks": ""
             }
            },
            "type": "scatterpolar"
           }
          ],
          "scatterpolargl": [
           {
            "marker": {
             "colorbar": {
              "outlinewidth": 0,
              "ticks": ""
             }
            },
            "type": "scatterpolargl"
           }
          ],
          "scatterternary": [
           {
            "marker": {
             "colorbar": {
              "outlinewidth": 0,
              "ticks": ""
             }
            },
            "type": "scatterternary"
           }
          ],
          "surface": [
           {
            "colorbar": {
             "outlinewidth": 0,
             "ticks": ""
            },
            "colorscale": [
             [
              0,
              "#0d0887"
             ],
             [
              0.1111111111111111,
              "#46039f"
             ],
             [
              0.2222222222222222,
              "#7201a8"
             ],
             [
              0.3333333333333333,
              "#9c179e"
             ],
             [
              0.4444444444444444,
              "#bd3786"
             ],
             [
              0.5555555555555556,
              "#d8576b"
             ],
             [
              0.6666666666666666,
              "#ed7953"
             ],
             [
              0.7777777777777778,
              "#fb9f3a"
             ],
             [
              0.8888888888888888,
              "#fdca26"
             ],
             [
              1,
              "#f0f921"
             ]
            ],
            "type": "surface"
           }
          ],
          "table": [
           {
            "cells": {
             "fill": {
              "color": "#EBF0F8"
             },
             "line": {
              "color": "white"
             }
            },
            "header": {
             "fill": {
              "color": "#C8D4E3"
             },
             "line": {
              "color": "white"
             }
            },
            "type": "table"
           }
          ]
         },
         "layout": {
          "annotationdefaults": {
           "arrowcolor": "#2a3f5f",
           "arrowhead": 0,
           "arrowwidth": 1
          },
          "autotypenumbers": "strict",
          "coloraxis": {
           "colorbar": {
            "outlinewidth": 0,
            "ticks": ""
           }
          },
          "colorscale": {
           "diverging": [
            [
             0,
             "#8e0152"
            ],
            [
             0.1,
             "#c51b7d"
            ],
            [
             0.2,
             "#de77ae"
            ],
            [
             0.3,
             "#f1b6da"
            ],
            [
             0.4,
             "#fde0ef"
            ],
            [
             0.5,
             "#f7f7f7"
            ],
            [
             0.6,
             "#e6f5d0"
            ],
            [
             0.7,
             "#b8e186"
            ],
            [
             0.8,
             "#7fbc41"
            ],
            [
             0.9,
             "#4d9221"
            ],
            [
             1,
             "#276419"
            ]
           ],
           "sequential": [
            [
             0,
             "#0d0887"
            ],
            [
             0.1111111111111111,
             "#46039f"
            ],
            [
             0.2222222222222222,
             "#7201a8"
            ],
            [
             0.3333333333333333,
             "#9c179e"
            ],
            [
             0.4444444444444444,
             "#bd3786"
            ],
            [
             0.5555555555555556,
             "#d8576b"
            ],
            [
             0.6666666666666666,
             "#ed7953"
            ],
            [
             0.7777777777777778,
             "#fb9f3a"
            ],
            [
             0.8888888888888888,
             "#fdca26"
            ],
            [
             1,
             "#f0f921"
            ]
           ],
           "sequentialminus": [
            [
             0,
             "#0d0887"
            ],
            [
             0.1111111111111111,
             "#46039f"
            ],
            [
             0.2222222222222222,
             "#7201a8"
            ],
            [
             0.3333333333333333,
             "#9c179e"
            ],
            [
             0.4444444444444444,
             "#bd3786"
            ],
            [
             0.5555555555555556,
             "#d8576b"
            ],
            [
             0.6666666666666666,
             "#ed7953"
            ],
            [
             0.7777777777777778,
             "#fb9f3a"
            ],
            [
             0.8888888888888888,
             "#fdca26"
            ],
            [
             1,
             "#f0f921"
            ]
           ]
          },
          "colorway": [
           "#636efa",
           "#EF553B",
           "#00cc96",
           "#ab63fa",
           "#FFA15A",
           "#19d3f3",
           "#FF6692",
           "#B6E880",
           "#FF97FF",
           "#FECB52"
          ],
          "font": {
           "color": "#2a3f5f"
          },
          "geo": {
           "bgcolor": "white",
           "lakecolor": "white",
           "landcolor": "#E5ECF6",
           "showlakes": true,
           "showland": true,
           "subunitcolor": "white"
          },
          "hoverlabel": {
           "align": "left"
          },
          "hovermode": "closest",
          "mapbox": {
           "style": "light"
          },
          "paper_bgcolor": "white",
          "plot_bgcolor": "#E5ECF6",
          "polar": {
           "angularaxis": {
            "gridcolor": "white",
            "linecolor": "white",
            "ticks": ""
           },
           "bgcolor": "#E5ECF6",
           "radialaxis": {
            "gridcolor": "white",
            "linecolor": "white",
            "ticks": ""
           }
          },
          "scene": {
           "xaxis": {
            "backgroundcolor": "#E5ECF6",
            "gridcolor": "white",
            "gridwidth": 2,
            "linecolor": "white",
            "showbackground": true,
            "ticks": "",
            "zerolinecolor": "white"
           },
           "yaxis": {
            "backgroundcolor": "#E5ECF6",
            "gridcolor": "white",
            "gridwidth": 2,
            "linecolor": "white",
            "showbackground": true,
            "ticks": "",
            "zerolinecolor": "white"
           },
           "zaxis": {
            "backgroundcolor": "#E5ECF6",
            "gridcolor": "white",
            "gridwidth": 2,
            "linecolor": "white",
            "showbackground": true,
            "ticks": "",
            "zerolinecolor": "white"
           }
          },
          "shapedefaults": {
           "line": {
            "color": "#2a3f5f"
           }
          },
          "ternary": {
           "aaxis": {
            "gridcolor": "white",
            "linecolor": "white",
            "ticks": ""
           },
           "baxis": {
            "gridcolor": "white",
            "linecolor": "white",
            "ticks": ""
           },
           "bgcolor": "#E5ECF6",
           "caxis": {
            "gridcolor": "white",
            "linecolor": "white",
            "ticks": ""
           }
          },
          "title": {
           "x": 0.05
          },
          "xaxis": {
           "automargin": true,
           "gridcolor": "white",
           "linecolor": "white",
           "ticks": "",
           "title": {
            "standoff": 15
           },
           "zerolinecolor": "white",
           "zerolinewidth": 2
          },
          "yaxis": {
           "automargin": true,
           "gridcolor": "white",
           "linecolor": "white",
           "ticks": "",
           "title": {
            "standoff": 15
           },
           "zerolinecolor": "white",
           "zerolinewidth": 2
          }
         }
        },
        "title": {
         "text": "### Accuracy of the predictions:93.68% ###"
        },
        "xaxis": {
         "anchor": "y",
         "domain": [
          0,
          0.94
         ],
         "title": {
          "text": "<b>Date</b>"
         }
        },
        "yaxis": {
         "anchor": "x",
         "domain": [
          0,
          1
         ],
         "title": {
          "text": "<b>Price</b>"
         }
        },
        "yaxis2": {
         "anchor": "x",
         "overlaying": "y",
         "side": "right",
         "title": {
          "text": "<b>Trading Volume</b>"
         }
        }
       }
      }
     },
     "metadata": {},
     "output_type": "display_data"
    }
   ],
   "source": [
    "end = 284 # 289 rows, so max end = 289-(no. of days predicting ahead)\n",
    "\n",
    "# Reshaping the data to (-1,1 )because its a single entry\n",
    "LastNDaysPrices = SPX[['Close']][end-TimeSteps:end].values\n",
    "LastNDaysPrices = LastNDaysPrices.reshape(-1, 1)\n",
    "\n",
    "Original = (range(FutureTimeSteps), SPX.iloc[end:end+FutureTimeSteps, :]['Close'])[1].values\n",
    "Date1 = (range(TimeSteps+FutureTimeSteps), SPX.iloc[end-TimeSteps : end, :].index)[1].values\n",
    "Date2 = (range(TimeSteps+FutureTimeSteps), SPX.iloc[end : end+FutureTimeSteps, :].index)[1].values\n",
    "Volume = (range(FutureTimeSteps), SPX.iloc[end-TimeSteps : end+FutureTimeSteps, :]['Volume'])[1].values\n",
    "\n",
    "print(Volume)\n",
    "\n",
    "# Scaling the data on the same level on which model was trained\n",
    "X_test = DataScaler.transform(LastNDaysPrices)\n",
    "\n",
    "NumberofSamples = 1\n",
    "TimeSteps = X_test.shape[0]\n",
    "NumberofFeatures = X_test.shape[1]\n",
    "# Reshaping the data as 3D input\n",
    "X_test = X_test.reshape(NumberofSamples,TimeSteps,NumberofFeatures)\n",
    "\n",
    "# Generating the predictions for next 5 days\n",
    "Prediction = regressor.predict(X_test)\n",
    "Prediction = DataScaler.inverse_transform(Prediction)\n",
    "Prediction = Prediction[0]\n",
    "\n",
    "LastNDaysPrices = (range(FutureTimeSteps), SPX.iloc[end-TimeSteps:end, :]['Close'])[1].values\n",
    "\n",
    "# Visualising the results\n",
    "fig = make_subplots(specs=[[{\"secondary_y\": True}]])\n",
    "\n",
    "fig.add_trace(\n",
    "    go.Scatter(x=Date1, y=LastNDaysPrices, name=f\"Last {TimeSteps} Steps' Price\"), secondary_y=False)\n",
    "\n",
    "fig.add_trace(\n",
    "    go.Scatter(x=Date2, y=Prediction, name=\"Predicted Price\"), secondary_y=False)\n",
    "\n",
    "fig.add_trace(\n",
    "    go.Scatter(x=Date2, y=Original, name=\"Actual Price\"), secondary_y=False)\n",
    "\n",
    "fig.add_trace(\n",
    "    go.Scatter(x=np.concatenate((Date1, Date2), axis=0), y=Volume, name=\"Trading Volume\", opacity=0.3), secondary_y=True)\n",
    "\n",
    "fig.update_layout(\n",
    "    title_text='### Accuracy of the predictions:' + str(100 - (100*(abs(Original-Prediction)/Original)).mean().round(2)) + '% ###'\n",
    ")\n",
    "\n",
    "fig.update_xaxes(title_text=\"<b>Date</b>\")\n",
    "fig.update_yaxes(title_text=\"<b>Price</b>\", secondary_y=False)\n",
    "fig.update_yaxes(title_text=\"<b>Trading Volume</b>\", secondary_y=True)\n",
    "\n",
    "fig.show()"
   ]
  },
  {
   "cell_type": "markdown",
   "metadata": {},
   "source": [
    "## Testing Model on Future Prices"
   ]
  },
  {
   "cell_type": "code",
   "execution_count": 14,
   "metadata": {},
   "outputs": [
    {
     "data": {
      "application/vnd.plotly.v1+json": {
       "config": {
        "plotlyServerURL": "https://plot.ly"
       },
       "data": [
        {
         "name": "Last 10 Steps' Price",
         "type": "scatter",
         "x": [
          "2020-01-01T00:00:00.000000000",
          "2020-04-01T00:00:00.000000000",
          "2020-07-01T00:00:00.000000000",
          "2020-10-01T00:00:00.000000000",
          "2021-01-01T00:00:00.000000000",
          "2021-04-01T00:00:00.000000000",
          "2021-07-01T00:00:00.000000000",
          "2021-10-01T00:00:00.000000000",
          "2022-01-01T00:00:00.000000000",
          "2022-04-01T00:00:00.000000000"
         ],
         "y": [
          3136.44,
          2921.443333333333,
          3019.0099999999998,
          3378.1433333333334,
          3549.22,
          3832.7599999999998,
          4227.593333333333,
          4408.493333333333,
          4646.186666666667,
          4433.72
         ]
        },
        {
         "name": "Predicted Price",
         "type": "scatter",
         "x": [
          "2022-07-01T00:00:00",
          "2022-10-01T00:00:00",
          "2023-01-01T00:00:00",
          "2023-04-01T00:00:00",
          "2023-07-01T00:00:00"
         ],
         "y": [
          5037.15771484375,
          5462.6396484375,
          5728.529296875,
          5162.271484375,
          6331.68603515625
         ]
        }
       ],
       "layout": {
        "template": {
         "data": {
          "bar": [
           {
            "error_x": {
             "color": "#2a3f5f"
            },
            "error_y": {
             "color": "#2a3f5f"
            },
            "marker": {
             "line": {
              "color": "#E5ECF6",
              "width": 0.5
             },
             "pattern": {
              "fillmode": "overlay",
              "size": 10,
              "solidity": 0.2
             }
            },
            "type": "bar"
           }
          ],
          "barpolar": [
           {
            "marker": {
             "line": {
              "color": "#E5ECF6",
              "width": 0.5
             },
             "pattern": {
              "fillmode": "overlay",
              "size": 10,
              "solidity": 0.2
             }
            },
            "type": "barpolar"
           }
          ],
          "carpet": [
           {
            "aaxis": {
             "endlinecolor": "#2a3f5f",
             "gridcolor": "white",
             "linecolor": "white",
             "minorgridcolor": "white",
             "startlinecolor": "#2a3f5f"
            },
            "baxis": {
             "endlinecolor": "#2a3f5f",
             "gridcolor": "white",
             "linecolor": "white",
             "minorgridcolor": "white",
             "startlinecolor": "#2a3f5f"
            },
            "type": "carpet"
           }
          ],
          "choropleth": [
           {
            "colorbar": {
             "outlinewidth": 0,
             "ticks": ""
            },
            "type": "choropleth"
           }
          ],
          "contour": [
           {
            "colorbar": {
             "outlinewidth": 0,
             "ticks": ""
            },
            "colorscale": [
             [
              0,
              "#0d0887"
             ],
             [
              0.1111111111111111,
              "#46039f"
             ],
             [
              0.2222222222222222,
              "#7201a8"
             ],
             [
              0.3333333333333333,
              "#9c179e"
             ],
             [
              0.4444444444444444,
              "#bd3786"
             ],
             [
              0.5555555555555556,
              "#d8576b"
             ],
             [
              0.6666666666666666,
              "#ed7953"
             ],
             [
              0.7777777777777778,
              "#fb9f3a"
             ],
             [
              0.8888888888888888,
              "#fdca26"
             ],
             [
              1,
              "#f0f921"
             ]
            ],
            "type": "contour"
           }
          ],
          "contourcarpet": [
           {
            "colorbar": {
             "outlinewidth": 0,
             "ticks": ""
            },
            "type": "contourcarpet"
           }
          ],
          "heatmap": [
           {
            "colorbar": {
             "outlinewidth": 0,
             "ticks": ""
            },
            "colorscale": [
             [
              0,
              "#0d0887"
             ],
             [
              0.1111111111111111,
              "#46039f"
             ],
             [
              0.2222222222222222,
              "#7201a8"
             ],
             [
              0.3333333333333333,
              "#9c179e"
             ],
             [
              0.4444444444444444,
              "#bd3786"
             ],
             [
              0.5555555555555556,
              "#d8576b"
             ],
             [
              0.6666666666666666,
              "#ed7953"
             ],
             [
              0.7777777777777778,
              "#fb9f3a"
             ],
             [
              0.8888888888888888,
              "#fdca26"
             ],
             [
              1,
              "#f0f921"
             ]
            ],
            "type": "heatmap"
           }
          ],
          "heatmapgl": [
           {
            "colorbar": {
             "outlinewidth": 0,
             "ticks": ""
            },
            "colorscale": [
             [
              0,
              "#0d0887"
             ],
             [
              0.1111111111111111,
              "#46039f"
             ],
             [
              0.2222222222222222,
              "#7201a8"
             ],
             [
              0.3333333333333333,
              "#9c179e"
             ],
             [
              0.4444444444444444,
              "#bd3786"
             ],
             [
              0.5555555555555556,
              "#d8576b"
             ],
             [
              0.6666666666666666,
              "#ed7953"
             ],
             [
              0.7777777777777778,
              "#fb9f3a"
             ],
             [
              0.8888888888888888,
              "#fdca26"
             ],
             [
              1,
              "#f0f921"
             ]
            ],
            "type": "heatmapgl"
           }
          ],
          "histogram": [
           {
            "marker": {
             "pattern": {
              "fillmode": "overlay",
              "size": 10,
              "solidity": 0.2
             }
            },
            "type": "histogram"
           }
          ],
          "histogram2d": [
           {
            "colorbar": {
             "outlinewidth": 0,
             "ticks": ""
            },
            "colorscale": [
             [
              0,
              "#0d0887"
             ],
             [
              0.1111111111111111,
              "#46039f"
             ],
             [
              0.2222222222222222,
              "#7201a8"
             ],
             [
              0.3333333333333333,
              "#9c179e"
             ],
             [
              0.4444444444444444,
              "#bd3786"
             ],
             [
              0.5555555555555556,
              "#d8576b"
             ],
             [
              0.6666666666666666,
              "#ed7953"
             ],
             [
              0.7777777777777778,
              "#fb9f3a"
             ],
             [
              0.8888888888888888,
              "#fdca26"
             ],
             [
              1,
              "#f0f921"
             ]
            ],
            "type": "histogram2d"
           }
          ],
          "histogram2dcontour": [
           {
            "colorbar": {
             "outlinewidth": 0,
             "ticks": ""
            },
            "colorscale": [
             [
              0,
              "#0d0887"
             ],
             [
              0.1111111111111111,
              "#46039f"
             ],
             [
              0.2222222222222222,
              "#7201a8"
             ],
             [
              0.3333333333333333,
              "#9c179e"
             ],
             [
              0.4444444444444444,
              "#bd3786"
             ],
             [
              0.5555555555555556,
              "#d8576b"
             ],
             [
              0.6666666666666666,
              "#ed7953"
             ],
             [
              0.7777777777777778,
              "#fb9f3a"
             ],
             [
              0.8888888888888888,
              "#fdca26"
             ],
             [
              1,
              "#f0f921"
             ]
            ],
            "type": "histogram2dcontour"
           }
          ],
          "mesh3d": [
           {
            "colorbar": {
             "outlinewidth": 0,
             "ticks": ""
            },
            "type": "mesh3d"
           }
          ],
          "parcoords": [
           {
            "line": {
             "colorbar": {
              "outlinewidth": 0,
              "ticks": ""
             }
            },
            "type": "parcoords"
           }
          ],
          "pie": [
           {
            "automargin": true,
            "type": "pie"
           }
          ],
          "scatter": [
           {
            "marker": {
             "colorbar": {
              "outlinewidth": 0,
              "ticks": ""
             }
            },
            "type": "scatter"
           }
          ],
          "scatter3d": [
           {
            "line": {
             "colorbar": {
              "outlinewidth": 0,
              "ticks": ""
             }
            },
            "marker": {
             "colorbar": {
              "outlinewidth": 0,
              "ticks": ""
             }
            },
            "type": "scatter3d"
           }
          ],
          "scattercarpet": [
           {
            "marker": {
             "colorbar": {
              "outlinewidth": 0,
              "ticks": ""
             }
            },
            "type": "scattercarpet"
           }
          ],
          "scattergeo": [
           {
            "marker": {
             "colorbar": {
              "outlinewidth": 0,
              "ticks": ""
             }
            },
            "type": "scattergeo"
           }
          ],
          "scattergl": [
           {
            "marker": {
             "colorbar": {
              "outlinewidth": 0,
              "ticks": ""
             }
            },
            "type": "scattergl"
           }
          ],
          "scattermapbox": [
           {
            "marker": {
             "colorbar": {
              "outlinewidth": 0,
              "ticks": ""
             }
            },
            "type": "scattermapbox"
           }
          ],
          "scatterpolar": [
           {
            "marker": {
             "colorbar": {
              "outlinewidth": 0,
              "ticks": ""
             }
            },
            "type": "scatterpolar"
           }
          ],
          "scatterpolargl": [
           {
            "marker": {
             "colorbar": {
              "outlinewidth": 0,
              "ticks": ""
             }
            },
            "type": "scatterpolargl"
           }
          ],
          "scatterternary": [
           {
            "marker": {
             "colorbar": {
              "outlinewidth": 0,
              "ticks": ""
             }
            },
            "type": "scatterternary"
           }
          ],
          "surface": [
           {
            "colorbar": {
             "outlinewidth": 0,
             "ticks": ""
            },
            "colorscale": [
             [
              0,
              "#0d0887"
             ],
             [
              0.1111111111111111,
              "#46039f"
             ],
             [
              0.2222222222222222,
              "#7201a8"
             ],
             [
              0.3333333333333333,
              "#9c179e"
             ],
             [
              0.4444444444444444,
              "#bd3786"
             ],
             [
              0.5555555555555556,
              "#d8576b"
             ],
             [
              0.6666666666666666,
              "#ed7953"
             ],
             [
              0.7777777777777778,
              "#fb9f3a"
             ],
             [
              0.8888888888888888,
              "#fdca26"
             ],
             [
              1,
              "#f0f921"
             ]
            ],
            "type": "surface"
           }
          ],
          "table": [
           {
            "cells": {
             "fill": {
              "color": "#EBF0F8"
             },
             "line": {
              "color": "white"
             }
            },
            "header": {
             "fill": {
              "color": "#C8D4E3"
             },
             "line": {
              "color": "white"
             }
            },
            "type": "table"
           }
          ]
         },
         "layout": {
          "annotationdefaults": {
           "arrowcolor": "#2a3f5f",
           "arrowhead": 0,
           "arrowwidth": 1
          },
          "autotypenumbers": "strict",
          "coloraxis": {
           "colorbar": {
            "outlinewidth": 0,
            "ticks": ""
           }
          },
          "colorscale": {
           "diverging": [
            [
             0,
             "#8e0152"
            ],
            [
             0.1,
             "#c51b7d"
            ],
            [
             0.2,
             "#de77ae"
            ],
            [
             0.3,
             "#f1b6da"
            ],
            [
             0.4,
             "#fde0ef"
            ],
            [
             0.5,
             "#f7f7f7"
            ],
            [
             0.6,
             "#e6f5d0"
            ],
            [
             0.7,
             "#b8e186"
            ],
            [
             0.8,
             "#7fbc41"
            ],
            [
             0.9,
             "#4d9221"
            ],
            [
             1,
             "#276419"
            ]
           ],
           "sequential": [
            [
             0,
             "#0d0887"
            ],
            [
             0.1111111111111111,
             "#46039f"
            ],
            [
             0.2222222222222222,
             "#7201a8"
            ],
            [
             0.3333333333333333,
             "#9c179e"
            ],
            [
             0.4444444444444444,
             "#bd3786"
            ],
            [
             0.5555555555555556,
             "#d8576b"
            ],
            [
             0.6666666666666666,
             "#ed7953"
            ],
            [
             0.7777777777777778,
             "#fb9f3a"
            ],
            [
             0.8888888888888888,
             "#fdca26"
            ],
            [
             1,
             "#f0f921"
            ]
           ],
           "sequentialminus": [
            [
             0,
             "#0d0887"
            ],
            [
             0.1111111111111111,
             "#46039f"
            ],
            [
             0.2222222222222222,
             "#7201a8"
            ],
            [
             0.3333333333333333,
             "#9c179e"
            ],
            [
             0.4444444444444444,
             "#bd3786"
            ],
            [
             0.5555555555555556,
             "#d8576b"
            ],
            [
             0.6666666666666666,
             "#ed7953"
            ],
            [
             0.7777777777777778,
             "#fb9f3a"
            ],
            [
             0.8888888888888888,
             "#fdca26"
            ],
            [
             1,
             "#f0f921"
            ]
           ]
          },
          "colorway": [
           "#636efa",
           "#EF553B",
           "#00cc96",
           "#ab63fa",
           "#FFA15A",
           "#19d3f3",
           "#FF6692",
           "#B6E880",
           "#FF97FF",
           "#FECB52"
          ],
          "font": {
           "color": "#2a3f5f"
          },
          "geo": {
           "bgcolor": "white",
           "lakecolor": "white",
           "landcolor": "#E5ECF6",
           "showlakes": true,
           "showland": true,
           "subunitcolor": "white"
          },
          "hoverlabel": {
           "align": "left"
          },
          "hovermode": "closest",
          "mapbox": {
           "style": "light"
          },
          "paper_bgcolor": "white",
          "plot_bgcolor": "#E5ECF6",
          "polar": {
           "angularaxis": {
            "gridcolor": "white",
            "linecolor": "white",
            "ticks": ""
           },
           "bgcolor": "#E5ECF6",
           "radialaxis": {
            "gridcolor": "white",
            "linecolor": "white",
            "ticks": ""
           }
          },
          "scene": {
           "xaxis": {
            "backgroundcolor": "#E5ECF6",
            "gridcolor": "white",
            "gridwidth": 2,
            "linecolor": "white",
            "showbackground": true,
            "ticks": "",
            "zerolinecolor": "white"
           },
           "yaxis": {
            "backgroundcolor": "#E5ECF6",
            "gridcolor": "white",
            "gridwidth": 2,
            "linecolor": "white",
            "showbackground": true,
            "ticks": "",
            "zerolinecolor": "white"
           },
           "zaxis": {
            "backgroundcolor": "#E5ECF6",
            "gridcolor": "white",
            "gridwidth": 2,
            "linecolor": "white",
            "showbackground": true,
            "ticks": "",
            "zerolinecolor": "white"
           }
          },
          "shapedefaults": {
           "line": {
            "color": "#2a3f5f"
           }
          },
          "ternary": {
           "aaxis": {
            "gridcolor": "white",
            "linecolor": "white",
            "ticks": ""
           },
           "baxis": {
            "gridcolor": "white",
            "linecolor": "white",
            "ticks": ""
           },
           "bgcolor": "#E5ECF6",
           "caxis": {
            "gridcolor": "white",
            "linecolor": "white",
            "ticks": ""
           }
          },
          "title": {
           "x": 0.05
          },
          "xaxis": {
           "automargin": true,
           "gridcolor": "white",
           "linecolor": "white",
           "ticks": "",
           "title": {
            "standoff": 15
           },
           "zerolinecolor": "white",
           "zerolinewidth": 2
          },
          "yaxis": {
           "automargin": true,
           "gridcolor": "white",
           "linecolor": "white",
           "ticks": "",
           "title": {
            "standoff": 15
           },
           "zerolinecolor": "white",
           "zerolinewidth": 2
          }
         }
        },
        "title": {
         "text": "Price for the Next 5 Days"
        },
        "xaxis": {
         "anchor": "y",
         "domain": [
          0,
          1
         ],
         "title": {
          "text": "<b>Date</b>"
         }
        },
        "yaxis": {
         "anchor": "x",
         "domain": [
          0,
          1
         ],
         "title": {
          "text": "<b>Price</b>"
         }
        }
       }
      }
     },
     "metadata": {},
     "output_type": "display_data"
    }
   ],
   "source": [
    "end = 289 # 289 rows, so max end = 289\n",
    "\n",
    "# Reshaping the data to (-1,1 )because its a single entry\n",
    "LastNDaysPrices = SPX[['Close']][end-TimeSteps:end].values\n",
    "LastNDaysPrices = LastNDaysPrices.reshape(-1, 1)\n",
    "\n",
    "# Collect dates\n",
    "Date1 = (range(TimeSteps), SPX.iloc[end-TimeSteps : end, :].index)[1].values\n",
    "Date2 = []\n",
    "for i in range (FutureTimeSteps):\n",
    "    Date2 = np.append(Date2, pd.Timestamp(Date1[len(Date1)-1]) + pd.DateOffset(months=3*i+3))\n",
    "\n",
    "# Scaling the data on the same level on which model was trained\n",
    "X_test = DataScaler.transform(LastNDaysPrices)\n",
    "\n",
    "NumberofSamples = 1\n",
    "TimeSteps = X_test.shape[0]\n",
    "NumberofFeatures = X_test.shape[1]\n",
    "# Reshaping the data as 3D input\n",
    "X_test = X_test.reshape(NumberofSamples,TimeSteps,NumberofFeatures)\n",
    "\n",
    "# Generating the predictions for next 5 days\n",
    "Prediction = regressor.predict(X_test)\n",
    "Prediction = DataScaler.inverse_transform(Prediction)\n",
    "Prediction = Prediction[0]\n",
    "\n",
    "LastNDaysPrices = (range(FutureTimeSteps), SPX.iloc[end-TimeSteps:end, :]['Close'])[1].values\n",
    "\n",
    "# Visualising the results\n",
    "fig = make_subplots(specs=[[{\"secondary_y\": False}]])\n",
    "\n",
    "fig.add_trace(\n",
    "    go.Scatter(x=Date1, y=LastNDaysPrices, name=f\"Last {TimeSteps} Steps' Price\"))\n",
    "\n",
    "fig.add_trace(\n",
    "    go.Scatter(x=Date2, y=Prediction, name=\"Predicted Price\"))\n",
    "\n",
    "fig.update_layout(\n",
    "    title_text = f'Price for the Next {FutureTimeSteps} Days'\n",
    ")\n",
    "\n",
    "fig.update_xaxes(title_text=\"<b>Date</b>\")\n",
    "fig.update_yaxes(title_text=\"<b>Price</b>\")\n",
    "\n",
    "fig.show()"
   ]
  },
  {
   "cell_type": "markdown",
   "metadata": {},
   "source": [
    "## Sources:\n",
    "SP500 Data - https://stooq.com/q/d/?s=%5Espx&c=0&i=m   \n",
    "LSTM Model - https://thinkingneuron.com/predicting-stock-prices-using-deep-learning-lstm-model-in-python/   \n",
    "FRED API - https://fred.stlouisfed.org/docs/api/fred/"
   ]
  }
 ],
 "metadata": {
  "interpreter": {
   "hash": "b3e7d128adf35087737b30ee9b16eccc2e0b006635d6397c76723b3c9e8a7b8d"
  },
  "kernelspec": {
   "display_name": "Python 3.9.7 ('base')",
   "language": "python",
   "name": "python3"
  },
  "language_info": {
   "codemirror_mode": {
    "name": "ipython",
    "version": 3
   },
   "file_extension": ".py",
   "mimetype": "text/x-python",
   "name": "python",
   "nbconvert_exporter": "python",
   "pygments_lexer": "ipython3",
   "version": "3.9.7"
  },
  "orig_nbformat": 4
 },
 "nbformat": 4,
 "nbformat_minor": 2
}
